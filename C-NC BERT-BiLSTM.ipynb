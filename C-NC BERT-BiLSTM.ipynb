{
  "cells": [
    {
      "cell_type": "code",
      "execution_count": 78,
      "metadata": {},
      "outputs": [
        {
          "name": "stdout",
          "output_type": "stream",
          "text": [
            "Using device: cuda\n"
          ]
        }
      ],
      "source": [
        "import pandas as pd\n",
        "import torch\n",
        "from sklearn.model_selection import train_test_split\n",
        "from torch.utils.data import Dataset, DataLoader\n",
        "from transformers import BertTokenizer, BertForSequenceClassification, get_scheduler, AutoTokenizer, AutoModelForSequenceClassification\n",
        "# from transformers import BertTokenizer, BertForSequenceClassification, get_scheduler\n",
        "from torch.optim import AdamW\n",
        "from sklearn.metrics import classification_report, accuracy_score\n",
        "from tqdm import tqdm\n",
        "import re\n",
        "\n",
        "# Check GPU\n",
        "device = torch.device(\"cuda\" if torch.cuda.is_available() else \"cpu\")\n",
        "print(\"Using device:\", device)"
      ]
    },
    {
      "cell_type": "markdown",
      "metadata": {
        "id": "EwRxPIGEsHmd"
      },
      "source": [
        "### BERT-BiLSTM complaint/non-complaint\n"
      ]
    },
    {
      "cell_type": "code",
      "execution_count": 79,
      "metadata": {
        "id": "mMpHewkZvAPf"
      },
      "outputs": [],
      "source": [
        "import pandas as pd\n",
        "import numpy as np\n",
        "import torch\n",
        "import torch.nn as nn\n",
        "from torch.utils.data import Dataset, DataLoader\n",
        "from transformers import BertTokenizer, BertModel, get_linear_schedule_with_warmup\n",
        "from torch.optim import AdamW\n",
        "from sklearn.model_selection import train_test_split\n",
        "from sklearn.preprocessing import LabelEncoder\n",
        "from sklearn.metrics import accuracy_score, classification_report, confusion_matrix, f1_score\n",
        "import seaborn as sns\n",
        "import matplotlib.pyplot as plt\n",
        "from tqdm import tqdm\n",
        "\n",
        "import gc"
      ]
    },
    {
      "cell_type": "code",
      "execution_count": 80,
      "metadata": {
        "id": "KFPOp-odjPdh"
      },
      "outputs": [],
      "source": [
        "df_cnc = pd.read_csv(\"eng_data_cnc.csv\")"
      ]
    },
    {
      "cell_type": "markdown",
      "metadata": {},
      "source": [
        "NaN (float) to empty string"
      ]
    },
    {
      "cell_type": "code",
      "execution_count": 81,
      "metadata": {},
      "outputs": [],
      "source": [
        "for idx, i in enumerate(df_cnc.loc[:, \"SentimentText\"]):\n",
        "    if type(i) == float:\n",
        "        df_cnc.loc[idx, \"SentimentText\"] = \"\""
      ]
    },
    {
      "cell_type": "code",
      "execution_count": 82,
      "metadata": {
        "id": "8C3V62lEjamY"
      },
      "outputs": [],
      "source": [
        "import time \n",
        "\n",
        "train_texts, val_texts, train_labels, val_labels = train_test_split(\n",
        "    df_cnc['SentimentText'].tolist(), df_cnc['label'].tolist(), test_size=0.2, random_state=(time.time_ns() % 943024)\n",
        ")"
      ]
    },
    {
      "cell_type": "code",
      "execution_count": null,
      "metadata": {},
      "outputs": [],
      "source": []
    },
    {
      "cell_type": "code",
      "execution_count": 83,
      "metadata": {
        "id": "_NV6kj4Tjd1x"
      },
      "outputs": [],
      "source": [
        "tokenizer = BertTokenizer.from_pretrained('bert-base-uncased')"
      ]
    },
    {
      "cell_type": "code",
      "execution_count": 84,
      "metadata": {
        "id": "wQIlgmUhjhmX"
      },
      "outputs": [],
      "source": [
        "class TextDataset(Dataset):\n",
        "    def __init__(self, texts, labels):\n",
        "        encodings = tokenizer(texts, truncation=True, padding=True, max_length=128)\n",
        "        self.input_ids = torch.tensor(encodings['input_ids'])\n",
        "        self.attention_mask = torch.tensor(encodings['attention_mask'])\n",
        "        self.labels = torch.tensor(labels)\n",
        "\n",
        "    def __len__(self):\n",
        "        return len(self.labels)\n",
        "\n",
        "    def __getitem__(self, idx):\n",
        "        return {\n",
        "            'input_ids': self.input_ids[idx],\n",
        "            'attention_mask': self.attention_mask[idx],\n",
        "            'labels': self.labels[idx]\n",
        "        }\n",
        "    \n",
        "train_dataset_cnc = TextDataset(train_texts, train_labels)\n",
        "val_dataset_cnc = TextDataset(val_texts, val_labels)\n",
        "\n",
        "train_loader_cnc = DataLoader(train_dataset_cnc, batch_size=32, shuffle=True)\n",
        "val_loader_cnc = DataLoader(val_dataset_cnc, batch_size=32)"
      ]
    },
    {
      "cell_type": "code",
      "execution_count": 5,
      "metadata": {
        "id": "zUiuELcqjkvT"
      },
      "outputs": [],
      "source": [
        "# class BERTBiLSTM(nn.Module):\n",
        "#     def __init__(self, num_classes, hidden_dim=128, lstm_layers=1, dropout=0.3):\n",
        "#         super(BERTBiLSTM, self).__init__()\n",
        "#         self.bert = BertModel.from_pretrained('bert-base-uncased')\n",
        "#         self.lstm = nn.LSTM(input_size=768, hidden_size=hidden_dim, num_layers=lstm_layers,\n",
        "#                             batch_first=True, bidirectional=True)\n",
        "#         self.dropout = nn.Dropout(dropout)\n",
        "#         self.fc = nn.Linear(hidden_dim * 2, num_classes)\n",
        "\n",
        "#     def forward(self, input_ids, attention_mask):\n",
        "#         outputs = self.bert(input_ids=input_ids, attention_mask=attention_mask)\n",
        "#         sequence_output = outputs.last_hidden_state\n",
        "#         lstm_output, _ = self.lstm(sequence_output)\n",
        "#         pooled_output = torch.mean(lstm_output, dim=1)\n",
        "#         x = self.dropout(pooled_output)\n",
        "#         return self.fc(x)\n",
        "\n",
        "from transformers import PreTrainedModel, PretrainedConfig\n",
        "\n",
        "class BertBiLSTMConfig(PretrainedConfig):\n",
        "    model_type = \"bert_bilstm\"\n",
        "    def __init__(self, num_classes=2, hidden_dim=128, lstm_layers=1, dropout=0.3, **kwargs):\n",
        "        self.num_classes = num_classes\n",
        "        self.hidden_dim = hidden_dim\n",
        "        self.lstm_layers = lstm_layers\n",
        "        self.dropout = dropout\n",
        "        super().__init__(**kwargs)\n",
        "\n",
        "class BERTBiLSTM(PreTrainedModel):\n",
        "    config_class = BertBiLSTMConfig\n",
        "    \n",
        "    def __init__(self, config):\n",
        "        super().__init__(config)\n",
        "        self.bert = BertModel.from_pretrained('bert-base-uncased')\n",
        "        self.lstm = nn.LSTM(\n",
        "            input_size=768,\n",
        "            hidden_size=config.hidden_dim,\n",
        "            num_layers=config.lstm_layers,\n",
        "            batch_first=True,\n",
        "            bidirectional=True\n",
        "        )\n",
        "        self.dropout = nn.Dropout(config.dropout)\n",
        "        self.fc = nn.Linear(config.hidden_dim * 2, config.num_classes)\n",
        "\n",
        "    def forward(self, input_ids, attention_mask):\n",
        "        outputs = self.bert(input_ids=input_ids, attention_mask=attention_mask)\n",
        "        sequence_output = outputs.last_hidden_state\n",
        "        lstm_output, _ = self.lstm(sequence_output)\n",
        "        pooled_output = torch.mean(lstm_output, dim=1)\n",
        "        x = self.dropout(pooled_output)\n",
        "        return self.fc(x)"
      ]
    },
    {
      "cell_type": "code",
      "execution_count": 86,
      "metadata": {
        "id": "lm6D_wP0jnYS"
      },
      "outputs": [],
      "source": [
        "device = torch.device(\"cuda\" if torch.cuda.is_available() else \"cpu\")\n",
        "num_classes = len(df_cnc['label'].value_counts())\n",
        "model = BERTBiLSTM(BertBiLSTMConfig(num_classes=num_classes, lstm_layers=1, hidden_dim=128)).to(device)\n",
        "\n",
        "EPOCHS = 6\n",
        "\n",
        "optimizer = AdamW(model.parameters(), lr=1e-5, weight_decay=0.01)\n",
        "total_steps = len(train_loader_cnc) * EPOCHS\n",
        "scheduler = get_linear_schedule_with_warmup(optimizer, num_warmup_steps=0, num_training_steps=total_steps)\n",
        "criterion = nn.CrossEntropyLoss()"
      ]
    },
    {
      "cell_type": "code",
      "execution_count": 87,
      "metadata": {
        "colab": {
          "base_uri": "https://localhost:8080/"
        },
        "id": "S-LUO6OGjp13",
        "outputId": "893ffee1-ea39-492c-f186-92123c6f6388"
      },
      "outputs": [
        {
          "name": "stderr",
          "output_type": "stream",
          "text": [
            "Training Epoch 1/6: 100%|██████████| 55/55 [00:44<00:00,  1.23it/s]\n"
          ]
        },
        {
          "name": "stdout",
          "output_type": "stream",
          "text": [
            "Epoch 1 Train Loss: 0.5236\n"
          ]
        },
        {
          "name": "stderr",
          "output_type": "stream",
          "text": [
            "Validation Epoch 1: 100%|██████████| 14/14 [00:03<00:00,  3.90it/s]\n"
          ]
        },
        {
          "name": "stdout",
          "output_type": "stream",
          "text": [
            "Epoch 1 Validation Accuracy: 0.8636\n"
          ]
        },
        {
          "name": "stderr",
          "output_type": "stream",
          "text": [
            "Training Epoch 2/6: 100%|██████████| 55/55 [00:44<00:00,  1.23it/s]\n"
          ]
        },
        {
          "name": "stdout",
          "output_type": "stream",
          "text": [
            "Epoch 2 Train Loss: 0.3713\n"
          ]
        },
        {
          "name": "stderr",
          "output_type": "stream",
          "text": [
            "Validation Epoch 2: 100%|██████████| 14/14 [00:03<00:00,  3.88it/s]\n"
          ]
        },
        {
          "name": "stdout",
          "output_type": "stream",
          "text": [
            "Epoch 2 Validation Accuracy: 0.8636\n"
          ]
        },
        {
          "name": "stderr",
          "output_type": "stream",
          "text": [
            "Training Epoch 3/6: 100%|██████████| 55/55 [00:45<00:00,  1.21it/s]\n"
          ]
        },
        {
          "name": "stdout",
          "output_type": "stream",
          "text": [
            "Epoch 3 Train Loss: 0.2891\n"
          ]
        },
        {
          "name": "stderr",
          "output_type": "stream",
          "text": [
            "Validation Epoch 3: 100%|██████████| 14/14 [00:03<00:00,  3.79it/s]\n"
          ]
        },
        {
          "name": "stdout",
          "output_type": "stream",
          "text": [
            "Epoch 3 Validation Accuracy: 0.8705\n"
          ]
        },
        {
          "name": "stderr",
          "output_type": "stream",
          "text": [
            "Training Epoch 4/6: 100%|██████████| 55/55 [00:45<00:00,  1.21it/s]\n"
          ]
        },
        {
          "name": "stdout",
          "output_type": "stream",
          "text": [
            "Epoch 4 Train Loss: 0.2315\n"
          ]
        },
        {
          "name": "stderr",
          "output_type": "stream",
          "text": [
            "Validation Epoch 4: 100%|██████████| 14/14 [00:03<00:00,  3.79it/s]\n"
          ]
        },
        {
          "name": "stdout",
          "output_type": "stream",
          "text": [
            "Epoch 4 Validation Accuracy: 0.8750\n"
          ]
        },
        {
          "name": "stderr",
          "output_type": "stream",
          "text": [
            "Training Epoch 5/6: 100%|██████████| 55/55 [00:45<00:00,  1.21it/s]\n"
          ]
        },
        {
          "name": "stdout",
          "output_type": "stream",
          "text": [
            "Epoch 5 Train Loss: 0.1862\n"
          ]
        },
        {
          "name": "stderr",
          "output_type": "stream",
          "text": [
            "Validation Epoch 5: 100%|██████████| 14/14 [00:03<00:00,  3.78it/s]\n"
          ]
        },
        {
          "name": "stdout",
          "output_type": "stream",
          "text": [
            "Epoch 5 Validation Accuracy: 0.8750\n"
          ]
        },
        {
          "name": "stderr",
          "output_type": "stream",
          "text": [
            "Training Epoch 6/6: 100%|██████████| 55/55 [00:45<00:00,  1.21it/s]\n"
          ]
        },
        {
          "name": "stdout",
          "output_type": "stream",
          "text": [
            "Epoch 6 Train Loss: 0.1601\n"
          ]
        },
        {
          "name": "stderr",
          "output_type": "stream",
          "text": [
            "Validation Epoch 6: 100%|██████████| 14/14 [00:03<00:00,  3.77it/s]"
          ]
        },
        {
          "name": "stdout",
          "output_type": "stream",
          "text": [
            "Epoch 6 Validation Accuracy: 0.8705\n"
          ]
        },
        {
          "name": "stderr",
          "output_type": "stream",
          "text": [
            "\n"
          ]
        }
      ],
      "source": [
        "for epoch in range(EPOCHS):\n",
        "    model.train()\n",
        "    train_loss = 0\n",
        "    for batch in tqdm(train_loader_cnc, desc=f\"Training Epoch {epoch+1}/{EPOCHS}\"):\n",
        "        input_ids = batch['input_ids'].to(device)\n",
        "        attention_mask = batch['attention_mask'].to(device)\n",
        "        labels = batch['labels'].to(device)\n",
        "\n",
        "        optimizer.zero_grad()\n",
        "        outputs = model(input_ids, attention_mask)\n",
        "        loss = criterion(outputs, labels)\n",
        "        loss.backward()\n",
        "        optimizer.step()\n",
        "        scheduler.step()\n",
        "\n",
        "        train_loss += loss.item()\n",
        "\n",
        "    avg_train_loss = train_loss / len(train_loader_cnc)\n",
        "    print(f\"Epoch {epoch+1} Train Loss: {avg_train_loss:.4f}\")\n",
        "\n",
        "    # Validation\n",
        "    model.eval()\n",
        "    val_preds, val_targets = [], []\n",
        "\n",
        "    with torch.no_grad():\n",
        "        for batch in tqdm(val_loader_cnc, desc=f\"Validation Epoch {epoch+1}\"):\n",
        "            input_ids = batch['input_ids'].to(device)\n",
        "            attention_mask = batch['attention_mask'].to(device)\n",
        "            labels = batch['labels'].to(device)\n",
        "\n",
        "            outputs = model(input_ids, attention_mask)\n",
        "            preds = torch.argmax(outputs, dim=1)\n",
        "\n",
        "            val_preds.extend(preds.cpu().numpy())\n",
        "            val_targets.extend(labels.cpu().numpy())\n",
        "\n",
        "    val_acc = accuracy_score(val_targets, val_preds)\n",
        "    print(f\"Epoch {epoch+1} Validation Accuracy: {val_acc:.4f}\")\n",
        "\n",
        "\n",
        "\n"
      ]
    },
    {
      "cell_type": "code",
      "execution_count": 88,
      "metadata": {
        "colab": {
          "base_uri": "https://localhost:8080/"
        },
        "id": "tn7nzqzcjshx",
        "outputId": "485de3b2-7f00-497a-9585-fb9828a6728e"
      },
      "outputs": [
        {
          "name": "stdout",
          "output_type": "stream",
          "text": [
            "\n",
            "Classification Report:\n",
            "               precision    recall  f1-score   support\n",
            "\n",
            "Non-Complaint       0.77      0.83      0.80       134\n",
            "    Complaint       0.92      0.89      0.91       306\n",
            "\n",
            "     accuracy                           0.87       440\n",
            "    macro avg       0.84      0.86      0.85       440\n",
            " weighted avg       0.87      0.87      0.87       440\n",
            "\n"
          ]
        }
      ],
      "source": [
        "print(\"\\nClassification Report:\")\n",
        "labels = [\"Non-Complaint\", \"Complaint\"]\n",
        "print(classification_report(val_targets, val_preds, target_names=labels))"
      ]
    },
    {
      "cell_type": "code",
      "execution_count": 89,
      "metadata": {},
      "outputs": [
        {
          "data": {
            "text/plain": [
              "0.9051580698835274"
            ]
          },
          "execution_count": 89,
          "metadata": {},
          "output_type": "execute_result"
        }
      ],
      "source": [
        "f1_score(val_targets, val_preds, labels=labels)"
      ]
    },
    {
      "cell_type": "code",
      "execution_count": 1,
      "metadata": {
        "colab": {
          "base_uri": "https://localhost:8080/",
          "height": 564
        },
        "id": "lAbS7xttl6zt",
        "outputId": "0bb257c2-c939-44da-e241-e100ef15f1ce"
      },
      "outputs": [
        {
          "ename": "NameError",
          "evalue": "name 'confusion_matrix' is not defined",
          "output_type": "error",
          "traceback": [
            "\u001b[31m---------------------------------------------------------------------------\u001b[39m",
            "\u001b[31mNameError\u001b[39m                                 Traceback (most recent call last)",
            "\u001b[36mCell\u001b[39m\u001b[36m \u001b[39m\u001b[32mIn[1]\u001b[39m\u001b[32m, line 2\u001b[39m\n\u001b[32m      1\u001b[39m \u001b[38;5;66;03m# Confusion Matrix\u001b[39;00m\n\u001b[32m----> \u001b[39m\u001b[32m2\u001b[39m cm = \u001b[43mconfusion_matrix\u001b[49m(val_targets, val_preds)\n\u001b[32m      3\u001b[39m \u001b[38;5;66;03m# plt.figure(figsize=(8, 6))\u001b[39;00m\n\u001b[32m      4\u001b[39m sns.heatmap(cm, annot=\u001b[38;5;28;01mTrue\u001b[39;00m, fmt=\u001b[33m'\u001b[39m\u001b[33md\u001b[39m\u001b[33m'\u001b[39m, cmap=\u001b[33m'\u001b[39m\u001b[33mBlues\u001b[39m\u001b[33m'\u001b[39m, xticklabels=labels, yticklabels=labels)\n",
            "\u001b[31mNameError\u001b[39m: name 'confusion_matrix' is not defined"
          ]
        }
      ],
      "source": [
        "# Confusion Matrix\n",
        "cm = confusion_matrix(val_targets, val_preds)\n",
        "# plt.figure(figsize=(8, 6))\n",
        "sns.heatmap(cm, annot=True, fmt='d', cmap='Blues', xticklabels=labels, yticklabels=labels)\n",
        "plt.xlabel('Predicted Label')\n",
        "plt.ylabel('Actual Label')\n",
        "# plt.title('Confusion Matrix')\n",
        "plt.show()"
      ]
    },
    {
      "cell_type": "code",
      "execution_count": 92,
      "metadata": {},
      "outputs": [],
      "source": [
        "model.save_pretrained(\"bert_bilstm_complaint_classifier\")\n",
        "tokenizer.save_pretrained(\"bert_bilstm_complaint_classifier\")\n",
        "import pickle\n",
        "\n",
        "with open('val_labels_cnc_bi.pkl', 'wb') as file:\n",
        "    pickle.dump(val_labels, file)\n",
        "with open('val_texts_cnc_bi.pkl', 'wb') as file:\n",
        "    pickle.dump(val_texts, file)\n"
      ]
    },
    {
      "cell_type": "code",
      "execution_count": 12,
      "metadata": {},
      "outputs": [],
      "source": [
        "import gc"
      ]
    },
    {
      "cell_type": "code",
      "execution_count": 101,
      "metadata": {},
      "outputs": [
        {
          "data": {
            "text/plain": [
              "8630"
            ]
          },
          "execution_count": 101,
          "metadata": {},
          "output_type": "execute_result"
        }
      ],
      "source": [
        "try: model.cpu()\n",
        "except: pass\n",
        "\n",
        "try: del model\n",
        "except: pass\n",
        "\n",
        "try: del optimizer\n",
        "except: pass\n",
        "\n",
        "try: del scheduler\n",
        "except: pass\n",
        "\n",
        "try:\n",
        "    with torch.no_grad():\n",
        "        torch.cuda.empty_cache()\n",
        "except: pass\n",
        "\n",
        "try: del torch\n",
        "except: pass\n",
        "\n",
        "try: del tqdm\n",
        "except: pass\n",
        "\n",
        "try: del Dataset, DataLoader, nn, AdamW\n",
        "except: pass\n",
        "\n",
        "\n",
        "gc.collect()"
      ]
    },
    {
      "cell_type": "code",
      "execution_count": 3,
      "metadata": {},
      "outputs": [
        {
          "name": "stdout",
          "output_type": "stream",
          "text": [
            "Sat May 10 19:17:29 2025       \n",
            "+-----------------------------------------------------------------------------------------+\n",
            "| NVIDIA-SMI 565.77                 Driver Version: 565.77         CUDA Version: 12.7     |\n",
            "|-----------------------------------------+------------------------+----------------------+\n",
            "| GPU  Name                 Persistence-M | Bus-Id          Disp.A | Volatile Uncorr. ECC |\n",
            "| Fan  Temp   Perf          Pwr:Usage/Cap |           Memory-Usage | GPU-Util  Compute M. |\n",
            "|                                         |                        |               MIG M. |\n",
            "|=========================================+========================+======================|\n",
            "|   0  NVIDIA GeForce GTX 1050 Ti     Off |   00000000:01:00.0 Off |                  N/A |\n",
            "| N/A   62C    P8             N/A / 5001W |     675MiB /   4096MiB |      0%      Default |\n",
            "|                                         |                        |                  N/A |\n",
            "+-----------------------------------------+------------------------+----------------------+\n",
            "                                                                                         \n",
            "+-----------------------------------------------------------------------------------------+\n",
            "| Processes:                                                                              |\n",
            "|  GPU   GI   CI        PID   Type   Process name                              GPU Memory |\n",
            "|        ID   ID                                                               Usage      |\n",
            "|=========================================================================================|\n",
            "|    0   N/A  N/A       803      G   /usr/lib/Xorg                                   4MiB |\n",
            "|    0   N/A  N/A     49744      C   ...e/risb/Desktop/BTP2/venv/bin/python        666MiB |\n",
            "+-----------------------------------------------------------------------------------------+\n"
          ]
        }
      ],
      "source": [
        "! nvidia-smi"
      ]
    },
    {
      "cell_type": "code",
      "execution_count": 2,
      "metadata": {},
      "outputs": [
        {
          "name": "stdout",
          "output_type": "stream",
          "text": [
            "Using device: cuda\n"
          ]
        }
      ],
      "source": [
        "import pandas as pd\n",
        "import torch\n",
        "from sklearn.model_selection import train_test_split\n",
        "from torch.utils.data import Dataset, DataLoader\n",
        "from transformers import BertTokenizer, BertForSequenceClassification\n",
        "from transformers import get_scheduler, AutoTokenizer, AutoModelForSequenceClassification\n",
        "from transformers import AutoModel, AutoTokenizer, AutoConfig\n",
        "# from transformers import BertTokenizer, BertForSequenceClassification, get_scheduler\n",
        "from torch.optim import AdamW\n",
        "from sklearn.metrics import classification_report, accuracy_score\n",
        "from tqdm import tqdm\n",
        "import re\n",
        "\n",
        "# Check GPU\n",
        "device = torch.device(\"cuda\" if torch.cuda.is_available() else \"cpu\")\n",
        "print(\"Using device:\", device)"
      ]
    },
    {
      "cell_type": "code",
      "execution_count": 1,
      "metadata": {},
      "outputs": [
        {
          "name": "stderr",
          "output_type": "stream",
          "text": [
            "/home/risb/Desktop/BTP2/venv/lib/python3.12/site-packages/tqdm/auto.py:21: TqdmWarning: IProgress not found. Please update jupyter and ipywidgets. See https://ipywidgets.readthedocs.io/en/stable/user_install.html\n",
            "  from .autonotebook import tqdm as notebook_tqdm\n"
          ]
        }
      ],
      "source": [
        "import pandas as pd\n",
        "import numpy as np\n",
        "import torch\n",
        "import torch.nn as nn\n",
        "from torch.utils.data import Dataset, DataLoader\n",
        "from transformers import BertTokenizer, BertModel, get_linear_schedule_with_warmup\n",
        "from torch.optim import AdamW\n",
        "from sklearn.model_selection import train_test_split\n",
        "from sklearn.preprocessing import LabelEncoder\n",
        "from sklearn.metrics import accuracy_score, classification_report, confusion_matrix, f1_score\n",
        "import seaborn as sns\n",
        "import matplotlib.pyplot as plt\n",
        "from tqdm import tqdm"
      ]
    },
    {
      "cell_type": "code",
      "execution_count": 6,
      "metadata": {},
      "outputs": [],
      "source": [
        "model = BERTBiLSTM.from_pretrained(\"bert_bilstm_complaint_classifier\")\n",
        "tokenizer = AutoTokenizer.from_pretrained(\"bert_bilstm_complaint_classifier\")"
      ]
    },
    {
      "cell_type": "code",
      "execution_count": 7,
      "metadata": {},
      "outputs": [
        {
          "data": {
            "text/plain": [
              "BERTBiLSTM(\n",
              "  (bert): BertModel(\n",
              "    (embeddings): BertEmbeddings(\n",
              "      (word_embeddings): Embedding(30522, 768, padding_idx=0)\n",
              "      (position_embeddings): Embedding(512, 768)\n",
              "      (token_type_embeddings): Embedding(2, 768)\n",
              "      (LayerNorm): LayerNorm((768,), eps=1e-12, elementwise_affine=True)\n",
              "      (dropout): Dropout(p=0.1, inplace=False)\n",
              "    )\n",
              "    (encoder): BertEncoder(\n",
              "      (layer): ModuleList(\n",
              "        (0-11): 12 x BertLayer(\n",
              "          (attention): BertAttention(\n",
              "            (self): BertSdpaSelfAttention(\n",
              "              (query): Linear(in_features=768, out_features=768, bias=True)\n",
              "              (key): Linear(in_features=768, out_features=768, bias=True)\n",
              "              (value): Linear(in_features=768, out_features=768, bias=True)\n",
              "              (dropout): Dropout(p=0.1, inplace=False)\n",
              "            )\n",
              "            (output): BertSelfOutput(\n",
              "              (dense): Linear(in_features=768, out_features=768, bias=True)\n",
              "              (LayerNorm): LayerNorm((768,), eps=1e-12, elementwise_affine=True)\n",
              "              (dropout): Dropout(p=0.1, inplace=False)\n",
              "            )\n",
              "          )\n",
              "          (intermediate): BertIntermediate(\n",
              "            (dense): Linear(in_features=768, out_features=3072, bias=True)\n",
              "            (intermediate_act_fn): GELUActivation()\n",
              "          )\n",
              "          (output): BertOutput(\n",
              "            (dense): Linear(in_features=3072, out_features=768, bias=True)\n",
              "            (LayerNorm): LayerNorm((768,), eps=1e-12, elementwise_affine=True)\n",
              "            (dropout): Dropout(p=0.1, inplace=False)\n",
              "          )\n",
              "        )\n",
              "      )\n",
              "    )\n",
              "    (pooler): BertPooler(\n",
              "      (dense): Linear(in_features=768, out_features=768, bias=True)\n",
              "      (activation): Tanh()\n",
              "    )\n",
              "  )\n",
              "  (lstm): LSTM(768, 128, batch_first=True, bidirectional=True)\n",
              "  (dropout): Dropout(p=0.3, inplace=False)\n",
              "  (fc): Linear(in_features=256, out_features=2, bias=True)\n",
              ")"
            ]
          },
          "execution_count": 7,
          "metadata": {},
          "output_type": "execute_result"
        }
      ],
      "source": [
        "model.to(device)"
      ]
    },
    {
      "cell_type": "code",
      "execution_count": 8,
      "metadata": {},
      "outputs": [
        {
          "name": "stdout",
          "output_type": "stream",
          "text": [
            "['railway is not taking my concern seriously', '56364 ers - srr passenger scheduled time is 17.52 . now it is 18 . 08 . still not come . no announcement too .', \"hvn't you the answer ? when will you stop ticket mafia group ? i think your officials are also involved in it 2 / 3\", 'train number 12791 coach b2 . no water in toilet since morning . kindly help', 'thank you so much sir . my money has been refunded', 'everyday magadh express 12401 running late 3 to 5 hours without any reson . is anyome have responsibility . p', 'sir kindly increase coaches in trains like begumpura ex 12237 and other to slove waiting list problem', 'at what time the chat vil be prepared ?', 'sir condition of railway colony bareilly junction . for past 5 days . please help', 'at bhubaneswar . men are standing in ladies line and i get to stand at back being a lady . why', 'sir no response from anywhere neither nor tdr rejected ,', 'sir , please read the news paper clipping and please do the needful . only you can do it .', 'many passengrs feeling stomach upset after dinner from railways pantry', 'charging point not woking in 18047 s9 - 01 . next station is visakhapatnam', 'i can be contacted at . in the train right now travelling ndls - gwl . please help . urgent !', 'sir , missing report has been lodged by group / ajmer vide number 393 / 16 dt . <date> .', 'sir , kindly look into train number 12273 , already known to you highly prestigious train but delayed every running by avg . 1.5 - 2 h', 'getting a tatkal air conditioner ticket 4am pune 2 bhubaneswar , vice - versa is very much difficult via website', 'coach filled with rats running around on walkways and bedstraveling with baby .', 'sir please have a look on it', \"train 12691 : on - board now and there'is no air conditioner . coach b2 . no proper response from ticket collector or any other officials on complaints made\", 'revised composition of kolkata and alipurduar junction . special train .', 'there is leakage of roof of train number 16346 coach no b4 at toilet and near toilet area . repair it .', 'we presently traveling from tata nagar to jammu by muri express ( 18101 ) . we are facing lot of problems mainly water in toilet .', 'please help . in securing a berth . i m a lady pgn .', 'sir , now viklang coach name should be change with divyang coach .', '( 5 / n ) requested to please help in this regard . regards , amit rajmobile no : - + 91 -', 'train reach ratnagiri but still sweating air conditioner did not start working without air conditioner in air conditioner coach', 'sir . i am trying to make tickets from new delhi to darbhanga ( bihar ) from last week not getting confirm . please help', 'i missed my connecting train ( 12525 ) due to delay in first train ( 12318 ) on 8th <date> . irctc is refusing refunds . please help .', 'in train number 12562 swatantrata senani express people from pantry car selling 15 rupees water bottle in 20 rupees .', 'hats off and your team . thanks to you', 'i booked my bike from ahmdabad to kanpur on <date> with receipt number 828988 . but till on <date> item not reached to kanpur', \"sir i'am a dally passenger or manei shahadra station pr kafi logo ki pocket ktatey hue suna h . lagbhag dally\", 'spreading foodfor service at washdoors incoaches persistingin rajdhanitoo . litterbinwith foodresidues kept closebyalso . stopit', 'which city was first to get water atm at railway station ? which cities have installed water atms ? please reply asap', 'in such cases what is the way out . please suggest solutions', 'thanks for destination alert today in azad hind express at badneravery very good', 'tryng to buk a ticket since 15 days for my old and ailing grndfather . agents askng 2 k more for a sleeper ticket . what to do ?', 'increasing unauthorised travellers in 1st class of mumbai locals beyond thane due to rare sites of tts', '', 'kindly look into this', 'travlling in train number 15024 ypr gkp from kcg to lko . vendors ovrcharging for cold drinks / chips by rupees 5 . tea for rupees10', 'two copassengers fought brutally , 1 got a head injury . 1 ! his', 'drm sir , booked motorbike luggage with prr yesterday , still not loaded to any sdah bound train .', 'we are traveling in 19806 we have child who is vomiting much and water is not in any coach . please fill water in coaches and help', 'friend in puri suvida express . coach s7both the washrooms are stinking , cant even stand near them . : please help .', 'ratlam inquire office given me a wrong information i suffered a lot due to that . please take a strict action .', 'sir please listen our voice , its our constitutional right', 'sir , there is no local from lonavala to pune between 8.20 to 10.10 am which wastes so much useful time please do something', 'passengers who drop till aburoad are not served frooty and icecream . although are charged for it .', 'escalator is bad idea : costly installation and maintenance ; potential danger of safety and corruption !', 'whole coach b1 is suffering in train number 18510 which just left hyderabad . please take some action immediately !', 'sir . i am travelling in coach d - 2 seat number 22,23 in 12498 sorry to say that wastewater of washbasen is coming into', '', 'please mk ticket collector wear nameplats on duty or they will be not authorize to chk ticket . they dont wear nameplate and tk money', \"ind rail enquiry sys is down from last 1 / 2 an hour . unable to track train'is location\", '9 months of regular complaint , no solution , bharat bdl rha h', 'what do you mean by n / a', '', 'ntes showing 12393 arrived at 8:05 at ndls . train not arrived till 8:40 proof attchd', \"thanks sir today'is proposed starting of saharsa purnea line under ecr , we request you to start hate bazare through this line\", 'thnks for baby food in selected stations . cant there be essential medical stores , under jan aushadhi scheme ?', 'shows confirmed status with no coach no and berth no . can you please verify this one .', 'and the tatkal ticket booking site does not operates smoothly while booking tickets . please look into the matter sir', '19916 intercity express mg is getting late each day . it is requested to make the stoppage of every express train at 8 am', 'help ! help ! 2 handbags with valuables stolen . how safe is travel on indian rail ! - 8 1 4 5 5 1 1 i31 , .', 'prabhu ji , your working 4the country looks like a dream . v are lucky to have such a dedicated railway minister .', 'the google i1 button is used 5 billion times day . ( source : alltwitter )', 'is going into another level â \\x9d ¤ never ever thought any minister would give us world class facilities', 'sir i am ankit singh previous day i had booked a ticket in tatkal quota but i get wt list please help me ,', 'mistake made by my staff by not taking platform ticket but no reciept given for fine paid in yesvantpur blr .', \"i'am travelling in 64563 at present , no security man here and gents are travelling in ladies coach . train is abt 2 reach morinda\", '- total irctc website is down . unable to book tatkal . site is not reachable form last one hours', '', 'please . help to get nearby seat for my two daughters age 7 given seat in different coach . , phone no .', 'dirty and used blanket and used bedroll given no one is responding very bad', 'our is food is pathetic , water is not cool , cold drings is warm and sandwitch is stale .', 'is going into another level ❤ never ever thought any minister would give us world class facilities', 'sir please help travelling with family and still 4 seats are waiting list njp to dli dt . <date> please help', 'train 16209 is overloaded with wait listed passengers . please run extra train during pick load .', 'no proper maintenance in samatha express light and fan not working at', \"it'is 20:40 train is in kota but no one contacted or solves the airconditioner matter in 12218 a1\", 'brave work of railway police soldier at railway station -', 'my uncle trevelling to train number 15656 coach no - b2 . he found that the toilet of this coach is very dirty . please do something .', 'dear sir pleasemake regular ticket checking in every trainthere are lots of people travelling without ticket bihar ppl commonly', 'below stated train waste almost one and half hour on platform please try to fix up less time ! help', 'add triveniganj ( bihar ) on railway map . there was a railway route in british era . lakhs of people are waiting', 'unremoved heavy bedrolls , stinky smell , emergency cleanup required', 'finger brokenof my frnd by falling from upper berth , cannot find any medical assistance', 'let me c the gut of your ministry', 'proper maintenance in samatha express light and fan not working at', 'traveled 3stations in last few days . never seen stations so clean and hygienic . coaches and toilets absolutely clean', 'why the train start 2 hours late from the beginning ?', 'indian railway is improving its services . thanks team railway .', 'non compliance of rule at delhi railway station by policeman ajay kumar . he is leaving people without scanning goods', ': 12190 air conditioner not working . kids and old age suffering in a vaccume in 45 degrees from last 4 hours . please help . next stop gwl', 'please dear sir arjent help me . i hope you . please please mobile no - / please sir', 'unreserved people sitting near toilets female passengers finding difficult to use washroom coach s12', '', 'train number 13288 is delayed by about 3 hours , but ntes says its on time and has reached .', 'my numbr is this and trainno . 1 2 1 6 4 i am waiting for chart but the chart is not prepared yet i am waiting from 8.00 pm', 'sir please delay the train by 10 min please', 'pregnant lady needs the help of some lady doctor immediately , her', 'sir , my cousion has confirmed reservation to chindwrara and also has confirmation message .', 'train number 12683 travelled on <date> awy to otp in s5 71 ticket collector collected sleeper charge not issued receipt', 'very dirty kamakhaya plateform number 4 see the mentally retaired people and bagger at plateform no cleaning', \"irctc website was better in lalu'is time for common man . please allocate sometime for tatkal quota for common man\", 'jhansi group denied hlp . he is waiting for connecting train at jhansi . please look into it . help him', 'medical issue need air conditioner coach atleast to sbp if anyth possible please help train 18005 ready to born any extra cost .', 'sbp div observed intl . level crossing awareness day il cad . staff counseling public', '', 'mumbai local trains get stranded for long hours during rains every year . a permanent solution is long due .', 'irctc shows this stupid error when trying to book tatkal . i lost and did not get tikt . tnx to awesome bugs', 'water being wasted at ltt ( mumbai ) . no action taken by the station master .', 'train handled over late by more than 6 hours from previous division , kindly update .', \"i'am on general ticket counter on nhh stsn and clerk says ticket will be given 30 min before train arrival , is it rule ?\", 'i am scheduled to fly to ccu from kl tomorrow ( werkxb ) , got an email saying my flight has been', 'as i orderd food from train from e catering , i dont have any print out of ordr slip , which they require .', 'train number 12985 temporary halt at alwar wef <date> for a period of 6 months - needs to be checked as it is still coming .', ', coach s11 - 47 has none fan working , repaired in jhansi but stopd working after 40 min please help', 'train number 12177 , , train departed from hwh junction but water didnt filled in any bogie . no water .', 'my father is travelling with 211-9093949 and he informed me that all the fans are not working in his coach cnt', 'please consider having more nos western toilets in 2 / 3 air conditioner coaches as many elderly travel who have problems . thanks', '', 'fan is not working in train : 12295 coach s2 - 47 / 48 . please assist .', 'sir please do sumthng abt middle birth as there is a technical fault it hangs only on 1 clip which is vry dangerous', 'rules of british india still exist in railway . lost section engineer job and junior engineer job because of medical standards .', 'what action has been taken by drm delhi , did you receive any update .', 'sbp div obsvd intl . l - crossing awareness day il cad . civil defence group counseling public', 'sir , sri mohd . jamshed mt , sri p . guha principal ed ( coachg ) ð \\x9f \\x99 \\x8f kindly re', '', 'eatables are sold at railway platforms at much higher cost than retail price e . g . , water bottle retail price rupees . 15 but sold at rupees . 20 . please contrl', 'enhancing passenger experience and mobilizing resources rate my government -', 'how many more innocent people will have to suffering this kind of', 'train last 2 - 3 coach', 'the train is at ambala cantt now the train has now become a passenger one with anyone boarding help', 'problem in logging in , site is not available', 'ladies are at home . male membrs from there family waits in the queue in there name . why so ? bhubaneswar', 'dunno why cancellation charges are levied on auto cancellation of tatkal waiting list tickets .', 'thanks sir light has came', 'how can we respect 23 people who lost life on elphinstone bridge 2017 ? they must be remembered in some manner whe', 'train is very much dirty . so i requesting to you to clean the passenger trains also as well as sf , rajdhanis .', 'read : construction of manila - clark railway project to start soon . the contract for the construction supervision and', 'dear rail minister , please help . around 60 people barddhaman junction due to cancellation of train 13131 . please help them asap', '', 'please increase the frequency of local train between hosur to yesvantpur , it will benefit thousands of people', 'will i get any response or help . can i expect . soon', 'wi - fi and integrated security system for lucknow junction . / ner inaug . by honourable home min . and honourable mosr .', \"change atitude of babu'is at wardha station . tried 2 request men to throw botles in dustbin . they asked me 2 find 1\", 'please share train no', 'no light station please check', 'was expecting some help , but no go . berths are 40 and 48', '', 'it is happening in ranchi head post office . i experienced the same in namkum station day before yesterday when i went there .', 'have lost my laptop bag in nzm indb ( 12416 ) on 1 1 jan15 . and fir number 29 / 15 ,', 'fantasy book boost i a rtg ear tg as msg ian1 mg tab tw4rw new release deryk ( dragon hearts 2 )', 'venders at all railway stations are seling edible items more than retail price . complaint on tolfree no provided not yielded fruitful result .', 'railway crossing awareness week was celebrated with nukkad natak aimed to educate public', 'poor service by railways .', 'onway to motihari via muzaffarpur station promises more for bihar than what it had gotten all these years .', 'and one s5 35 allotted for two persons kindly help', 'please support to allocate another berth for my parents . - train : 12447 , hpp to nzm , p1 - rc , b1 , 47 / p2 - rc , b1 , 47', 'while getting down from train at 5 . 30 am from b 4 coach seat number 56 train number 12661 pothigai express , . please help', 'booked goods as luggage on <date> from jalpaiguri from to be sent to jammu . goods still not despat', 'no light and fan working in s4 coach in 15013 at dli railway station . please help', 'sir is there any plan or proposal to electrify rampur kathgodam and bareilly lal . kuan junction route in coming years', 'inconvenience regretted , matter is being taken up for further necessary action', 'train 12833 date <date> is in correct time or delayed please inform me because i got some message but no update online', 'har baat nirali har andaaj nirala . never seen such gentle minister . dedicated to work and only work', 'i know no boby react to the mater', 'please do not do that again . we do not want our most competent railway minister to get injured or anything .', '', 'got stale snacks in train number 12791 in evening . ( berth number 55 b - 2 , 3 a ) . vendor argued and denied .', \"snacks served in shatabdi from ahmedabad to mumbai not fresh . it'is smelling .\", 'boarded train number 04416 , starting from new delhi station . b2 compartment is completely dirty .', 'seat number 40 too many people sitting in the reservation compartment without reservation', 'they do not have performance appraisal and variable pay . so obvio', 's watch bharat abhiyaan train stops at kozhikod ( calicut ) but no one comes in 12218 coacha1 no water', 'i ask city police constable allowed without ticket and without authority in any coach in train', 'is any action taken or ju', 'no one can sit anywhere , as there is water from every where inside compartment .', '', 'we are 4 person traveling from train number 11071 in coach no b3 , no water supply since morning , please help .', 'copassenger playing loud music , not obeying the ticket collector too , sort it out', 'did not receive refund for failed and canceled tickets on 2 2 and may . transaction ids are and', 'please arrange water in toilets in train number 14236 at ab1 coach', ': r you sure agents are not bkng tatkal tickets at 10am . 12424 , 248 3 air conditioner + 80 2 air conditioner booked in jst 2 - 3 mns', 'still vendors are selling local local products like water etc . inside the train', 'not replying to complaints . u r cheating', 'i have the video', 'even the superfast trains are not equipped with pantry cars .', '', '', 'punitive action needs to be taken against vendors seling articles more than retail price . tolfree no takes long waiting time aprox 30 m', 'selling tea of rupees . 10 instead of rupees . 7 and water bottle is selling of local company of rupees 20 .', 'my cell phone number is', \"please change deccan queen'is d7 to gen to stop old queen and kings'sufferings . deccan queen irctc\", 'thank for your reply', 'there is no any intimation by railway about the tatkal ticket cancelation and - train n12430', '( ) the food quality is very low in this train . please improve', 'railway must write in every ticket that \" if you are travelling from important work do not travel by train \" .', 'every where i see that how water is being wasted in railway st where is infrastructure', '12334 / vibhuti express - allahabad city / aly to howrah / hwh why this train cant run with 24 coach why running 18 coach , add 6 sleeper', 'announcement done !', '', 'i booked ticket in whch mistkenly my aunt and mothers gender remains male will you tell me how i chnge tht in my ticket', 'gajraula junction gjl up needs day time express trains from gajraula to delhi', '. hi sir . please check the irctc website . the individual cannot login for self', 'sir , i am awaiting your response on status of expansion plan of railway track from ahmedabad to himmatnagar . ( narrow to broad', 'sir , please hlp my sis travlng vid 9 months baby + 2 kid intrain12479lost her reticule - she is vry depressd - - , please asist', 'if a person buys ticket online and if its not confirmed then why that ticket is not a we', 'continuos water wastage for om southern most tap at patna junction platform number 9 . dont know whom to contact', 'inauguration of 3rd line btw manoharpur and posaita by', 'sir , i think by using irctc railway making fool to passengerat the time of booking they are giving option for food but .', 'matter informed to concern officials . regards', 'sir please make sure that dhr is not neglected cz later it might become a parking lot', 'air conditioner 2 coach stinking like a loo in jaipur udaipur 19665', 'no electricity on coach no . s3 train number 24370 please reply fast', 'thanks . cleaning staff did not come till 04:40then our train arrived andwe left .', 'kindly conduct routine ticket checking passenger train between saharanpur to delhi . via meerut . lost of people without ticket', '', 'if men wil stnd in ladies line too why thn havng a separate ladies counter ? bhubaneswar', 'sir i am coming from cmc vellore , i am not feeling well , please stop the train number 13352 on chennai station for 30 min , if posible', 'sir please clarify if no berth opted for a child passenger but half fare paid . is the child entitled to meals like copassengers', 'dear sir , please see the attached image and do the needful .', ':, train : 04416 . b2 - 38 . charger point is not working . please get it fixed .', ', no police patrolling in 17037 . suspicious people ( thieves ) jumped before adi . pantry car people selling water at more than retail price .', 'i am having air conditioner with irctc and today i was loged in at 8am , i have seen the within 8.01 am all air conditioner tickets are sold .', 'travelling in 24370 . triveni express . there is no electricity in coach s2 . there is complete dark . train is at allahabad now', 'railway was never been so irresponsible . so called fake development is happening . railway was never been so irresponsible . ?', 'matter notified to the concerned officials', 'air conditioner blowing warm air feeling to die in this closed compartment', 'were is tha pune - goa train . 12780 . the real time ( 4:20pm ) is pass . what is this .', 'railway was never been so irresponsible . so called fake development is happening . railway was never been so irresponsible . ð \\x9f \\x98 ¤ ð \\x9f \\x98 ¤', 'petition all you like , if continually cut pso and under invest in public transport the travell', 'platform number 4 and 5 of bhopal needs to be cleaned immediately . my waiting', 'saturday motivation punish the murderers of engineer husband who was thrown out of train by', 'sir waiting at gurgaon railway station for 12958 rajdhani express but no information as per enquiry', '+ - please hlp my sis travlng vid 9 months baby + 2 kids intrain12479 , lost her reticule - she is depressd - -', 'dear sir , i am traveling in awadh assam express , there is no water in washroom and so dirty coach .', 'kinly help with irctc refund doing follow up with irctc since 2 4th may .', '. kindly finish the padil bajal underpass', 'is from kolkata to njp . coach no . g8 , berth number 77 and 78 . ticket collector is not providing seat . what do i do with a baby', '- , train 12394 can you give rate list for veg food for this train , they are charging 100 rupees for that', 'kindly share number . matter forwarded to the concerned officials', '22420 suhaildev express is trolled after moradabad from 1st run . please tke act .', 'sir its our country honor that people like you are minister . various point are there that now you need to touch', 'commutters of mumbai wants to say thanks to sr . dsc bhalode for assuring action in ladies coach', 'kindly share number .', 'please take strict action against them . they are defaming your and our pm hard work .', 'inform me please', 'just one suggestion , start frequent flyer program 4 rail and give free upgrade 2 first class once points reach', 'if you have delayed for me then thank you so muchboarded on train thank you so much again', 'i was very frustated as my train 51422 was delayed for 2 hours', 'luggage booked on <date> prr no not received', 'traveling in train number 12493 from pune . no cleaning services . mosquito and flies in comprtmnt . please tkaction', 'what should i do ? retail price is 15 / - , where i can complain ?', 'kindly share your', 'further train number 12583 is not clean . bathrooms are not properly cleaned . in bathrooms ther is liquid soap 70 percent water mixed .', 'there is huge huge scope to improve train bathroom . they are extremely dirty and spread germs mumbai india', 'vendor simply overcharging for ? ? . charging 20 rupees instead of 1 5 rupees printed retail price .', 'i booked a ticket in nizamuddin eranakulam duronto and is and current status is ckwl2', 'i do not know how transgenders enter in sleeper class without valid ticket and bag for money and bother young boys .', 'sirohi rajasthan railway counter hacked by unauthorized agent . poor public facing problem . no governance .', 'we are 64 people will be travel in train number 12971 on 1 4th july , we have 20 + aged members and have only 4 lower seats .', '- , travelling tomorrow with wife and kid ( 1 . 5 years ) . tickets confirmed but berth unallocated , can i get 1 lower birth ?', 'no lights at be platform 4 , pitch dark from late evening to early morning . inconvenience to passengers .', 'i have a booking in train number 07006 rxl - hyb special from gaya but when i want to see the current is', 'sir i am travel bza to nzm is fan not working please help .', 'sir , running of train number 68005 ( tata - kharagpur ) between ghatsila and tata is always affected by goods train', 'trasation id cwdr / 000000542336 / 0 8 0 6 1 6 0 cwdr / 000000532812 / 0 8 0 6 1 6 0 cwdr / 000000625490 / 0806160', 's2 and s4 toilet choked up 11093staaled at cheeoki for past 1 hour', 'we are travelling in train number 22634 from delhi to udupi . there is no liquid shop available in the train . in ha 1 coach .', 'varanasi sealdah upper india express is getting too late everyday . we are so much depending on this train . please solve this problem sir', 'sir meri complaint kuch nahi huwa', 'having very bad experience by railway ticket collector in g3 of 12984 seat 10 , ticket collector not even rplyd prprly when asked abt seat 4 ladies', 'look outside the boundary wall of old delhi railway station . mess . by vendors , accumulated garbage , traffic jam , unusable urinals .', '', 'time table cost should be covered by giving ad on every page down side as in either map . timetable of 2006 is a master piece', \"kindly allow the mobile user'is to book tickets during 8 - 12 am also on irctc app currently the app is not useful\", 'sir , please remove side middle berth seat option in all garib rath trains . this create problem for passengers .', 'i am travelling in 12436 dbrt rajdhani express . no charging point on side lower / upper berth . this is not fair very bad experience .', \"please remove'berth preference'in tatkal booking . we want ticket anyhw on any berth , so'your choice has not met'is jst time consuming\", 'i had heard that irctc will not charge service charge from <date> on online ticket but you are still deducting !', 'station no announcement for garib nawaj express and enquiry does not know on which plform and no board also .', 'sir water bottle for rupees 20 and tea for 10 at villupuram junction take action', \"where to complaint about irctc'is principal agent oxigen services pvt ltd against mal practices ?\", '- *urgent* pease hlp my sis travlng vid 9 months baby + 2 kids intrain12479 , lost her reticule - she is depressd - -', 'train number 14649 . s7 - 47 coach does not have lights . coach overcrowded . . please do smething . mo .', 'at nzm railway station , think you guys playing with the security of country and passenger do serious', \". i've been trying for tatkal from ndls to jsme in 12304 since last 7 days but either server gets unavailable or finish\", \"what'is the reason behind the delay of 9 hours of 14312 ala hazrat express . we had to go back home from station .\", '1st clss harbour line service ( panvel ) in mumbai never checked by ticket collector many 2 and clss ticket holder commute through 1st clss', 'matter advised to concerned official for necessary action .', '2 / 2 i have an interview to attend on 1 3th june please help me sir please sir i can not afford any other mode please', 'ministry of railwaysâ launchedâ 1stâ swarna rajdhani ( train number 12314 new delhi - sealdah rajdhani ) rake today . a major', 'to be patient and puts the blame on the payment gateway . how much more am i supposed to wait sir ?', 'rt treat yourself to a romantic adventure among the fae this weekend and be enchanted ! free w /', '. sir when will be taking furthr action adv <date> sse p way sr zone . medical , joining . no information given by sr hq chhanai', 'unauthorized vendors selling food beverages and water in train 14645 and taking overprice', 'hundreds of people waiting at plateform 13 since last 5 hours . is any one take responsibility ? 2 / 2', \"it'is true and strict action should be taken against people doing so . few months back had issued rate lis\", '\" nr does not purchase national herald for distribution in trains . ei', 'want help . ticket wainting list number 1 . ( rajdhani ) - . very urgent to visit . please . date of travel <date>', 'dustbin at vizag station displays gandhiji is this the way to treat father of nation', 'please look into the matter', 'pathetic satitution in viashali ex b112554 . commercial staff allows general ticket passanger in coach after takeing bribe urgent', 'need water for drink , no water bottle available in train please help . this passenger with her family s8 77', 'please look in my issue . i am from malda region .', 'railminindia details not available please .', 'will you fix this ? inaccessible to common users while agents make killing .', 'will be attended at kota . please share your mobile no .', 'sir what you people are doing for railway please increase general bhogies from kcg to bnc .', 'how it possible in tatkal that all the 256 available garib rath seats are booked within 1.5 min . ? is there any hidden tricks ?', 'seat number : 6 5 train name : west coast exptrain number : 2 2 6 3 8 place is not clean', \"sir no water in b2 and coach is also not clean at train 04416 . it'is really difficult to travel with kids . please do something\", 'many trains never reached dest . on time , why not change their time for passenger convenience so they plan acc', 'just starting rain central line is running late . great arrangements by mumbai local train service . hats off', 'sir i am in 12394 sampoorna kranti s2 48 , catering team is doing coruption . they are selling rupees15 item in rupees20', 'tweet number 3 , late again today during morning peak hours by 20 - 25 mins . jam packed . made in india .', '', 'water not available in train number 2 2 9 4 4 coach s10', 'railway is making mockery of its passengers through so called suvidha express , unnecessarily running late , for what ( 1 / 2 )', 'travelling to surat to kanpurtrain no 02534 very bed condition of washbasin no water please take step', 'sir , you are brother could not be traced despite best efforts . please . lodge missing report with group / varansi .', 'ð \\x9f \\x90 ± highlander hellcat ð \\x9f \\x92 \\x95 quirky veterinarian ð \\x9f \\x91 © â \\x80 \\x8d â \\x9a \\x95 ï ¸ \\x8f paranormal romance fantasy free kindle audiobook audible', 'kindly look into this', 'meri ek coplaint hai . please solve krdo', '- train number 22461 , b9selling local water bottle in train rupees20 / - . print rupees15 . railneer not available . please look .', 'travelling15657 new alipurduar to guwahati . no new bed covers and smelling bed sheet . blanket condition pathetic . disappointed', 'kindly share your', 'i placed an order on food - on - track and made the payment online . neither the food was delivered , nor a refund was made . help !', 'sir charging point is not working proper atandent telling what i do train number 19579 874746496 coach b210 11', 'but it is not at all impressive to see the pantryman with tip collection tray in rajdhanis . imagine same in ai', 'people of india thank you via twitter for the work you have done to improve image of railways prabhu ki raftaar', 'ntes national train enquiry system is not updating mumbai localtrain running info properly', 'amount debited but reservation failed . request support and pay back of entire amount', ', , sir , comesum h nizamuddin has served spoiled food today evening , they should be penalise , please check and do nedfl', '05513 train ne ltt 1:30pm . phuchai hai . ye kesi suvidha spcl train thi . 1 9 0 0 rupees charge from bsb . pani nhi coach me', \"reachd 5am to book ticket . there'is a queue of men in ladies line . there lady wil join the line only at 8 . how justified ?\", '', '18237 engine failed at silyari they still making the announcement that train is coming they should announce the expected time', 'and ticket collecter full support but railway employs groupd is not allowed any coach in train and ticket collecter use some', 'varanasi bound running shivganga express 12560 vendor are selling mineral water other than rail neer . iceling and pawan brand sold', 'ticketless travellers , ticket collector - less coaches , tapless bathrooms , waterless flush and feces - filled toilets . 2 / 2', 'educated people leave india be coz poor quality of life . we want high quality railways and railway stations .', '- sir , no development in gya mgs route regarding pasenger trains , their irregular running , frqeuncies , deficient nr , worse boggies .', \"please increase the number of bogies for train 06591 . hosur to yeshwanthpur . it'is tightly packed everyday , no place to stand\", 'cleanliness across all stations of from coimbatore tiruppur erode salem jolarpet witnessed . happy . but speed ?', 'when will express / superfast trains from agartala to guwahati will start ? we are waiting for it so long .', 'using irctc tatkal service ruined my journey . poor server response . website hang / not open toady for 45 min', 'whr the nation is dreaming abt bullet train , our railway can not even run the existing trains on time .', 'replace the boggie at the latest', 'case crime no . 0016 , date <date> , group kasganj , dist - kashiram nagar , please look it and solve it .', 'wrote to sir suresh prabhu but still not received reply . forwrdng you the pic message of my tweet . please hlp', 'train 13005 rescheduled 21:05 but still not depart . its sad . already 2 hours late .', 'the train 63142 has stopped due to engine breakdown since last 2 hours . creating long ag', 'in train number 12183 , there is no water i . coach no . se - 4 for use in toilets', '', 'sir please help in train number 54077 as s2 boggie is not even attached . my frnd is travling wd family facing prblm .', 'can i get any reply please whether positive or negative .', 'air conditioner of ha1 is not working in 12368 vikramshila express . drenched in sweat . please help !', 'dear sir i have book a ticket and i cancelled but the refund is not given by you please help', '2 hours journey completed in 6 hours excluding waiting time 3 - 5 hours . you should take responsibility mostly trains late 5 t', 'my mther suffering from cancer stge 4 , have to go tmh mumbai . please hlp me to get cnfrm brth tn12138', 'sharing express of last journey by train on <date> train 12222 be1 was full of cockroaches .', 'if not gov should appoint an body to manage traffic atleast to save fuel and effort of people in early morning', 'train 12554 , doj 10 / 6 / 1 6 in frst general coach2and part people are fighting and in another only few people are there , why', 'hi sir , i request you to increase the train services from gummidipoondi to chennai as we suffer lot', 'cleanliness guidelines should be set for all passengers and should be ascertained that they are strictly followed', 'hello sir i want going to village , i have no money buy of ticket . what i do please help me', '', 'rajdhani even getting so late', ': train number 12561 , on the nse the status is showing as abt 2 reach hjp , but no announcement made , please 1 / 2', 'the only fob at shahad station is under maintenance . please arrange railway police for guiding people while crossing tracks', 'trying to book a tatkal ticket from last 3 day but daily same problem exist . please do some needful', 'give new train from bihar', 'sir we have booked tickets in mahanagri express . but my mom is alone in s8 and we are in s3 . please help .', 'we are follow to \" pm idea stop corruption \" . thanks to ministry of railway for stoping tatkal ticket corruption . thanks', \": train02396 b2 air conditioner didn't wrk at all from starting please refund the ticket thanks\", 'uts application not working properly . taking wrong birth date . not giving alerts after expired of pass . taking next days date .', 'water scarcity in palamu express 12348 . not a single drop of water in toilet from origin in s4', 'train is at halt for the last 4.5 hours amidst of jungle , wt the fkk is happening ?', 'traveling by 12005ndl - chd shatabdi , pathetic condition , no water in toilets , train runing late apparently without any reason', 'at yamuna nagar jagadhri railway station ( haryana ) the having most passengers . no suitable parking , encroachments', 'valve number 136 on platform number 6 is open and the water is draining down the sewage ! please instruct', 'i also lodge complaint on coms but the situation is as it is .', 'sir , i have booked a ticket yesterday online from delhi to patna but it was not confirmed and money has also not been refunded', 'my reserved ticket was been allotted to reserved passenger as we boarded from next station . kindly please help 🙏', 'sir , attended you are mother at berhampur and khurda road , but she had no problem . thanks for calling us .', 'water getting wasted at panvel station maharastra platform number 7 . help draught situation', 'check out thief catcher on the prolific reader ! insta freebie free book what to read', 'please update the status of today 12141 ltt ppta express departure from ltt .', 'this is information about kanpur railwaystation', 'i am on 19061 ramnagar express an early morning train without pantry , but food facilities required .', 'need mdical 1 . having blood vomits', '', 'suvidha railway is charging too much . this is called real loot in the name of confirm ticket without water and food in 05527', ': , 9 and 36 both are side upper in three seated coach . i am traveling with my wife and she is not well', 'audio system at charbagh railway station is very poor . no announcement can be heard clearly .', 'sir can we get for which we all are paying or just cha', '14208 held up between bareilly and shahjanpur . delayed by 2.5 hours . no other train on route is delayed . y 14208 victimizd ?', '', 'my mom 73 a cancer patient lost her tatahospital smart card in train ( cont )', 'irctc is not responding at the time of tatkal booking .', 'mobile stolen , need 1 help to track it', 'sir can you please let me know who will be doing the name chaï ¿ ½ge i eticket . no one is responding here in my place . please help', '- , air conditioner not working , dirty towel and pillow cover .', 'train number 15017 travelling from last 30 hours without air conditioner . destination gorakhpur on 1 9 1 0 hours 1 0 th', 'please do needful to get water in train number 18104 ( tata amritsar express . ) in b1 coach', 'all of the 3 seats are far apart in sarvodaya express . they will board from mathura junction . [ 2 ]', \"i have booked my ticket online but didn't get any sms or mail confirmation about reservation .\", \"it'is coach no . b4 of h / nizamudin - pune air conditioner spl . train no . 04418 dt . <date> . see the condition of air conditioner coach .\", 'and complete the work of double line from jalgaon to udhna asap . due2this , we have limited trains2travel with inhuman rush', 'hi , is there any rule as 2 upto what reserved number just prior chart preparation , full berth will be allotted in sleeper class ?', 'can not we restrict unauthorized person to enter in reserved classes of train .', 'sir , new stations and platforms have bn made recently in indore still there are no slide over bridges . disappointing', 'most dirt in railways come groundnuts ( moongfali ) waste and food waste . please make railways clean', 'tried to book tatkal ticket . made the payment 10.02 am both days , but failed get a ticket . agent manage 2 get ticket . how ? smell a rat', 'why train status not shown on ntes when train is running delay be / w mughalsarai and allahabad . much frustrated .', 'train 12724 has been at a halt since 30 mins at hazrat nizamudd', 'respected sir , please look into the matter of tatkal booking as middleman are eating away the tickets in abundance .', 'waiting from 4 days to get a response from railway', '', '', 'sorry for inconvenience , matter noted', 'no ticket collector in train number 22928 s3 . co passengers with heavy luggage are not allowing other to put luggage in passage', 'help about failed transaction ( trans id - ) after booking ticket', 'sir', 'neither cooler working at platform number 1 re nor water available in tap', 'travelling from bpl to cwa due to urgent reasons , had 1 confirmed 3 - tier air conditioner ticket .', 'we go mtj to ksj 55340 but befr ksj thief pulled my mom gold chain and ksj railway police , group not file fir', 'sir i requested for wheelchair for my old mother on bareilly station but no help provided . i am disappointed .', 'the air conditioning is not effective in a2 coach of mysuru express from chennai central', 'train16507 coach a1 and a2 air conditioner not working from lst 4 - 5 hours , need help , suffocation and hot , attendent not taking action', 'awareness consumers can now whatsapp complaint of overpricing', 'tweet number 1 . suburban central trains late again by 20 - 25 mins during peak hour . jam packed . made in india', 'train no - 14312 has started 10 hours late itself . it has caused immense inconvenience and loss . - ( 1 / 2 )', 'need medical assistance for a child travelling in train number 15097 , coach no - b2 , contact no -']\n",
            "[0, 1, 1, 1, 0, 1, 1, 1, 1, 1, 1, 0, 1, 1, 1, 0, 1, 1, 1, 0, 1, 0, 1, 1, 1, 1, 0, 1, 1, 1, 1, 0, 1, 1, 1, 0, 1, 0, 1, 1, 0, 0, 1, 1, 1, 1, 1, 1, 0, 1, 1, 1, 1, 1, 0, 1, 1, 0, 0, 0, 1, 0, 0, 1, 1, 1, 1, 0, 0, 0, 1, 1, 1, 1, 0, 1, 1, 1, 1, 1, 1, 1, 1, 0, 1, 1, 1, 1, 1, 1, 0, 1, 0, 1, 0, 1, 1, 0, 1, 0, 1, 1, 1, 1, 1, 1, 1, 1, 1, 1, 0, 0, 0, 1, 1, 1, 1, 0, 0, 1, 1, 1, 1, 1, 0, 1, 1, 1, 0, 0, 0, 0, 1, 0, 1, 0, 1, 0, 1, 1, 0, 0, 1, 0, 1, 0, 1, 0, 1, 1, 0, 1, 0, 0, 0, 1, 0, 1, 0, 1, 1, 1, 1, 0, 1, 1, 0, 0, 1, 0, 0, 0, 0, 1, 1, 1, 1, 0, 1, 1, 0, 1, 0, 1, 1, 1, 1, 1, 1, 0, 0, 1, 0, 0, 1, 1, 0, 1, 0, 1, 1, 0, 1, 1, 0, 0, 1, 1, 1, 0, 1, 1, 1, 0, 1, 0, 0, 1, 1, 1, 1, 0, 1, 1, 1, 0, 1, 1, 1, 1, 1, 0, 1, 1, 0, 0, 1, 0, 1, 1, 1, 1, 1, 1, 1, 0, 1, 1, 1, 0, 0, 0, 1, 0, 1, 1, 1, 0, 0, 1, 1, 1, 0, 1, 1, 1, 1, 1, 1, 1, 1, 0, 1, 1, 1, 0, 1, 1, 0, 0, 1, 1, 1, 1, 1, 1, 1, 0, 1, 1, 1, 1, 1, 1, 0, 1, 0, 1, 0, 1, 1, 1, 1, 0, 1, 0, 0, 1, 1, 0, 0, 1, 0, 1, 1, 1, 1, 1, 1, 1, 1, 0, 1, 1, 1, 0, 0, 0, 0, 1, 1, 0, 1, 1, 1, 1, 1, 1, 1, 1, 1, 0, 1, 1, 1, 1, 1, 1, 1, 1, 0, 1, 0, 1, 1, 0, 1, 1, 1, 0, 1, 0, 1, 1, 1, 1, 1, 0, 1, 1, 1, 0, 0, 1, 1, 1, 1, 1, 1, 1, 1, 1, 1, 1, 1, 0, 1, 0, 1, 1, 0, 1, 0, 1, 0, 1, 1, 0, 1, 1, 1, 0, 1, 0, 1, 1, 1, 1, 1, 1, 1, 1, 1, 1, 1, 0, 1, 1, 1, 1, 1, 1, 1, 0, 0, 0, 0, 1, 1, 0, 1, 1, 1, 1, 1, 1, 0, 1, 1, 1]\n"
          ]
        }
      ],
      "source": [
        "import pickle\n",
        "\n",
        "with open('val_texts_cnc_bi.pkl', 'rb') as file:\n",
        "    val_texts = pickle.load(file)  # Deserialize[2][6]\n",
        "print(val_texts)  # Output: {'name': 'Alice', ...}\n",
        "with open('val_labels_cnc_bi.pkl', 'rb') as file:\n",
        "    val_labels = pickle.load(file)  # Deserialize[2][6]\n",
        "print(val_labels)  # Output: {'name': 'Alice', ...}"
      ]
    },
    {
      "cell_type": "code",
      "execution_count": 9,
      "metadata": {},
      "outputs": [],
      "source": [
        "class TextDataset(Dataset):\n",
        "    def __init__(self, texts, labels):\n",
        "        encodings = tokenizer(texts, truncation=True, padding=True, max_length=128)\n",
        "        self.input_ids = torch.tensor(encodings['input_ids'])\n",
        "        self.attention_mask = torch.tensor(encodings['attention_mask'])\n",
        "        self.labels = torch.tensor(labels)\n",
        "\n",
        "    def __len__(self):\n",
        "        return len(self.labels)\n",
        "\n",
        "    def __getitem__(self, idx):\n",
        "        return {\n",
        "            'input_ids': self.input_ids[idx],\n",
        "            'attention_mask': self.attention_mask[idx],\n",
        "            'labels': self.labels[idx]\n",
        "        }\n",
        "\n",
        "val_dataset_cnc = TextDataset(val_texts, val_labels)\n",
        "val_loader_cnc = DataLoader(val_dataset_cnc, batch_size=32)"
      ]
    },
    {
      "cell_type": "code",
      "execution_count": 10,
      "metadata": {},
      "outputs": [],
      "source": [
        "def evaluate(model, val_loader):\n",
        "    model.eval()\n",
        "    val_preds, val_targets = [], []\n",
        "    \n",
        "    with torch.no_grad():\n",
        "        for batch in val_loader:\n",
        "            input_ids = batch['input_ids'].to(device)\n",
        "            attention_mask = batch['attention_mask'].to(device)\n",
        "            labels = batch['labels'].to(device)\n",
        "            \n",
        "            outputs = model(input_ids, attention_mask)\n",
        "            preds = torch.argmax(outputs, dim=1)\n",
        "            \n",
        "            val_preds.extend(preds.cpu().numpy())\n",
        "            val_targets.extend(labels.cpu().numpy())\n",
        "    \n",
        "    return (val_targets, val_preds)\n",
        "\n",
        "(val_targets, val_preds) = evaluate(model, val_loader_cnc)"
      ]
    },
    {
      "cell_type": "code",
      "execution_count": 11,
      "metadata": {},
      "outputs": [
        {
          "name": "stdout",
          "output_type": "stream",
          "text": [
            "\n",
            "Classification Report:\n",
            "               precision    recall  f1-score   support\n",
            "\n",
            "Non-Complaint       0.77      0.83      0.80       134\n",
            "    Complaint       0.92      0.89      0.91       306\n",
            "\n",
            "     accuracy                           0.87       440\n",
            "    macro avg       0.84      0.86      0.85       440\n",
            " weighted avg       0.87      0.87      0.87       440\n",
            "\n"
          ]
        }
      ],
      "source": [
        "print(\"\\nClassification Report:\")\n",
        "labels = [\"Non-Complaint\", \"Complaint\"]\n",
        "print(classification_report(val_targets, val_preds, target_names=labels))"
      ]
    },
    {
      "cell_type": "code",
      "execution_count": 12,
      "metadata": {},
      "outputs": [
        {
          "data": {
            "image/png": "[encoded data removed]",
            "text/plain": [
              "<Figure size 640x480 with 2 Axes>"
            ]
          },
          "metadata": {},
          "output_type": "display_data"
        }
      ],
      "source": [
        "cm = confusion_matrix(val_targets, val_preds)\n",
        "# plt.figure(figsize=(8, 6))\n",
        "sns.heatmap(cm, annot=True, fmt='d', cmap='Blues', xticklabels=labels, yticklabels=labels)\n",
        "plt.xlabel('Predicted Label')\n",
        "plt.ylabel('Actual Label')\n",
        "# plt.title('Confusion Matrix')\n",
        "plt.show()"
      ]
    },
    {
      "cell_type": "code",
      "execution_count": 13,
      "metadata": {},
      "outputs": [
        {
          "data": {
            "text/plain": [
              "4496"
            ]
          },
          "execution_count": 13,
          "metadata": {},
          "output_type": "execute_result"
        }
      ],
      "source": [
        "import gc\n",
        "try: model.cpu()\n",
        "except: pass\n",
        "\n",
        "try: del model\n",
        "except: pass\n",
        "\n",
        "try: del optimizer\n",
        "except: pass\n",
        "\n",
        "try: del scheduler\n",
        "except: pass\n",
        "\n",
        "try:\n",
        "    with torch.no_grad():\n",
        "        torch.cuda.empty_cache()\n",
        "except: pass\n",
        "\n",
        "try: del torch\n",
        "except: pass\n",
        "\n",
        "try: del tqdm\n",
        "except: pass\n",
        "\n",
        "try: del Dataset, DataLoader, nn, AdamW\n",
        "except: pass\n",
        "\n",
        "\n",
        "gc.collect()"
      ]
    }
  ],
  "metadata": {
    "accelerator": "GPU",
    "colab": {
      "collapsed_sections": [
        "KZAWZyKdP0jF"
      ],
      "gpuType": "T4",
      "provenance": []
    },
    "kernelspec": {
      "display_name": "venv",
      "language": "python",
      "name": "python3"
    },
    "language_info": {
      "codemirror_mode": {
        "name": "ipython",
        "version": 3
      },
      "file_extension": ".py",
      "mimetype": "text/x-python",
      "name": "python",
      "nbconvert_exporter": "python",
      "pygments_lexer": "ipython3",
      "version": "3.12.9"
    },
    "widgets": {
      "application/vnd.jupyter.widget-state+json": {
        "03ee7797001e40399d6fa4906299892a": {
          "model_module": "@jupyter-widgets/controls",
          "model_module_version": "1.5.0",
          "model_name": "HBoxModel",
          "state": {
            "_dom_classes": [],
            "_model_module": "@jupyter-widgets/controls",
            "_model_module_version": "1.5.0",
            "_model_name": "HBoxModel",
            "_view_count": null,
            "_view_module": "@jupyter-widgets/controls",
            "_view_module_version": "1.5.0",
            "_view_name": "HBoxView",
            "box_style": "",
            "children": [
              "IPY_MODEL_6a0d9f60f204451ab5d87639664c5095",
              "IPY_MODEL_3a955ba733c649078be0bd1514b929bc",
              "IPY_MODEL_1cdc60759ab64d2baf6f6b2806a97f99"
            ],
            "layout": "IPY_MODEL_3818a56ac54d407fbda20064fe5cdc81"
          }
        },
        "0727f554ee1c4a0aa1bcc516bfde4162": {
          "model_module": "@jupyter-widgets/base",
          "model_module_version": "1.2.0",
          "model_name": "LayoutModel",
          "state": {
            "_model_module": "@jupyter-widgets/base",
            "_model_module_version": "1.2.0",
            "_model_name": "LayoutModel",
            "_view_count": null,
            "_view_module": "@jupyter-widgets/base",
            "_view_module_version": "1.2.0",
            "_view_name": "LayoutView",
            "align_content": null,
            "align_items": null,
            "align_self": null,
            "border": null,
            "bottom": null,
            "display": null,
            "flex": null,
            "flex_flow": null,
            "grid_area": null,
            "grid_auto_columns": null,
            "grid_auto_flow": null,
            "grid_auto_rows": null,
            "grid_column": null,
            "grid_gap": null,
            "grid_row": null,
            "grid_template_areas": null,
            "grid_template_columns": null,
            "grid_template_rows": null,
            "height": null,
            "justify_content": null,
            "justify_items": null,
            "left": null,
            "margin": null,
            "max_height": null,
            "max_width": null,
            "min_height": null,
            "min_width": null,
            "object_fit": null,
            "object_position": null,
            "order": null,
            "overflow": null,
            "overflow_x": null,
            "overflow_y": null,
            "padding": null,
            "right": null,
            "top": null,
            "visibility": null,
            "width": null
          }
        },
        "090c44ac03ba49e88c8a07e5c7132152": {
          "model_module": "@jupyter-widgets/controls",
          "model_module_version": "1.5.0",
          "model_name": "HBoxModel",
          "state": {
            "_dom_classes": [],
            "_model_module": "@jupyter-widgets/controls",
            "_model_module_version": "1.5.0",
            "_model_name": "HBoxModel",
            "_view_count": null,
            "_view_module": "@jupyter-widgets/controls",
            "_view_module_version": "1.5.0",
            "_view_name": "HBoxView",
            "box_style": "",
            "children": [
              "IPY_MODEL_3671b7d1585a4da9b44f0c7b3f7fe2c4",
              "IPY_MODEL_debf3f8a08d440738f5fc65ee407b697",
              "IPY_MODEL_4ee46f5a59d94a079a969a486b66ea8a"
            ],
            "layout": "IPY_MODEL_2c4cbb28b2914adaacc9ef75d1522ed8"
          }
        },
        "09bc325b19a14d1bb7cdba849366a382": {
          "model_module": "@jupyter-widgets/controls",
          "model_module_version": "1.5.0",
          "model_name": "HTMLModel",
          "state": {
            "_dom_classes": [],
            "_model_module": "@jupyter-widgets/controls",
            "_model_module_version": "1.5.0",
            "_model_name": "HTMLModel",
            "_view_count": null,
            "_view_module": "@jupyter-widgets/controls",
            "_view_module_version": "1.5.0",
            "_view_name": "HTMLView",
            "description": "",
            "description_tooltip": null,
            "layout": "IPY_MODEL_d2fe0c143a244a8f8679409655f8b0ca",
            "placeholder": "​",
            "style": "IPY_MODEL_bef96cad2d0140da8e4f7396aa67354a",
            "value": "tokenizer.json: 100%"
          }
        },
        "0a0daf34e18945779a552428706f9de0": {
          "model_module": "@jupyter-widgets/base",
          "model_module_version": "1.2.0",
          "model_name": "LayoutModel",
          "state": {
            "_model_module": "@jupyter-widgets/base",
            "_model_module_version": "1.2.0",
            "_model_name": "LayoutModel",
            "_view_count": null,
            "_view_module": "@jupyter-widgets/base",
            "_view_module_version": "1.2.0",
            "_view_name": "LayoutView",
            "align_content": null,
            "align_items": null,
            "align_self": null,
            "border": null,
            "bottom": null,
            "display": null,
            "flex": null,
            "flex_flow": null,
            "grid_area": null,
            "grid_auto_columns": null,
            "grid_auto_flow": null,
            "grid_auto_rows": null,
            "grid_column": null,
            "grid_gap": null,
            "grid_row": null,
            "grid_template_areas": null,
            "grid_template_columns": null,
            "grid_template_rows": null,
            "height": null,
            "justify_content": null,
            "justify_items": null,
            "left": null,
            "margin": null,
            "max_height": null,
            "max_width": null,
            "min_height": null,
            "min_width": null,
            "object_fit": null,
            "object_position": null,
            "order": null,
            "overflow": null,
            "overflow_x": null,
            "overflow_y": null,
            "padding": null,
            "right": null,
            "top": null,
            "visibility": null,
            "width": null
          }
        },
        "0d22dade8c854eeda59d556fb2ee525a": {
          "model_module": "@jupyter-widgets/controls",
          "model_module_version": "1.5.0",
          "model_name": "HTMLModel",
          "state": {
            "_dom_classes": [],
            "_model_module": "@jupyter-widgets/controls",
            "_model_module_version": "1.5.0",
            "_model_name": "HTMLModel",
            "_view_count": null,
            "_view_module": "@jupyter-widgets/controls",
            "_view_module_version": "1.5.0",
            "_view_name": "HTMLView",
            "description": "",
            "description_tooltip": null,
            "layout": "IPY_MODEL_be50e3d68ddb49ca8d040cc17bcc1cde",
            "placeholder": "​",
            "style": "IPY_MODEL_6c0b5b8340e54c72abbb096dfaebfed9",
            "value": "tokenizer_config.json: 100%"
          }
        },
        "0dbe3e31c7fc4cd9bed1adc38bbc9c66": {
          "model_module": "@jupyter-widgets/controls",
          "model_module_version": "1.5.0",
          "model_name": "FloatProgressModel",
          "state": {
            "_dom_classes": [],
            "_model_module": "@jupyter-widgets/controls",
            "_model_module_version": "1.5.0",
            "_model_name": "FloatProgressModel",
            "_view_count": null,
            "_view_module": "@jupyter-widgets/controls",
            "_view_module_version": "1.5.0",
            "_view_name": "ProgressView",
            "bar_style": "success",
            "description": "",
            "description_tooltip": null,
            "layout": "IPY_MODEL_ff680cff7e56481ab5c58abe4022c3e8",
            "max": 466062,
            "min": 0,
            "orientation": "horizontal",
            "style": "IPY_MODEL_4f47f23b6f364318a432a8ac59ec8c22",
            "value": 466062
          }
        },
        "1affd20790d54f7cbdc7f42487b222f3": {
          "model_module": "@jupyter-widgets/controls",
          "model_module_version": "1.5.0",
          "model_name": "DescriptionStyleModel",
          "state": {
            "_model_module": "@jupyter-widgets/controls",
            "_model_module_version": "1.5.0",
            "_model_name": "DescriptionStyleModel",
            "_view_count": null,
            "_view_module": "@jupyter-widgets/base",
            "_view_module_version": "1.2.0",
            "_view_name": "StyleView",
            "description_width": ""
          }
        },
        "1cdc60759ab64d2baf6f6b2806a97f99": {
          "model_module": "@jupyter-widgets/controls",
          "model_module_version": "1.5.0",
          "model_name": "HTMLModel",
          "state": {
            "_dom_classes": [],
            "_model_module": "@jupyter-widgets/controls",
            "_model_module_version": "1.5.0",
            "_model_name": "HTMLModel",
            "_view_count": null,
            "_view_module": "@jupyter-widgets/controls",
            "_view_module_version": "1.5.0",
            "_view_name": "HTMLView",
            "description": "",
            "description_tooltip": null,
            "layout": "IPY_MODEL_9439d8e9313549c580d68ea0bd1dcc97",
            "placeholder": "​",
            "style": "IPY_MODEL_d766ce965a9b43bb9fece3e0f696a51d",
            "value": " 440M/440M [00:02&lt;00:00, 141MB/s]"
          }
        },
        "1d54657cdcc740f2aca55d7065bde12c": {
          "model_module": "@jupyter-widgets/base",
          "model_module_version": "1.2.0",
          "model_name": "LayoutModel",
          "state": {
            "_model_module": "@jupyter-widgets/base",
            "_model_module_version": "1.2.0",
            "_model_name": "LayoutModel",
            "_view_count": null,
            "_view_module": "@jupyter-widgets/base",
            "_view_module_version": "1.2.0",
            "_view_name": "LayoutView",
            "align_content": null,
            "align_items": null,
            "align_self": null,
            "border": null,
            "bottom": null,
            "display": null,
            "flex": null,
            "flex_flow": null,
            "grid_area": null,
            "grid_auto_columns": null,
            "grid_auto_flow": null,
            "grid_auto_rows": null,
            "grid_column": null,
            "grid_gap": null,
            "grid_row": null,
            "grid_template_areas": null,
            "grid_template_columns": null,
            "grid_template_rows": null,
            "height": null,
            "justify_content": null,
            "justify_items": null,
            "left": null,
            "margin": null,
            "max_height": null,
            "max_width": null,
            "min_height": null,
            "min_width": null,
            "object_fit": null,
            "object_position": null,
            "order": null,
            "overflow": null,
            "overflow_x": null,
            "overflow_y": null,
            "padding": null,
            "right": null,
            "top": null,
            "visibility": null,
            "width": null
          }
        },
        "1dcaeb43762b44efa27ac2387a459b64": {
          "model_module": "@jupyter-widgets/base",
          "model_module_version": "1.2.0",
          "model_name": "LayoutModel",
          "state": {
            "_model_module": "@jupyter-widgets/base",
            "_model_module_version": "1.2.0",
            "_model_name": "LayoutModel",
            "_view_count": null,
            "_view_module": "@jupyter-widgets/base",
            "_view_module_version": "1.2.0",
            "_view_name": "LayoutView",
            "align_content": null,
            "align_items": null,
            "align_self": null,
            "border": null,
            "bottom": null,
            "display": null,
            "flex": null,
            "flex_flow": null,
            "grid_area": null,
            "grid_auto_columns": null,
            "grid_auto_flow": null,
            "grid_auto_rows": null,
            "grid_column": null,
            "grid_gap": null,
            "grid_row": null,
            "grid_template_areas": null,
            "grid_template_columns": null,
            "grid_template_rows": null,
            "height": null,
            "justify_content": null,
            "justify_items": null,
            "left": null,
            "margin": null,
            "max_height": null,
            "max_width": null,
            "min_height": null,
            "min_width": null,
            "object_fit": null,
            "object_position": null,
            "order": null,
            "overflow": null,
            "overflow_x": null,
            "overflow_y": null,
            "padding": null,
            "right": null,
            "top": null,
            "visibility": null,
            "width": null
          }
        },
        "28e0a29a22a14a4c80c116e69a3c488a": {
          "model_module": "@jupyter-widgets/controls",
          "model_module_version": "1.5.0",
          "model_name": "ProgressStyleModel",
          "state": {
            "_model_module": "@jupyter-widgets/controls",
            "_model_module_version": "1.5.0",
            "_model_name": "ProgressStyleModel",
            "_view_count": null,
            "_view_module": "@jupyter-widgets/base",
            "_view_module_version": "1.2.0",
            "_view_name": "StyleView",
            "bar_color": null,
            "description_width": ""
          }
        },
        "2919900396f84d8e8da47be347e01174": {
          "model_module": "@jupyter-widgets/controls",
          "model_module_version": "1.5.0",
          "model_name": "DescriptionStyleModel",
          "state": {
            "_model_module": "@jupyter-widgets/controls",
            "_model_module_version": "1.5.0",
            "_model_name": "DescriptionStyleModel",
            "_view_count": null,
            "_view_module": "@jupyter-widgets/base",
            "_view_module_version": "1.2.0",
            "_view_name": "StyleView",
            "description_width": ""
          }
        },
        "2ba8f7ed04924bd0ac8acf70a171f8f6": {
          "model_module": "@jupyter-widgets/base",
          "model_module_version": "1.2.0",
          "model_name": "LayoutModel",
          "state": {
            "_model_module": "@jupyter-widgets/base",
            "_model_module_version": "1.2.0",
            "_model_name": "LayoutModel",
            "_view_count": null,
            "_view_module": "@jupyter-widgets/base",
            "_view_module_version": "1.2.0",
            "_view_name": "LayoutView",
            "align_content": null,
            "align_items": null,
            "align_self": null,
            "border": null,
            "bottom": null,
            "display": null,
            "flex": null,
            "flex_flow": null,
            "grid_area": null,
            "grid_auto_columns": null,
            "grid_auto_flow": null,
            "grid_auto_rows": null,
            "grid_column": null,
            "grid_gap": null,
            "grid_row": null,
            "grid_template_areas": null,
            "grid_template_columns": null,
            "grid_template_rows": null,
            "height": null,
            "justify_content": null,
            "justify_items": null,
            "left": null,
            "margin": null,
            "max_height": null,
            "max_width": null,
            "min_height": null,
            "min_width": null,
            "object_fit": null,
            "object_position": null,
            "order": null,
            "overflow": null,
            "overflow_x": null,
            "overflow_y": null,
            "padding": null,
            "right": null,
            "top": null,
            "visibility": null,
            "width": null
          }
        },
        "2c4cbb28b2914adaacc9ef75d1522ed8": {
          "model_module": "@jupyter-widgets/base",
          "model_module_version": "1.2.0",
          "model_name": "LayoutModel",
          "state": {
            "_model_module": "@jupyter-widgets/base",
            "_model_module_version": "1.2.0",
            "_model_name": "LayoutModel",
            "_view_count": null,
            "_view_module": "@jupyter-widgets/base",
            "_view_module_version": "1.2.0",
            "_view_name": "LayoutView",
            "align_content": null,
            "align_items": null,
            "align_self": null,
            "border": null,
            "bottom": null,
            "display": null,
            "flex": null,
            "flex_flow": null,
            "grid_area": null,
            "grid_auto_columns": null,
            "grid_auto_flow": null,
            "grid_auto_rows": null,
            "grid_column": null,
            "grid_gap": null,
            "grid_row": null,
            "grid_template_areas": null,
            "grid_template_columns": null,
            "grid_template_rows": null,
            "height": null,
            "justify_content": null,
            "justify_items": null,
            "left": null,
            "margin": null,
            "max_height": null,
            "max_width": null,
            "min_height": null,
            "min_width": null,
            "object_fit": null,
            "object_position": null,
            "order": null,
            "overflow": null,
            "overflow_x": null,
            "overflow_y": null,
            "padding": null,
            "right": null,
            "top": null,
            "visibility": null,
            "width": null
          }
        },
        "30bb456793a1499e8b81a2ccafb40c3f": {
          "model_module": "@jupyter-widgets/controls",
          "model_module_version": "1.5.0",
          "model_name": "DescriptionStyleModel",
          "state": {
            "_model_module": "@jupyter-widgets/controls",
            "_model_module_version": "1.5.0",
            "_model_name": "DescriptionStyleModel",
            "_view_count": null,
            "_view_module": "@jupyter-widgets/base",
            "_view_module_version": "1.2.0",
            "_view_name": "StyleView",
            "description_width": ""
          }
        },
        "3671b7d1585a4da9b44f0c7b3f7fe2c4": {
          "model_module": "@jupyter-widgets/controls",
          "model_module_version": "1.5.0",
          "model_name": "HTMLModel",
          "state": {
            "_dom_classes": [],
            "_model_module": "@jupyter-widgets/controls",
            "_model_module_version": "1.5.0",
            "_model_name": "HTMLModel",
            "_view_count": null,
            "_view_module": "@jupyter-widgets/controls",
            "_view_module_version": "1.5.0",
            "_view_name": "HTMLView",
            "description": "",
            "description_tooltip": null,
            "layout": "IPY_MODEL_79c3134c6ddb4f268f9a643002644874",
            "placeholder": "​",
            "style": "IPY_MODEL_30bb456793a1499e8b81a2ccafb40c3f",
            "value": "vocab.txt: 100%"
          }
        },
        "3818a56ac54d407fbda20064fe5cdc81": {
          "model_module": "@jupyter-widgets/base",
          "model_module_version": "1.2.0",
          "model_name": "LayoutModel",
          "state": {
            "_model_module": "@jupyter-widgets/base",
            "_model_module_version": "1.2.0",
            "_model_name": "LayoutModel",
            "_view_count": null,
            "_view_module": "@jupyter-widgets/base",
            "_view_module_version": "1.2.0",
            "_view_name": "LayoutView",
            "align_content": null,
            "align_items": null,
            "align_self": null,
            "border": null,
            "bottom": null,
            "display": null,
            "flex": null,
            "flex_flow": null,
            "grid_area": null,
            "grid_auto_columns": null,
            "grid_auto_flow": null,
            "grid_auto_rows": null,
            "grid_column": null,
            "grid_gap": null,
            "grid_row": null,
            "grid_template_areas": null,
            "grid_template_columns": null,
            "grid_template_rows": null,
            "height": null,
            "justify_content": null,
            "justify_items": null,
            "left": null,
            "margin": null,
            "max_height": null,
            "max_width": null,
            "min_height": null,
            "min_width": null,
            "object_fit": null,
            "object_position": null,
            "order": null,
            "overflow": null,
            "overflow_x": null,
            "overflow_y": null,
            "padding": null,
            "right": null,
            "top": null,
            "visibility": null,
            "width": null
          }
        },
        "3a955ba733c649078be0bd1514b929bc": {
          "model_module": "@jupyter-widgets/controls",
          "model_module_version": "1.5.0",
          "model_name": "FloatProgressModel",
          "state": {
            "_dom_classes": [],
            "_model_module": "@jupyter-widgets/controls",
            "_model_module_version": "1.5.0",
            "_model_name": "FloatProgressModel",
            "_view_count": null,
            "_view_module": "@jupyter-widgets/controls",
            "_view_module_version": "1.5.0",
            "_view_name": "ProgressView",
            "bar_style": "success",
            "description": "",
            "description_tooltip": null,
            "layout": "IPY_MODEL_a49722bd92764a61a367a49bc41ee889",
            "max": 440449768,
            "min": 0,
            "orientation": "horizontal",
            "style": "IPY_MODEL_c5a012fca20f485e9e76777e0b8199c2",
            "value": 440449768
          }
        },
        "44514ee020b843989a79ffc33c08d72a": {
          "model_module": "@jupyter-widgets/controls",
          "model_module_version": "1.5.0",
          "model_name": "HBoxModel",
          "state": {
            "_dom_classes": [],
            "_model_module": "@jupyter-widgets/controls",
            "_model_module_version": "1.5.0",
            "_model_name": "HBoxModel",
            "_view_count": null,
            "_view_module": "@jupyter-widgets/controls",
            "_view_module_version": "1.5.0",
            "_view_name": "HBoxView",
            "box_style": "",
            "children": [
              "IPY_MODEL_09bc325b19a14d1bb7cdba849366a382",
              "IPY_MODEL_0dbe3e31c7fc4cd9bed1adc38bbc9c66",
              "IPY_MODEL_cc0ba8e404314539bf3550e2969c8262"
            ],
            "layout": "IPY_MODEL_b276661282fe4e1996b37a3df6724c01"
          }
        },
        "4a424b275bbb4a08be9ac97345c25ecc": {
          "model_module": "@jupyter-widgets/controls",
          "model_module_version": "1.5.0",
          "model_name": "DescriptionStyleModel",
          "state": {
            "_model_module": "@jupyter-widgets/controls",
            "_model_module_version": "1.5.0",
            "_model_name": "DescriptionStyleModel",
            "_view_count": null,
            "_view_module": "@jupyter-widgets/base",
            "_view_module_version": "1.2.0",
            "_view_name": "StyleView",
            "description_width": ""
          }
        },
        "4d34b261450b4071837c8ad4b2186522": {
          "model_module": "@jupyter-widgets/base",
          "model_module_version": "1.2.0",
          "model_name": "LayoutModel",
          "state": {
            "_model_module": "@jupyter-widgets/base",
            "_model_module_version": "1.2.0",
            "_model_name": "LayoutModel",
            "_view_count": null,
            "_view_module": "@jupyter-widgets/base",
            "_view_module_version": "1.2.0",
            "_view_name": "LayoutView",
            "align_content": null,
            "align_items": null,
            "align_self": null,
            "border": null,
            "bottom": null,
            "display": null,
            "flex": null,
            "flex_flow": null,
            "grid_area": null,
            "grid_auto_columns": null,
            "grid_auto_flow": null,
            "grid_auto_rows": null,
            "grid_column": null,
            "grid_gap": null,
            "grid_row": null,
            "grid_template_areas": null,
            "grid_template_columns": null,
            "grid_template_rows": null,
            "height": null,
            "justify_content": null,
            "justify_items": null,
            "left": null,
            "margin": null,
            "max_height": null,
            "max_width": null,
            "min_height": null,
            "min_width": null,
            "object_fit": null,
            "object_position": null,
            "order": null,
            "overflow": null,
            "overflow_x": null,
            "overflow_y": null,
            "padding": null,
            "right": null,
            "top": null,
            "visibility": null,
            "width": null
          }
        },
        "4ee46f5a59d94a079a969a486b66ea8a": {
          "model_module": "@jupyter-widgets/controls",
          "model_module_version": "1.5.0",
          "model_name": "HTMLModel",
          "state": {
            "_dom_classes": [],
            "_model_module": "@jupyter-widgets/controls",
            "_model_module_version": "1.5.0",
            "_model_name": "HTMLModel",
            "_view_count": null,
            "_view_module": "@jupyter-widgets/controls",
            "_view_module_version": "1.5.0",
            "_view_name": "HTMLView",
            "description": "",
            "description_tooltip": null,
            "layout": "IPY_MODEL_9425356ae1574b87b35283c4233d8aaf",
            "placeholder": "​",
            "style": "IPY_MODEL_2919900396f84d8e8da47be347e01174",
            "value": " 232k/232k [00:00&lt;00:00, 12.4MB/s]"
          }
        },
        "4f47f23b6f364318a432a8ac59ec8c22": {
          "model_module": "@jupyter-widgets/controls",
          "model_module_version": "1.5.0",
          "model_name": "ProgressStyleModel",
          "state": {
            "_model_module": "@jupyter-widgets/controls",
            "_model_module_version": "1.5.0",
            "_model_name": "ProgressStyleModel",
            "_view_count": null,
            "_view_module": "@jupyter-widgets/base",
            "_view_module_version": "1.2.0",
            "_view_name": "StyleView",
            "bar_color": null,
            "description_width": ""
          }
        },
        "5a824b52e3934366b241f7b0ade6c1ec": {
          "model_module": "@jupyter-widgets/base",
          "model_module_version": "1.2.0",
          "model_name": "LayoutModel",
          "state": {
            "_model_module": "@jupyter-widgets/base",
            "_model_module_version": "1.2.0",
            "_model_name": "LayoutModel",
            "_view_count": null,
            "_view_module": "@jupyter-widgets/base",
            "_view_module_version": "1.2.0",
            "_view_name": "LayoutView",
            "align_content": null,
            "align_items": null,
            "align_self": null,
            "border": null,
            "bottom": null,
            "display": null,
            "flex": null,
            "flex_flow": null,
            "grid_area": null,
            "grid_auto_columns": null,
            "grid_auto_flow": null,
            "grid_auto_rows": null,
            "grid_column": null,
            "grid_gap": null,
            "grid_row": null,
            "grid_template_areas": null,
            "grid_template_columns": null,
            "grid_template_rows": null,
            "height": null,
            "justify_content": null,
            "justify_items": null,
            "left": null,
            "margin": null,
            "max_height": null,
            "max_width": null,
            "min_height": null,
            "min_width": null,
            "object_fit": null,
            "object_position": null,
            "order": null,
            "overflow": null,
            "overflow_x": null,
            "overflow_y": null,
            "padding": null,
            "right": null,
            "top": null,
            "visibility": null,
            "width": null
          }
        },
        "662656de552c452f9d7c0cef3d57db1a": {
          "model_module": "@jupyter-widgets/controls",
          "model_module_version": "1.5.0",
          "model_name": "DescriptionStyleModel",
          "state": {
            "_model_module": "@jupyter-widgets/controls",
            "_model_module_version": "1.5.0",
            "_model_name": "DescriptionStyleModel",
            "_view_count": null,
            "_view_module": "@jupyter-widgets/base",
            "_view_module_version": "1.2.0",
            "_view_name": "StyleView",
            "description_width": ""
          }
        },
        "693e87a67f344289848ab91f6d1016da": {
          "model_module": "@jupyter-widgets/base",
          "model_module_version": "1.2.0",
          "model_name": "LayoutModel",
          "state": {
            "_model_module": "@jupyter-widgets/base",
            "_model_module_version": "1.2.0",
            "_model_name": "LayoutModel",
            "_view_count": null,
            "_view_module": "@jupyter-widgets/base",
            "_view_module_version": "1.2.0",
            "_view_name": "LayoutView",
            "align_content": null,
            "align_items": null,
            "align_self": null,
            "border": null,
            "bottom": null,
            "display": null,
            "flex": null,
            "flex_flow": null,
            "grid_area": null,
            "grid_auto_columns": null,
            "grid_auto_flow": null,
            "grid_auto_rows": null,
            "grid_column": null,
            "grid_gap": null,
            "grid_row": null,
            "grid_template_areas": null,
            "grid_template_columns": null,
            "grid_template_rows": null,
            "height": null,
            "justify_content": null,
            "justify_items": null,
            "left": null,
            "margin": null,
            "max_height": null,
            "max_width": null,
            "min_height": null,
            "min_width": null,
            "object_fit": null,
            "object_position": null,
            "order": null,
            "overflow": null,
            "overflow_x": null,
            "overflow_y": null,
            "padding": null,
            "right": null,
            "top": null,
            "visibility": null,
            "width": null
          }
        },
        "6a0d9f60f204451ab5d87639664c5095": {
          "model_module": "@jupyter-widgets/controls",
          "model_module_version": "1.5.0",
          "model_name": "HTMLModel",
          "state": {
            "_dom_classes": [],
            "_model_module": "@jupyter-widgets/controls",
            "_model_module_version": "1.5.0",
            "_model_name": "HTMLModel",
            "_view_count": null,
            "_view_module": "@jupyter-widgets/controls",
            "_view_module_version": "1.5.0",
            "_view_name": "HTMLView",
            "description": "",
            "description_tooltip": null,
            "layout": "IPY_MODEL_2ba8f7ed04924bd0ac8acf70a171f8f6",
            "placeholder": "​",
            "style": "IPY_MODEL_f9af8dd81d814619ac2bef604c525b37",
            "value": "model.safetensors: 100%"
          }
        },
        "6c0b5b8340e54c72abbb096dfaebfed9": {
          "model_module": "@jupyter-widgets/controls",
          "model_module_version": "1.5.0",
          "model_name": "DescriptionStyleModel",
          "state": {
            "_model_module": "@jupyter-widgets/controls",
            "_model_module_version": "1.5.0",
            "_model_name": "DescriptionStyleModel",
            "_view_count": null,
            "_view_module": "@jupyter-widgets/base",
            "_view_module_version": "1.2.0",
            "_view_name": "StyleView",
            "description_width": ""
          }
        },
        "752b1f91e0b14c61b1beec841a9607af": {
          "model_module": "@jupyter-widgets/controls",
          "model_module_version": "1.5.0",
          "model_name": "FloatProgressModel",
          "state": {
            "_dom_classes": [],
            "_model_module": "@jupyter-widgets/controls",
            "_model_module_version": "1.5.0",
            "_model_name": "FloatProgressModel",
            "_view_count": null,
            "_view_module": "@jupyter-widgets/controls",
            "_view_module_version": "1.5.0",
            "_view_name": "ProgressView",
            "bar_style": "success",
            "description": "",
            "description_tooltip": null,
            "layout": "IPY_MODEL_1d54657cdcc740f2aca55d7065bde12c",
            "max": 48,
            "min": 0,
            "orientation": "horizontal",
            "style": "IPY_MODEL_ea092808b28349a6977d2008b28cb94a",
            "value": 48
          }
        },
        "79c3134c6ddb4f268f9a643002644874": {
          "model_module": "@jupyter-widgets/base",
          "model_module_version": "1.2.0",
          "model_name": "LayoutModel",
          "state": {
            "_model_module": "@jupyter-widgets/base",
            "_model_module_version": "1.2.0",
            "_model_name": "LayoutModel",
            "_view_count": null,
            "_view_module": "@jupyter-widgets/base",
            "_view_module_version": "1.2.0",
            "_view_name": "LayoutView",
            "align_content": null,
            "align_items": null,
            "align_self": null,
            "border": null,
            "bottom": null,
            "display": null,
            "flex": null,
            "flex_flow": null,
            "grid_area": null,
            "grid_auto_columns": null,
            "grid_auto_flow": null,
            "grid_auto_rows": null,
            "grid_column": null,
            "grid_gap": null,
            "grid_row": null,
            "grid_template_areas": null,
            "grid_template_columns": null,
            "grid_template_rows": null,
            "height": null,
            "justify_content": null,
            "justify_items": null,
            "left": null,
            "margin": null,
            "max_height": null,
            "max_width": null,
            "min_height": null,
            "min_width": null,
            "object_fit": null,
            "object_position": null,
            "order": null,
            "overflow": null,
            "overflow_x": null,
            "overflow_y": null,
            "padding": null,
            "right": null,
            "top": null,
            "visibility": null,
            "width": null
          }
        },
        "8e5222ba5d07484a9e70f780979c8e44": {
          "model_module": "@jupyter-widgets/controls",
          "model_module_version": "1.5.0",
          "model_name": "HBoxModel",
          "state": {
            "_dom_classes": [],
            "_model_module": "@jupyter-widgets/controls",
            "_model_module_version": "1.5.0",
            "_model_name": "HBoxModel",
            "_view_count": null,
            "_view_module": "@jupyter-widgets/controls",
            "_view_module_version": "1.5.0",
            "_view_name": "HBoxView",
            "box_style": "",
            "children": [
              "IPY_MODEL_a4aa5b1c9a3b46308e0734226b73683a",
              "IPY_MODEL_b6884982140a45e99b654c7f403332db",
              "IPY_MODEL_bed82f1b503b4eea8eba6d8c52cdad19"
            ],
            "layout": "IPY_MODEL_4d34b261450b4071837c8ad4b2186522"
          }
        },
        "91554d6f2b7a423a967f136390d1a3cf": {
          "model_module": "@jupyter-widgets/controls",
          "model_module_version": "1.5.0",
          "model_name": "DescriptionStyleModel",
          "state": {
            "_model_module": "@jupyter-widgets/controls",
            "_model_module_version": "1.5.0",
            "_model_name": "DescriptionStyleModel",
            "_view_count": null,
            "_view_module": "@jupyter-widgets/base",
            "_view_module_version": "1.2.0",
            "_view_name": "StyleView",
            "description_width": ""
          }
        },
        "9425356ae1574b87b35283c4233d8aaf": {
          "model_module": "@jupyter-widgets/base",
          "model_module_version": "1.2.0",
          "model_name": "LayoutModel",
          "state": {
            "_model_module": "@jupyter-widgets/base",
            "_model_module_version": "1.2.0",
            "_model_name": "LayoutModel",
            "_view_count": null,
            "_view_module": "@jupyter-widgets/base",
            "_view_module_version": "1.2.0",
            "_view_name": "LayoutView",
            "align_content": null,
            "align_items": null,
            "align_self": null,
            "border": null,
            "bottom": null,
            "display": null,
            "flex": null,
            "flex_flow": null,
            "grid_area": null,
            "grid_auto_columns": null,
            "grid_auto_flow": null,
            "grid_auto_rows": null,
            "grid_column": null,
            "grid_gap": null,
            "grid_row": null,
            "grid_template_areas": null,
            "grid_template_columns": null,
            "grid_template_rows": null,
            "height": null,
            "justify_content": null,
            "justify_items": null,
            "left": null,
            "margin": null,
            "max_height": null,
            "max_width": null,
            "min_height": null,
            "min_width": null,
            "object_fit": null,
            "object_position": null,
            "order": null,
            "overflow": null,
            "overflow_x": null,
            "overflow_y": null,
            "padding": null,
            "right": null,
            "top": null,
            "visibility": null,
            "width": null
          }
        },
        "9439d8e9313549c580d68ea0bd1dcc97": {
          "model_module": "@jupyter-widgets/base",
          "model_module_version": "1.2.0",
          "model_name": "LayoutModel",
          "state": {
            "_model_module": "@jupyter-widgets/base",
            "_model_module_version": "1.2.0",
            "_model_name": "LayoutModel",
            "_view_count": null,
            "_view_module": "@jupyter-widgets/base",
            "_view_module_version": "1.2.0",
            "_view_name": "LayoutView",
            "align_content": null,
            "align_items": null,
            "align_self": null,
            "border": null,
            "bottom": null,
            "display": null,
            "flex": null,
            "flex_flow": null,
            "grid_area": null,
            "grid_auto_columns": null,
            "grid_auto_flow": null,
            "grid_auto_rows": null,
            "grid_column": null,
            "grid_gap": null,
            "grid_row": null,
            "grid_template_areas": null,
            "grid_template_columns": null,
            "grid_template_rows": null,
            "height": null,
            "justify_content": null,
            "justify_items": null,
            "left": null,
            "margin": null,
            "max_height": null,
            "max_width": null,
            "min_height": null,
            "min_width": null,
            "object_fit": null,
            "object_position": null,
            "order": null,
            "overflow": null,
            "overflow_x": null,
            "overflow_y": null,
            "padding": null,
            "right": null,
            "top": null,
            "visibility": null,
            "width": null
          }
        },
        "a2360e8508f247b2a84acc25f0b3e373": {
          "model_module": "@jupyter-widgets/controls",
          "model_module_version": "1.5.0",
          "model_name": "HTMLModel",
          "state": {
            "_dom_classes": [],
            "_model_module": "@jupyter-widgets/controls",
            "_model_module_version": "1.5.0",
            "_model_name": "HTMLModel",
            "_view_count": null,
            "_view_module": "@jupyter-widgets/controls",
            "_view_module_version": "1.5.0",
            "_view_name": "HTMLView",
            "description": "",
            "description_tooltip": null,
            "layout": "IPY_MODEL_bc8f51497d044f6e9ca9542bbe2c4951",
            "placeholder": "​",
            "style": "IPY_MODEL_4a424b275bbb4a08be9ac97345c25ecc",
            "value": " 48.0/48.0 [00:00&lt;00:00, 4.73kB/s]"
          }
        },
        "a49722bd92764a61a367a49bc41ee889": {
          "model_module": "@jupyter-widgets/base",
          "model_module_version": "1.2.0",
          "model_name": "LayoutModel",
          "state": {
            "_model_module": "@jupyter-widgets/base",
            "_model_module_version": "1.2.0",
            "_model_name": "LayoutModel",
            "_view_count": null,
            "_view_module": "@jupyter-widgets/base",
            "_view_module_version": "1.2.0",
            "_view_name": "LayoutView",
            "align_content": null,
            "align_items": null,
            "align_self": null,
            "border": null,
            "bottom": null,
            "display": null,
            "flex": null,
            "flex_flow": null,
            "grid_area": null,
            "grid_auto_columns": null,
            "grid_auto_flow": null,
            "grid_auto_rows": null,
            "grid_column": null,
            "grid_gap": null,
            "grid_row": null,
            "grid_template_areas": null,
            "grid_template_columns": null,
            "grid_template_rows": null,
            "height": null,
            "justify_content": null,
            "justify_items": null,
            "left": null,
            "margin": null,
            "max_height": null,
            "max_width": null,
            "min_height": null,
            "min_width": null,
            "object_fit": null,
            "object_position": null,
            "order": null,
            "overflow": null,
            "overflow_x": null,
            "overflow_y": null,
            "padding": null,
            "right": null,
            "top": null,
            "visibility": null,
            "width": null
          }
        },
        "a4aa5b1c9a3b46308e0734226b73683a": {
          "model_module": "@jupyter-widgets/controls",
          "model_module_version": "1.5.0",
          "model_name": "HTMLModel",
          "state": {
            "_dom_classes": [],
            "_model_module": "@jupyter-widgets/controls",
            "_model_module_version": "1.5.0",
            "_model_name": "HTMLModel",
            "_view_count": null,
            "_view_module": "@jupyter-widgets/controls",
            "_view_module_version": "1.5.0",
            "_view_name": "HTMLView",
            "description": "",
            "description_tooltip": null,
            "layout": "IPY_MODEL_693e87a67f344289848ab91f6d1016da",
            "placeholder": "​",
            "style": "IPY_MODEL_1affd20790d54f7cbdc7f42487b222f3",
            "value": "config.json: 100%"
          }
        },
        "b276661282fe4e1996b37a3df6724c01": {
          "model_module": "@jupyter-widgets/base",
          "model_module_version": "1.2.0",
          "model_name": "LayoutModel",
          "state": {
            "_model_module": "@jupyter-widgets/base",
            "_model_module_version": "1.2.0",
            "_model_name": "LayoutModel",
            "_view_count": null,
            "_view_module": "@jupyter-widgets/base",
            "_view_module_version": "1.2.0",
            "_view_name": "LayoutView",
            "align_content": null,
            "align_items": null,
            "align_self": null,
            "border": null,
            "bottom": null,
            "display": null,
            "flex": null,
            "flex_flow": null,
            "grid_area": null,
            "grid_auto_columns": null,
            "grid_auto_flow": null,
            "grid_auto_rows": null,
            "grid_column": null,
            "grid_gap": null,
            "grid_row": null,
            "grid_template_areas": null,
            "grid_template_columns": null,
            "grid_template_rows": null,
            "height": null,
            "justify_content": null,
            "justify_items": null,
            "left": null,
            "margin": null,
            "max_height": null,
            "max_width": null,
            "min_height": null,
            "min_width": null,
            "object_fit": null,
            "object_position": null,
            "order": null,
            "overflow": null,
            "overflow_x": null,
            "overflow_y": null,
            "padding": null,
            "right": null,
            "top": null,
            "visibility": null,
            "width": null
          }
        },
        "b6884982140a45e99b654c7f403332db": {
          "model_module": "@jupyter-widgets/controls",
          "model_module_version": "1.5.0",
          "model_name": "FloatProgressModel",
          "state": {
            "_dom_classes": [],
            "_model_module": "@jupyter-widgets/controls",
            "_model_module_version": "1.5.0",
            "_model_name": "FloatProgressModel",
            "_view_count": null,
            "_view_module": "@jupyter-widgets/controls",
            "_view_module_version": "1.5.0",
            "_view_name": "ProgressView",
            "bar_style": "success",
            "description": "",
            "description_tooltip": null,
            "layout": "IPY_MODEL_f4d10c83b9e04f2d95f73b54cb44b2dd",
            "max": 570,
            "min": 0,
            "orientation": "horizontal",
            "style": "IPY_MODEL_f596f59ee4574e3e93a6a222f7c506ee",
            "value": 570
          }
        },
        "bc8f51497d044f6e9ca9542bbe2c4951": {
          "model_module": "@jupyter-widgets/base",
          "model_module_version": "1.2.0",
          "model_name": "LayoutModel",
          "state": {
            "_model_module": "@jupyter-widgets/base",
            "_model_module_version": "1.2.0",
            "_model_name": "LayoutModel",
            "_view_count": null,
            "_view_module": "@jupyter-widgets/base",
            "_view_module_version": "1.2.0",
            "_view_name": "LayoutView",
            "align_content": null,
            "align_items": null,
            "align_self": null,
            "border": null,
            "bottom": null,
            "display": null,
            "flex": null,
            "flex_flow": null,
            "grid_area": null,
            "grid_auto_columns": null,
            "grid_auto_flow": null,
            "grid_auto_rows": null,
            "grid_column": null,
            "grid_gap": null,
            "grid_row": null,
            "grid_template_areas": null,
            "grid_template_columns": null,
            "grid_template_rows": null,
            "height": null,
            "justify_content": null,
            "justify_items": null,
            "left": null,
            "margin": null,
            "max_height": null,
            "max_width": null,
            "min_height": null,
            "min_width": null,
            "object_fit": null,
            "object_position": null,
            "order": null,
            "overflow": null,
            "overflow_x": null,
            "overflow_y": null,
            "padding": null,
            "right": null,
            "top": null,
            "visibility": null,
            "width": null
          }
        },
        "be50e3d68ddb49ca8d040cc17bcc1cde": {
          "model_module": "@jupyter-widgets/base",
          "model_module_version": "1.2.0",
          "model_name": "LayoutModel",
          "state": {
            "_model_module": "@jupyter-widgets/base",
            "_model_module_version": "1.2.0",
            "_model_name": "LayoutModel",
            "_view_count": null,
            "_view_module": "@jupyter-widgets/base",
            "_view_module_version": "1.2.0",
            "_view_name": "LayoutView",
            "align_content": null,
            "align_items": null,
            "align_self": null,
            "border": null,
            "bottom": null,
            "display": null,
            "flex": null,
            "flex_flow": null,
            "grid_area": null,
            "grid_auto_columns": null,
            "grid_auto_flow": null,
            "grid_auto_rows": null,
            "grid_column": null,
            "grid_gap": null,
            "grid_row": null,
            "grid_template_areas": null,
            "grid_template_columns": null,
            "grid_template_rows": null,
            "height": null,
            "justify_content": null,
            "justify_items": null,
            "left": null,
            "margin": null,
            "max_height": null,
            "max_width": null,
            "min_height": null,
            "min_width": null,
            "object_fit": null,
            "object_position": null,
            "order": null,
            "overflow": null,
            "overflow_x": null,
            "overflow_y": null,
            "padding": null,
            "right": null,
            "top": null,
            "visibility": null,
            "width": null
          }
        },
        "bed82f1b503b4eea8eba6d8c52cdad19": {
          "model_module": "@jupyter-widgets/controls",
          "model_module_version": "1.5.0",
          "model_name": "HTMLModel",
          "state": {
            "_dom_classes": [],
            "_model_module": "@jupyter-widgets/controls",
            "_model_module_version": "1.5.0",
            "_model_name": "HTMLModel",
            "_view_count": null,
            "_view_module": "@jupyter-widgets/controls",
            "_view_module_version": "1.5.0",
            "_view_name": "HTMLView",
            "description": "",
            "description_tooltip": null,
            "layout": "IPY_MODEL_5a824b52e3934366b241f7b0ade6c1ec",
            "placeholder": "​",
            "style": "IPY_MODEL_662656de552c452f9d7c0cef3d57db1a",
            "value": " 570/570 [00:00&lt;00:00, 61.4kB/s]"
          }
        },
        "bef96cad2d0140da8e4f7396aa67354a": {
          "model_module": "@jupyter-widgets/controls",
          "model_module_version": "1.5.0",
          "model_name": "DescriptionStyleModel",
          "state": {
            "_model_module": "@jupyter-widgets/controls",
            "_model_module_version": "1.5.0",
            "_model_name": "DescriptionStyleModel",
            "_view_count": null,
            "_view_module": "@jupyter-widgets/base",
            "_view_module_version": "1.2.0",
            "_view_name": "StyleView",
            "description_width": ""
          }
        },
        "c293a6541871475c9df5079f3d4ff47c": {
          "model_module": "@jupyter-widgets/controls",
          "model_module_version": "1.5.0",
          "model_name": "HBoxModel",
          "state": {
            "_dom_classes": [],
            "_model_module": "@jupyter-widgets/controls",
            "_model_module_version": "1.5.0",
            "_model_name": "HBoxModel",
            "_view_count": null,
            "_view_module": "@jupyter-widgets/controls",
            "_view_module_version": "1.5.0",
            "_view_name": "HBoxView",
            "box_style": "",
            "children": [
              "IPY_MODEL_0d22dade8c854eeda59d556fb2ee525a",
              "IPY_MODEL_752b1f91e0b14c61b1beec841a9607af",
              "IPY_MODEL_a2360e8508f247b2a84acc25f0b3e373"
            ],
            "layout": "IPY_MODEL_0727f554ee1c4a0aa1bcc516bfde4162"
          }
        },
        "c5a012fca20f485e9e76777e0b8199c2": {
          "model_module": "@jupyter-widgets/controls",
          "model_module_version": "1.5.0",
          "model_name": "ProgressStyleModel",
          "state": {
            "_model_module": "@jupyter-widgets/controls",
            "_model_module_version": "1.5.0",
            "_model_name": "ProgressStyleModel",
            "_view_count": null,
            "_view_module": "@jupyter-widgets/base",
            "_view_module_version": "1.2.0",
            "_view_name": "StyleView",
            "bar_color": null,
            "description_width": ""
          }
        },
        "cc0ba8e404314539bf3550e2969c8262": {
          "model_module": "@jupyter-widgets/controls",
          "model_module_version": "1.5.0",
          "model_name": "HTMLModel",
          "state": {
            "_dom_classes": [],
            "_model_module": "@jupyter-widgets/controls",
            "_model_module_version": "1.5.0",
            "_model_name": "HTMLModel",
            "_view_count": null,
            "_view_module": "@jupyter-widgets/controls",
            "_view_module_version": "1.5.0",
            "_view_name": "HTMLView",
            "description": "",
            "description_tooltip": null,
            "layout": "IPY_MODEL_1dcaeb43762b44efa27ac2387a459b64",
            "placeholder": "​",
            "style": "IPY_MODEL_91554d6f2b7a423a967f136390d1a3cf",
            "value": " 466k/466k [00:00&lt;00:00, 1.01MB/s]"
          }
        },
        "d2fe0c143a244a8f8679409655f8b0ca": {
          "model_module": "@jupyter-widgets/base",
          "model_module_version": "1.2.0",
          "model_name": "LayoutModel",
          "state": {
            "_model_module": "@jupyter-widgets/base",
            "_model_module_version": "1.2.0",
            "_model_name": "LayoutModel",
            "_view_count": null,
            "_view_module": "@jupyter-widgets/base",
            "_view_module_version": "1.2.0",
            "_view_name": "LayoutView",
            "align_content": null,
            "align_items": null,
            "align_self": null,
            "border": null,
            "bottom": null,
            "display": null,
            "flex": null,
            "flex_flow": null,
            "grid_area": null,
            "grid_auto_columns": null,
            "grid_auto_flow": null,
            "grid_auto_rows": null,
            "grid_column": null,
            "grid_gap": null,
            "grid_row": null,
            "grid_template_areas": null,
            "grid_template_columns": null,
            "grid_template_rows": null,
            "height": null,
            "justify_content": null,
            "justify_items": null,
            "left": null,
            "margin": null,
            "max_height": null,
            "max_width": null,
            "min_height": null,
            "min_width": null,
            "object_fit": null,
            "object_position": null,
            "order": null,
            "overflow": null,
            "overflow_x": null,
            "overflow_y": null,
            "padding": null,
            "right": null,
            "top": null,
            "visibility": null,
            "width": null
          }
        },
        "d766ce965a9b43bb9fece3e0f696a51d": {
          "model_module": "@jupyter-widgets/controls",
          "model_module_version": "1.5.0",
          "model_name": "DescriptionStyleModel",
          "state": {
            "_model_module": "@jupyter-widgets/controls",
            "_model_module_version": "1.5.0",
            "_model_name": "DescriptionStyleModel",
            "_view_count": null,
            "_view_module": "@jupyter-widgets/base",
            "_view_module_version": "1.2.0",
            "_view_name": "StyleView",
            "description_width": ""
          }
        },
        "debf3f8a08d440738f5fc65ee407b697": {
          "model_module": "@jupyter-widgets/controls",
          "model_module_version": "1.5.0",
          "model_name": "FloatProgressModel",
          "state": {
            "_dom_classes": [],
            "_model_module": "@jupyter-widgets/controls",
            "_model_module_version": "1.5.0",
            "_model_name": "FloatProgressModel",
            "_view_count": null,
            "_view_module": "@jupyter-widgets/controls",
            "_view_module_version": "1.5.0",
            "_view_name": "ProgressView",
            "bar_style": "success",
            "description": "",
            "description_tooltip": null,
            "layout": "IPY_MODEL_0a0daf34e18945779a552428706f9de0",
            "max": 231508,
            "min": 0,
            "orientation": "horizontal",
            "style": "IPY_MODEL_28e0a29a22a14a4c80c116e69a3c488a",
            "value": 231508
          }
        },
        "ea092808b28349a6977d2008b28cb94a": {
          "model_module": "@jupyter-widgets/controls",
          "model_module_version": "1.5.0",
          "model_name": "ProgressStyleModel",
          "state": {
            "_model_module": "@jupyter-widgets/controls",
            "_model_module_version": "1.5.0",
            "_model_name": "ProgressStyleModel",
            "_view_count": null,
            "_view_module": "@jupyter-widgets/base",
            "_view_module_version": "1.2.0",
            "_view_name": "StyleView",
            "bar_color": null,
            "description_width": ""
          }
        },
        "f4d10c83b9e04f2d95f73b54cb44b2dd": {
          "model_module": "@jupyter-widgets/base",
          "model_module_version": "1.2.0",
          "model_name": "LayoutModel",
          "state": {
            "_model_module": "@jupyter-widgets/base",
            "_model_module_version": "1.2.0",
            "_model_name": "LayoutModel",
            "_view_count": null,
            "_view_module": "@jupyter-widgets/base",
            "_view_module_version": "1.2.0",
            "_view_name": "LayoutView",
            "align_content": null,
            "align_items": null,
            "align_self": null,
            "border": null,
            "bottom": null,
            "display": null,
            "flex": null,
            "flex_flow": null,
            "grid_area": null,
            "grid_auto_columns": null,
            "grid_auto_flow": null,
            "grid_auto_rows": null,
            "grid_column": null,
            "grid_gap": null,
            "grid_row": null,
            "grid_template_areas": null,
            "grid_template_columns": null,
            "grid_template_rows": null,
            "height": null,
            "justify_content": null,
            "justify_items": null,
            "left": null,
            "margin": null,
            "max_height": null,
            "max_width": null,
            "min_height": null,
            "min_width": null,
            "object_fit": null,
            "object_position": null,
            "order": null,
            "overflow": null,
            "overflow_x": null,
            "overflow_y": null,
            "padding": null,
            "right": null,
            "top": null,
            "visibility": null,
            "width": null
          }
        },
        "f596f59ee4574e3e93a6a222f7c506ee": {
          "model_module": "@jupyter-widgets/controls",
          "model_module_version": "1.5.0",
          "model_name": "ProgressStyleModel",
          "state": {
            "_model_module": "@jupyter-widgets/controls",
            "_model_module_version": "1.5.0",
            "_model_name": "ProgressStyleModel",
            "_view_count": null,
            "_view_module": "@jupyter-widgets/base",
            "_view_module_version": "1.2.0",
            "_view_name": "StyleView",
            "bar_color": null,
            "description_width": ""
          }
        },
        "f9af8dd81d814619ac2bef604c525b37": {
          "model_module": "@jupyter-widgets/controls",
          "model_module_version": "1.5.0",
          "model_name": "DescriptionStyleModel",
          "state": {
            "_model_module": "@jupyter-widgets/controls",
            "_model_module_version": "1.5.0",
            "_model_name": "DescriptionStyleModel",
            "_view_count": null,
            "_view_module": "@jupyter-widgets/base",
            "_view_module_version": "1.2.0",
            "_view_name": "StyleView",
            "description_width": ""
          }
        },
        "ff680cff7e56481ab5c58abe4022c3e8": {
          "model_module": "@jupyter-widgets/base",
          "model_module_version": "1.2.0",
          "model_name": "LayoutModel",
          "state": {
            "_model_module": "@jupyter-widgets/base",
            "_model_module_version": "1.2.0",
            "_model_name": "LayoutModel",
            "_view_count": null,
            "_view_module": "@jupyter-widgets/base",
            "_view_module_version": "1.2.0",
            "_view_name": "LayoutView",
            "align_content": null,
            "align_items": null,
            "align_self": null,
            "border": null,
            "bottom": null,
            "display": null,
            "flex": null,
            "flex_flow": null,
            "grid_area": null,
            "grid_auto_columns": null,
            "grid_auto_flow": null,
            "grid_auto_rows": null,
            "grid_column": null,
            "grid_gap": null,
            "grid_row": null,
            "grid_template_areas": null,
            "grid_template_columns": null,
            "grid_template_rows": null,
            "height": null,
            "justify_content": null,
            "justify_items": null,
            "left": null,
            "margin": null,
            "max_height": null,
            "max_width": null,
            "min_height": null,
            "min_width": null,
            "object_fit": null,
            "object_position": null,
            "order": null,
            "overflow": null,
            "overflow_x": null,
            "overflow_y": null,
            "padding": null,
            "right": null,
            "top": null,
            "visibility": null,
            "width": null
          }
        }
      }
    }
  },
  "nbformat": 4,
  "nbformat_minor": 0
}
