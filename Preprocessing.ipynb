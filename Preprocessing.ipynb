{
  "cells": [
    {
      "cell_type": "code",
      "execution_count": 26,
      "metadata": {
        "id": "N280hkjgxIXC"
      },
      "outputs": [],
      "source": [
        "import os"
      ]
    },
    {
      "cell_type": "code",
      "execution_count": 27,
      "metadata": {
        "colab": {
          "base_uri": "https://localhost:8080/",
          "height": 206
        },
        "collapsed": true,
        "id": "eSFBdP97z3GE",
        "outputId": "a2e815db-189a-42ef-8148-a2fcadc696f6"
      },
      "outputs": [
        {
          "data": {
            "text/html": [
              "<div>\n",
              "<style scoped>\n",
              "    .dataframe tbody tr th:only-of-type {\n",
              "        vertical-align: middle;\n",
              "    }\n",
              "\n",
              "    .dataframe tbody tr th {\n",
              "        vertical-align: top;\n",
              "    }\n",
              "\n",
              "    .dataframe thead th {\n",
              "        text-align: right;\n",
              "    }\n",
              "</style>\n",
              "<table border=\"1\" class=\"dataframe\">\n",
              "  <thead>\n",
              "    <tr style=\"text-align: right;\">\n",
              "      <th></th>\n",
              "      <th>SentimentText</th>\n",
              "      <th>label</th>\n",
              "      <th>language</th>\n",
              "      <th>urgency</th>\n",
              "    </tr>\n",
              "  </thead>\n",
              "  <tbody>\n",
              "    <tr>\n",
              "      <th>0</th>\n",
              "      <td>@RailMinIndia My PNR is 8348062961, I am in wa...</td>\n",
              "      <td>3</td>\n",
              "      <td>0</td>\n",
              "      <td>0</td>\n",
              "    </tr>\n",
              "    <tr>\n",
              "      <th>1</th>\n",
              "      <td>@sureshpprabhu @RailMinIndia AC not working in...</td>\n",
              "      <td>7</td>\n",
              "      <td>0</td>\n",
              "      <td>0</td>\n",
              "    </tr>\n",
              "    <tr>\n",
              "      <th>2</th>\n",
              "      <td>@RailMinIndia I'm traveling to chennai by trai...</td>\n",
              "      <td>3</td>\n",
              "      <td>0</td>\n",
              "      <td>0</td>\n",
              "    </tr>\n",
              "    <tr>\n",
              "      <th>3</th>\n",
              "      <td>@RailMinIndia irctc is not responding at the t...</td>\n",
              "      <td>8</td>\n",
              "      <td>0</td>\n",
              "      <td>1</td>\n",
              "    </tr>\n",
              "    <tr>\n",
              "      <th>4</th>\n",
              "      <td>@DRMbhopal @RailMinIndia @sanjaygupta2012 @drm...</td>\n",
              "      <td>1</td>\n",
              "      <td>0</td>\n",
              "      <td>-1</td>\n",
              "    </tr>\n",
              "  </tbody>\n",
              "</table>\n",
              "</div>"
            ],
            "text/plain": [
              "                                       SentimentText  label  language  urgency\n",
              "0  @RailMinIndia My PNR is 8348062961, I am in wa...      3         0        0\n",
              "1  @sureshpprabhu @RailMinIndia AC not working in...      7         0        0\n",
              "2  @RailMinIndia I'm traveling to chennai by trai...      3         0        0\n",
              "3  @RailMinIndia irctc is not responding at the t...      8         0        1\n",
              "4  @DRMbhopal @RailMinIndia @sanjaygupta2012 @drm...      1         0       -1"
            ]
          },
          "execution_count": 27,
          "metadata": {},
          "output_type": "execute_result"
        }
      ],
      "source": [
        "import pandas as pd\n",
        "import numpy as np\n",
        "\n",
        "data = pd.read_csv('annotated_ryk_final.csv')\n",
        "data.head()"
      ]
    },
    {
      "cell_type": "code",
      "execution_count": 28,
      "metadata": {},
      "outputs": [
        {
          "data": {
            "text/plain": [
              "'@RailMinIndia @IRCTC_Ltd Vendor simply overcharging for à¤°à¥\\x87à¤² à¤¨à¥\\x80à¤°. Charging 20 rs instead of 15rs printed MRP. https://t.co/crClsrbPvB'"
            ]
          },
          "execution_count": 28,
          "metadata": {},
          "output_type": "execute_result"
        }
      ],
      "source": [
        "import time, random\n",
        "random.seed(time.time_ns())\n",
        "d_len = len(data)\n",
        "data.loc[random.randint(0, d_len - 1), \"SentimentText\"]"
      ]
    },
    {
      "cell_type": "code",
      "execution_count": 29,
      "metadata": {
        "id": "R7iyQpXc2WoW"
      },
      "outputs": [
        {
          "data": {
            "text/plain": [
              "2498"
            ]
          },
          "execution_count": 29,
          "metadata": {},
          "output_type": "execute_result"
        }
      ],
      "source": [
        "data = data[data[\"label\"] != -1]\n",
        "len(data)"
      ]
    },
    {
      "cell_type": "code",
      "execution_count": 30,
      "metadata": {
        "id": "0VseyqtU1mdW"
      },
      "outputs": [],
      "source": [
        "CLASSES: dict[int, str] = {\n",
        "    -1: \"None\",\n",
        "    0: \"Spam/Scam/Garbage\",\n",
        "    1: \"Non-Complaint \",\n",
        "    # -- Rest are complaints --\n",
        "    2: \"Delay\",\n",
        "    3: \"Hygeine (food, toilets, carriage)\",\n",
        "    4: \"Ticket issue (cancellation, refund, seat change)\",\n",
        "    5: \"Medical issue\",\n",
        "    6: \"Safety issue\",\n",
        "    7: \"Travel Experience\",\n",
        "    8: \"Feedback / Suggestions (less critical/urgent)\",\n",
        "}\n",
        "URGENCY: dict[int, str] = {\n",
        "    -1: \"None\",\n",
        "    0: \"Low\",\n",
        "    1: \"Pressing\",\n",
        "    2: \"critical\",\n",
        "}\n",
        "LANG: dict[int, str] = {\n",
        "    -1: \"None\",\n",
        "    0: \"English\",\n",
        "    1: \"Hindi (devanagari; purely)\",\n",
        "    2: \"Hinglish (devanagari; with english in latin alphabet)\",\n",
        "    3: \"Hinglish (devanagari; with english transliterated to hindi)\",\n",
        "    4: \"Hinglish (latin; with hindi transliterated to english)\",\n",
        "}"
      ]
    },
    {
      "cell_type": "code",
      "execution_count": 7,
      "metadata": {
        "colab": {
          "base_uri": "https://localhost:8080/",
          "height": 332
        },
        "id": "uABp30Au1WzW",
        "outputId": "636d56e0-a836-43ae-d34a-883b874f2b9a"
      },
      "outputs": [
        {
          "data": {
            "text/html": [
              "<div>\n",
              "<style scoped>\n",
              "    .dataframe tbody tr th:only-of-type {\n",
              "        vertical-align: middle;\n",
              "    }\n",
              "\n",
              "    .dataframe tbody tr th {\n",
              "        vertical-align: top;\n",
              "    }\n",
              "\n",
              "    .dataframe thead th {\n",
              "        text-align: right;\n",
              "    }\n",
              "</style>\n",
              "<table border=\"1\" class=\"dataframe\">\n",
              "  <thead>\n",
              "    <tr style=\"text-align: right;\">\n",
              "      <th></th>\n",
              "      <th>count</th>\n",
              "    </tr>\n",
              "  </thead>\n",
              "  <tbody>\n",
              "    <tr>\n",
              "      <th>Spam/Scam/Garbage</th>\n",
              "      <td>276</td>\n",
              "    </tr>\n",
              "    <tr>\n",
              "      <th>Non-Complaint</th>\n",
              "      <td>551</td>\n",
              "    </tr>\n",
              "    <tr>\n",
              "      <th>Delay</th>\n",
              "      <td>219</td>\n",
              "    </tr>\n",
              "    <tr>\n",
              "      <th>Hygeine (food, toilets, carriage)</th>\n",
              "      <td>174</td>\n",
              "    </tr>\n",
              "    <tr>\n",
              "      <th>Ticket issue (cancellation, refund, seat change)</th>\n",
              "      <td>298</td>\n",
              "    </tr>\n",
              "    <tr>\n",
              "      <th>Medical issue</th>\n",
              "      <td>30</td>\n",
              "    </tr>\n",
              "    <tr>\n",
              "      <th>Safety issue</th>\n",
              "      <td>151</td>\n",
              "    </tr>\n",
              "    <tr>\n",
              "      <th>Travel Experience</th>\n",
              "      <td>344</td>\n",
              "    </tr>\n",
              "    <tr>\n",
              "      <th>Feedback / Suggestions (less critical/urgent)</th>\n",
              "      <td>455</td>\n",
              "    </tr>\n",
              "  </tbody>\n",
              "</table>\n",
              "</div>"
            ],
            "text/plain": [
              "                                                  count\n",
              "Spam/Scam/Garbage                                   276\n",
              "Non-Complaint                                       551\n",
              "Delay                                               219\n",
              "Hygeine (food, toilets, carriage)                   174\n",
              "Ticket issue (cancellation, refund, seat change)    298\n",
              "Medical issue                                        30\n",
              "Safety issue                                        151\n",
              "Travel Experience                                   344\n",
              "Feedback / Suggestions (less critical/urgent)       455"
            ]
          },
          "execution_count": 7,
          "metadata": {},
          "output_type": "execute_result"
        }
      ],
      "source": [
        "counts = data.groupby(\"label\").count().loc[:, \"language\"]\n",
        "counts = pd.DataFrame(counts)\n",
        "counts.rename(columns={\"language\": \"count\"}, inplace=True)\n",
        "counts.index = [CLASSES[i] for i in list(counts.index)]\n",
        "counts"
      ]
    },
    {
      "cell_type": "code",
      "execution_count": 8,
      "metadata": {
        "colab": {
          "base_uri": "https://localhost:8080/",
          "height": 206
        },
        "id": "iQWdWllg4GSp",
        "outputId": "e4b38ca0-b5f6-4627-a7d7-b0eafe758db2"
      },
      "outputs": [
        {
          "data": {
            "text/html": [
              "<div>\n",
              "<style scoped>\n",
              "    .dataframe tbody tr th:only-of-type {\n",
              "        vertical-align: middle;\n",
              "    }\n",
              "\n",
              "    .dataframe tbody tr th {\n",
              "        vertical-align: top;\n",
              "    }\n",
              "\n",
              "    .dataframe thead th {\n",
              "        text-align: right;\n",
              "    }\n",
              "</style>\n",
              "<table border=\"1\" class=\"dataframe\">\n",
              "  <thead>\n",
              "    <tr style=\"text-align: right;\">\n",
              "      <th></th>\n",
              "      <th>count</th>\n",
              "    </tr>\n",
              "  </thead>\n",
              "  <tbody>\n",
              "    <tr>\n",
              "      <th>English</th>\n",
              "      <td>2256</td>\n",
              "    </tr>\n",
              "    <tr>\n",
              "      <th>Hindi (devanagari; purely)</th>\n",
              "      <td>94</td>\n",
              "    </tr>\n",
              "    <tr>\n",
              "      <th>Hinglish (devanagari; with english in latin alphabet)</th>\n",
              "      <td>40</td>\n",
              "    </tr>\n",
              "    <tr>\n",
              "      <th>Hinglish (devanagari; with english transliterated to hindi)</th>\n",
              "      <td>18</td>\n",
              "    </tr>\n",
              "    <tr>\n",
              "      <th>Hinglish (latin; with hindi transliterated to english)</th>\n",
              "      <td>90</td>\n",
              "    </tr>\n",
              "  </tbody>\n",
              "</table>\n",
              "</div>"
            ],
            "text/plain": [
              "                                                    count\n",
              "English                                              2256\n",
              "Hindi (devanagari; purely)                             94\n",
              "Hinglish (devanagari; with english in latin alp...     40\n",
              "Hinglish (devanagari; with english transliterat...     18\n",
              "Hinglish (latin; with hindi transliterated to e...     90"
            ]
          },
          "execution_count": 8,
          "metadata": {},
          "output_type": "execute_result"
        }
      ],
      "source": [
        "langs = data.groupby(\"language\").count().loc[:, \"label\"]\n",
        "langs = pd.DataFrame(langs)\n",
        "langs.rename(columns={\"label\": \"count\"}, inplace=True)\n",
        "langs.index = [LANG[i] for i in list(langs.index)]\n",
        "langs"
      ]
    },
    {
      "cell_type": "code",
      "execution_count": 9,
      "metadata": {
        "colab": {
          "base_uri": "https://localhost:8080/",
          "height": 175
        },
        "id": "kBWazJL07r5d",
        "outputId": "99b58d14-2bfa-4ebe-ff7c-69438fd1515b"
      },
      "outputs": [
        {
          "data": {
            "text/html": [
              "<div>\n",
              "<style scoped>\n",
              "    .dataframe tbody tr th:only-of-type {\n",
              "        vertical-align: middle;\n",
              "    }\n",
              "\n",
              "    .dataframe tbody tr th {\n",
              "        vertical-align: top;\n",
              "    }\n",
              "\n",
              "    .dataframe thead th {\n",
              "        text-align: right;\n",
              "    }\n",
              "</style>\n",
              "<table border=\"1\" class=\"dataframe\">\n",
              "  <thead>\n",
              "    <tr style=\"text-align: right;\">\n",
              "      <th></th>\n",
              "      <th>count</th>\n",
              "    </tr>\n",
              "  </thead>\n",
              "  <tbody>\n",
              "    <tr>\n",
              "      <th>None</th>\n",
              "      <td>828</td>\n",
              "    </tr>\n",
              "    <tr>\n",
              "      <th>Low</th>\n",
              "      <td>773</td>\n",
              "    </tr>\n",
              "    <tr>\n",
              "      <th>Pressing</th>\n",
              "      <td>742</td>\n",
              "    </tr>\n",
              "    <tr>\n",
              "      <th>critical</th>\n",
              "      <td>155</td>\n",
              "    </tr>\n",
              "  </tbody>\n",
              "</table>\n",
              "</div>"
            ],
            "text/plain": [
              "          count\n",
              "None        828\n",
              "Low         773\n",
              "Pressing    742\n",
              "critical    155"
            ]
          },
          "execution_count": 9,
          "metadata": {},
          "output_type": "execute_result"
        }
      ],
      "source": [
        "urgency = data.groupby(\"urgency\").count().loc[:, \"label\"]\n",
        "urgency = pd.DataFrame(urgency)\n",
        "urgency.rename(columns={\"label\": \"count\"}, inplace=True)\n",
        "urgency.index = [URGENCY[i] for i in list(urgency.index)]\n",
        "urgency"
      ]
    },
    {
      "cell_type": "code",
      "execution_count": 31,
      "metadata": {
        "colab": {
          "base_uri": "https://localhost:8080/",
          "height": 224
        },
        "id": "8ihM87u7Lmen",
        "outputId": "78452251-352b-47c1-b983-6383186e4e54"
      },
      "outputs": [
        {
          "name": "stdout",
          "output_type": "stream",
          "text": [
            "2256\n"
          ]
        },
        {
          "data": {
            "text/html": [
              "<div>\n",
              "<style scoped>\n",
              "    .dataframe tbody tr th:only-of-type {\n",
              "        vertical-align: middle;\n",
              "    }\n",
              "\n",
              "    .dataframe tbody tr th {\n",
              "        vertical-align: top;\n",
              "    }\n",
              "\n",
              "    .dataframe thead th {\n",
              "        text-align: right;\n",
              "    }\n",
              "</style>\n",
              "<table border=\"1\" class=\"dataframe\">\n",
              "  <thead>\n",
              "    <tr style=\"text-align: right;\">\n",
              "      <th></th>\n",
              "      <th>SentimentText</th>\n",
              "      <th>label</th>\n",
              "      <th>language</th>\n",
              "      <th>urgency</th>\n",
              "    </tr>\n",
              "  </thead>\n",
              "  <tbody>\n",
              "    <tr>\n",
              "      <th>0</th>\n",
              "      <td>@RailMinIndia My PNR is 8348062961, I am in wa...</td>\n",
              "      <td>3</td>\n",
              "      <td>0</td>\n",
              "      <td>0</td>\n",
              "    </tr>\n",
              "    <tr>\n",
              "      <th>1</th>\n",
              "      <td>@sureshpprabhu @RailMinIndia AC not working in...</td>\n",
              "      <td>7</td>\n",
              "      <td>0</td>\n",
              "      <td>0</td>\n",
              "    </tr>\n",
              "    <tr>\n",
              "      <th>2</th>\n",
              "      <td>@RailMinIndia I'm traveling to chennai by trai...</td>\n",
              "      <td>3</td>\n",
              "      <td>0</td>\n",
              "      <td>0</td>\n",
              "    </tr>\n",
              "    <tr>\n",
              "      <th>3</th>\n",
              "      <td>@RailMinIndia irctc is not responding at the t...</td>\n",
              "      <td>8</td>\n",
              "      <td>0</td>\n",
              "      <td>1</td>\n",
              "    </tr>\n",
              "    <tr>\n",
              "      <th>4</th>\n",
              "      <td>@DRMbhopal @RailMinIndia @sanjaygupta2012 @drm...</td>\n",
              "      <td>1</td>\n",
              "      <td>0</td>\n",
              "      <td>-1</td>\n",
              "    </tr>\n",
              "  </tbody>\n",
              "</table>\n",
              "</div>"
            ],
            "text/plain": [
              "                                       SentimentText  label  language  urgency\n",
              "0  @RailMinIndia My PNR is 8348062961, I am in wa...      3         0        0\n",
              "1  @sureshpprabhu @RailMinIndia AC not working in...      7         0        0\n",
              "2  @RailMinIndia I'm traveling to chennai by trai...      3         0        0\n",
              "3  @RailMinIndia irctc is not responding at the t...      8         0        1\n",
              "4  @DRMbhopal @RailMinIndia @sanjaygupta2012 @drm...      1         0       -1"
            ]
          },
          "execution_count": 31,
          "metadata": {},
          "output_type": "execute_result"
        }
      ],
      "source": [
        "eng_data = data[data[\"language\"] == 0].copy()\n",
        "print(len(eng_data))\n",
        "eng_data.head()"
      ]
    },
    {
      "cell_type": "markdown",
      "metadata": {
        "id": "4XdorzKJvH9n"
      },
      "source": [
        "Removing lines with encoding errors, faulty data\n"
      ]
    },
    {
      "cell_type": "code",
      "execution_count": 32,
      "metadata": {
        "colab": {
          "base_uri": "https://localhost:8080/"
        },
        "id": "UP_zpRNGMP9J",
        "outputId": "b265e4b6-0ce3-482c-d74c-0d0e5a7cf58f"
      },
      "outputs": [
        {
          "name": "stdout",
          "output_type": "stream",
          "text": [
            "Len before filtering: 2256\n",
            "@RailMinIndia Sir, ?? ?????? ????? ?????? ?? ?????????? ?? 6 ?? water point ???? ???? ??? ?? ??? ???  ?????? ??????. https://t.co/sMfHUZdN2U\n",
            "@RailMinIndia ????? ???? 22415 , current location ????????? , B6 coach , AC ???? ?? ???, ??? ??? ??? ????\n",
            "@sureshpprabhu @RailMinIndia Enjoying WiFi at Lko station.Good speed.15% service tax ????  WIFi ?? ???? ???cleaning is also good here.\n",
            "@sureshpprabhu @RailMinIndia @drmbikaner @SrdcmC  ??!STNL stn ?? ??? concerned officer ???? ???????????? ??,???? ???? mini ??? only ?? ??? ?\n",
            "@RailMinIndia Sir,???? ?????? ???? Tweet Delete ?? ???? ??,water point ?? ???????? ???? ???? ?? ??? ??,???? ??????? ???? ?? ???? action ????\n",
            "@sureshpprabhu  Sorry to say bitter true that there is no ?????? ???? ?????? at Patna Jn. Still dirty platform n rail tracks. @RailMinIndia\n",
            "@RailMinIndia  ?????? ??? ?? ?????? ?? ??? ????? ??? ???? ?? ?? ????? ???? ?? ??????#FearOfDelayed\n",
            "@RailMinIndia ?? ??xerox ???? ?? ??? ???? ??? ?? ? ?? ??? ??? ??,????? ticket ??????  ???? ??? ???, ????? ???? ??????? ???,????,08305008854\n",
            "Len after filtering: 2248\n"
          ]
        }
      ],
      "source": [
        "print(f\"Len before filtering: {len(eng_data)}\")\n",
        "\n",
        "print(*list(eng_data[eng_data[\"SentimentText\"].str.count(r\"\\?\") > 10][\"SentimentText\"]), sep=\"\\n\")\n",
        "# Filter out encoding mistakes (as repeated question marks)\n",
        "eng_data = eng_data[eng_data[\"SentimentText\"].str.count(r\"\\?\") <= 10]\n",
        "print(f\"Len after filtering: {len(eng_data)}\")\n"
      ]
    },
    {
      "cell_type": "code",
      "execution_count": 33,
      "metadata": {
        "colab": {
          "base_uri": "https://localhost:8080/"
        },
        "id": "fK9LXU2Fq3JO",
        "outputId": "bcabf271-f0c9-4b1f-f6a6-c7850aed1439"
      },
      "outputs": [
        {
          "name": "stdout",
          "output_type": "stream",
          "text": [
            "Len before filtering: 2248\n",
            "@RailMinIndia à¤à¤ à¤¬à¤¾à¤¢à¤¼ à¤¸à¥à¤à¥à¤¶à¤¨ à¤¸à¥ à¤®à¥à¤à¤¾à¤®à¤¾ à¤¸à¥à¤à¥à¤¶à¤¨ à¤à¥ à¤¬à¥à¤ à¤à¥à¤°à¥à¤¨ no.13226 à¤®à¥à¤ 30km à¤®à¥à¤ 60 à¤¬à¤¾à¤° à¤à¥à¤¨ à¤ªà¥à¤²à¤¿à¤à¤ à¤¹à¥à¤,à¤à¤¸à¤¾ à¤°à¥à¤ à¤¹à¥à¤¤à¤¾ à¤¹à¥ à¤à¤ à¤à¥à¤ à¤à¥à¤¯à¤¾à¤¦à¤¾ à¤¹à¥à¤\n",
            "@RailMinIndia à¤¯à¥ à¤à¤ à¤¦à¤¶à¤à¥à¤ à¤¸à¥ à¤¬à¤¦à¤¹à¤¾à¤² à¤ªà¥à¤² #à¤à¤à¤à¤¾à¤°à¤ªà¥à¤° à¤­à¥ à¤à¤ª à¤²à¥à¤ à¤¦à¥à¤ à¤²à¥à¤à¤¿à¤¯à¥ à¤¯à¥ à¤­à¥ RAILWAY à¤à¤¾ à¤¹à¥ à¤¹à¥ @sureshpprabhu RT PLS. https://t.co/0d16iFGr74\n",
            "@sureshpprabhu @GMSECR @RailMinIndia à¤à¤¾ à¤à¤ à¤¬à¤¹à¥à¤à¤ªà¤¯à¥à¤à¥ à¤à¤à¤¡à¥à¤°à¥à¤¯à¤¡ à¤à¤ªà¥à¤²à¥à¤à¥à¤¶à¤¨à¥¤ à¤¡à¤¾à¤à¤¨à¤²à¥à¤¡ à¤à¤°à¥à¤...https://t.co/KqdS66Nusp https://t.co/9NO9H412ZX\n",
            "@RailMinIndia à¤à¥à¤°à¥à¤¨ à¤®à¥à¤ 7 à¤°à¥ à¤à¤¾ à¤à¤¾à¤¯ 10 à¤°à¥ à¤®à¥à¤, 15 à¤°à¥ à¤à¤¾ à¤ªà¤¾à¤¨à¥ 20 à¤°à¥ à¤®à¥à¤,35 à¤°à¥ à¤à¤¾ à¤ à¤à¤¡à¤¾ 40 à¤°à¥ à¤®à¥à¤ à¤à¤°à¥à¤¦à¤¨à¥ à¤à¥ à¤®à¤à¤¬à¥à¤° à¤¹à¥à¤.Trn 12554 PNR 2643083359.\n",
            "@RailMinIndia à¤®à¥à¤à¤¬à¤ à¤à¥ à¤¹à¤¾à¤°à¥à¤¬à¤° à¤²à¤¾à¤à¤¨ à¤®à¥ à¤­à¤¿à¤à¤¾à¤°à¥ à¤ªà¥à¤¸à¥à¤à¤à¤° à¤à¥ à¤ªà¤°à¥à¤¶à¤¾à¤¨ à¤à¤°à¤¤à¥ à¤¹à¥! https://t.co/5Pk8QY2gwv\n",
            "@RailMinIndia à¤¸à¥à¤°à¥à¤¶ à¤ªà¥à¤°à¤­à¥ à¤à¥ à¤°à¥à¤²à¤µà¥ à¤ªà¥à¤à¤à¥à¤°à¥ à¤à¤¾à¤° à¤µà¤¾à¤²à¥ à¤à¥ à¤¦à¥à¤µà¤¾à¤°à¤¾ à¤à¤µà¥à¤§ à¤µà¤¸à¥à¤²à¥ à¤à¥à¤¨ à¤°à¥à¤à¥à¤à¤¾à¥¤ à¤°à¥à¤² à¤®à¥à¤ à¤¸à¤­à¥ à¤¸à¤¾à¤®à¤¾à¤¨ à¤®à¥à¤ 3 à¤¸à¥ 5 à¤°à¥à¤ªà¤¯à¤¾ à¤à¤§à¤¿à¤ à¤µà¤¸à¥à¤²à¤¾ à¤à¤¾à¤¤à¤¾ à¤¹à¥\n",
            "@RailMinIndia @drmdhnecr à¤¸à¤°à¥¤ à¤à¤¨ à¤à¤¿à¤²à¤¾à¤¡à¤¿à¤¯à¥à¤ à¤à¥ à¤µà¥âà¤¯à¤¥à¤¾ à¤­à¥ à¤¸à¥à¤¨ à¤²à¥à¤à¤¿à¤à¥¤ https://t.co/YwZJqWAzTc\n",
            "@RailMinIndia @drmdhnecr à¤¸à¤°à¥¤ à¤°à¥à¤²à¤µà¥ à¤à¥ à¤à¤¿à¤²à¤¾à¤¡à¤¿à¤¯à¥à¤ à¤à¥ à¤­à¥ à¤à¤ªà¤¨à¥ à¤®à¥à¤¦à¤¾à¤¨ à¤®à¥à¤ à¤à¥à¤²à¤¨à¥ à¤à¥ à¤à¤¨à¥à¤®à¤¤à¤¿ à¤à¥âà¤¯à¥à¤ à¤¨à¤¹à¥à¤à¥¤ https://t.co/r8hViYaHgE\n",
            "@sureshpprabhu @RailMinIndia à¤à¤à¥à¤à¤¾ à¤à¤¾à¤® à¤à¤¤à¤ à¤à¤­à¤¾à¤° à¤µ à¤§à¤¨à¥à¤¯à¤µà¤¾à¤¦.Download hike messenger at https://t.co/Pq4wNMZegb https://t.co/p2cljI5hLS\n",
            "@RailMinIndia à¤à¤¸à¥ à¤à¤ à¤¸à¥à¤à¤¾à¤µ à¤à¥ à¤¤à¤°à¤¹ à¤²à¥à¤ à¤à¤à¤° à¤à¤¨à¤°à¤² à¤¸à¥à¤à¥à¤ à¤®à¥à¤ à¤¬à¤¢à¤¼à¥à¤¤à¥à¤¤à¤°à¥ à¤à¤à¤¾à¤¨à¤ à¤¸à¤®à¥à¤­à¤µ à¤¨à¤¹à¥à¤ à¤¹à¥ à¤¤à¥ https://t.co/kpnjOg3QFE\n",
            "@RailMinIndia à¤­à¤¾à¤°à¤¤ à¤¨à¥à¤ªà¤¾à¤² à¤¸à¥à¤®à¤¾ à¤¸à¥ à¤¸à¥à¤à¥ à¤°à¥à¤²à¤µà¥ à¤¸à¥à¤à¥à¤¶à¤¨ à¤¸à¥ à¤¹à¥à¤¤à¤¾ à¤¹à¥ à¤§à¤¡à¤²à¥à¤²à¥ à¤¸à¥ à¤¸à¥à¤®à¥à¤à¥à¤²à¤¿à¤à¤ ?à¤°à¥à¤²à¤µà¥ à¤ªà¥à¤²à¤¿à¤¸ à¤¸à¥à¤®à¤¾ à¤¸à¥à¤°à¤à¥à¤·à¤¾ à¤¬à¤² à¤¸à¤¿à¤à¥ à¤ªà¥à¤²à¤¿à¤¸ à¤µ à¤¸à¥à¤à¥à¤¶à¤¨ à¤à¤¾ à¤¸à¥à¤à¤¾à¤«\n",
            "@RailMinIndia à¤¹à¤¿à¤à¤¡à¤¼à¥ à¤²à¥à¤ à¤à¤°à¥à¤¬ 4 à¤¸à¥ 5 à¤¬à¤¾à¤° à¤à¤à¤° à¤²à¥à¤à¥à¤ à¤à¥ à¤à¤¬à¤°à¤¦à¤¸à¥à¤¤à¥ à¤ªà¤°à¥à¤¶à¤¾à¤¨ à¤à¤° à¤°à¤¹à¥ à¤¹à¥ à¤²à¥à¤à¥ à¤à¥ à¤¨à¥à¤à¤¦ à¤¸à¥ à¤à¤à¤¾ à¤à¤° à¤ªà¥à¤¸à¥ à¤²à¥ à¤°à¤¹à¥ à¤¹à¥à¥¤ à¤à¥à¤¯à¤¾ à¤¯à¤¹à¥ à¤¸à¤¿à¤à¥à¤¯à¥à¤°à¤¿à¤à¥\n",
            "@RailMinIndia à¤¸à¤° train no-13244 à¤®à¥à¤ escorting à¤à¥ à¤à¥à¤ à¤¸à¥à¤¬à¤¿à¤§à¤¾ à¤¨à¤¹à¥à¤ à¤¹à¥ à¥¤ à¤à¤° à¤¡à¥à¤²à¥ à¤à¤¸ à¤à¥à¤°à¥à¤¨ à¤®à¥à¤ à¤­à¥à¤à¥à¤® à¤¹à¥à¤¤à¤¾ à¤¹à¥ à¥¤ drm à¤¦à¤¾à¤¨à¤¾à¤ªà¥à¤° à¤à¥ à¤à¥à¤µà¥à¤ à¤à¤¿à¤¯à¤¾ à¤ªà¤°\n",
            "@RailMinIndia drm à¤¦à¤¾à¤¨à¤¾à¤ªà¥à¤° à¤à¥ à¤à¤® à¤¸à¥ à¤à¤® 10 à¤¬à¤¾à¤° à¤à¥à¤µà¥à¤ à¤à¤¿à¤¯à¤¾ à¤¹à¥ à¤²à¥à¤à¤¿à¤¨ à¤à¤¸ à¤à¥à¤°à¥à¤¨ à¤®à¥à¤ escorting à¤à¥ à¤à¤­à¥ à¤¤à¤ à¤¸à¥à¤¬à¤¿à¤§à¤¾ à¤¨à¤¹à¥à¤ à¤à¤° à¤ªà¤¾à¤¯à¤¾ à¤¹à¥ à¤ªà¥à¤²à¥à¤ à¤¸à¤° à¤à¤à¥à¤¶à¤¨ à¤²à¥\n",
            "@RailMinIndia à¤¸à¤° à¤à¥à¤°à¥à¤¨ no 11124 à¤à¥ à¤à¤¸ 7 à¤¬à¥à¤à¥ à¤®à¥à¤ à¤²à¤¾à¤à¤ à¤«à¥à¤¨ à¤à¤¾à¤¨à¤ªà¥à¤° à¤¸à¥ à¤¨à¤¹à¥à¤ à¤à¤² à¤°à¤¹à¥ à¤¹à¥à¥¤ 138 à¤ªà¤° complain à¤à¤¿à¤¯à¤¾ à¤à¥à¤°à¥à¤¨ à¤à¤ªà¤°à¤¾ à¤ à¤à¤¯à¥ à¤²à¥à¤à¤¿à¤¨ à¤«à¥à¤¨ à¤¨à¤¹à¥à¤ à¤à¤²à¤¾\n",
            "@RailMinIndia à¤®à¤¹à¥à¤¦à¤¯, à¤à¥à¤°à¥à¤¨à¥à¤ à¤®à¥à¤ à¤à¤²à¥à¤¦à¥,à¤à¤°à¥à¤°à¤¤ à¤à¥à¤¸à¤®à¤¯ à¤°à¤¿à¤à¤¼à¤°à¥à¤µ à¤à¤¿à¤à¤ à¤¹à¥ à¤¨à¤¹à¥à¤ à¤®à¤¿à¤²à¤¤à¥ à¤¹à¥,à¤µà¥à¤à¤¿à¤à¤ à¤à¤²à¤¤à¥ à¤°à¤¹à¤¤à¥ à¤¹à¥?à¤à¤ à¤¸à¤¿à¤à¥à¤à¤ à¤¹à¥ à¤®à¤¿à¤²à¥,à¤à¥à¤ à¤à¥à¤à¤¿à¤¯à¥ à¤¸à¤° à¤ªà¥à¤²à¥à¤à¥¤\n",
            "@RailMinIndia à¤ªà¥à¤£à¥-à¤²à¥à¤£à¤¾à¤µà¤³à¤¾ à¤à¥ à¤¬à¥à¤ à¤¶à¥à¤à¥à¤°à¤à¤¾à¤¡à¥à¤¯à¥ à¤®à¥à¤ 'à¤µà¤¿à¤®à¤² à¤à¥à¤à¤à¤¾' à¤à¥à¤²à¥ à¤¬à¤¿à¤à¤¤à¤¾ à¤¹à¥à¥¤ à¤°à¥à¤² à¤à¤°à¤à¥à¤·à¥(RPF) à¤à¤¨à¤¸à¥ à¤ªà¥à¤¸à¥ à¤²à¥à¤à¤° à¤à¤¨à¥à¤¹à¥à¤ à¤à¤¨à¥à¤®à¤¤à¥ à¤¦à¥à¤¤à¥ à¤¹à¥à¥¤\n",
            "@RailMinIndia à¤à¥ à¤¸à¥à¤à¤¨à¤¾à¤°à¥à¤¥ https://t.co/BP7LtqwQT1\n",
            "@RailMinIndia à¤à¥à¤°à¥à¤¨ à¤¨à¤à¤¬à¤° 22415 , current location à¤à¤à¤à¤µà¤¾à¤¸à¥à¤¦à¤¾ , B6 coach , AC à¤¨à¤¹à¥à¤ à¤à¤² à¤°à¤¹à¤¾, à¤à¥à¤ à¤¨à¤¹à¥ à¤¸à¥à¤¨ à¤°à¤¹à¤¾à¥¤\n",
            "@sureshpprabhu @RailMinIndia @GM_ECRly @drmsee1 @spjdivn @drmdelhi à¤à¤¬ à¤¤à¤ à¤¹à¥à¤à¥ à¤à¤°à¤µà¤¾à¤ à¤¸à¤° https://t.co/TnT8ukZ3ny\n",
            "@RailMinIndia @sureshprabhu à¤ªà¥à¤°à¥à¤£à¤¿à¤¯à¤¾ - à¤¸à¤¹à¤°à¤¸à¤¾ à¤¬à¤¡à¤¼à¥ à¤°à¥à¤² à¤²à¤¾à¤à¤¨ à¤¸à¥à¤µà¤¾ à¤à¤¾ à¤¶à¥à¤­à¤¾à¤°à¤à¤­ à¤ªà¥à¤°à¥à¤£à¤¿à¤¯à¤¾ à¤¸à¥ à¤¨à¤¹à¥à¤ à¤¹à¥à¤¨à¤¾, à¤ªà¥à¤°à¥à¤£à¤¿à¤¯à¤¾ à¤à¤¾ à¤à¤ªà¤®à¤¾à¤¨ à¤à¤° à¤­à¤¾à¤à¤ªà¤¾ à¤à¤¾ à¤¨à¥à¤à¤¸à¤¾à¤¨ à¤¹à¥à¥¤\n",
            "@RailMinIndia @sureshprabhu à¤ªà¥à¤°à¥à¤£à¤¿à¤¯à¤¾ à¤à¤à¤à¥à¤¶à¤¨ à¤®à¥à¤  à¤à¥à¤°à¥à¤¨ à¤µà¤¾à¤¶à¤¿à¤à¤ à¤®à¤¶à¥à¤¨ à¤à¤ªà¤²à¤¬à¥à¤§ à¤à¤°à¤¾à¤¨à¥ à¤à¤° à¤ªà¥à¤°à¥à¤£à¤¿à¤¯à¤¾ à¤à¤à¤à¥à¤¶à¤¨ à¤à¥ à¤à¤¦à¤°à¥à¤¶ à¤¬à¤¨à¤¾à¤¨à¥ à¤¹à¥à¤¤à¥ \"à¤¸à¤¾à¤¦à¤° à¤¨à¤¿à¤µà¥à¤¦à¤¨\"\n",
            "@RailMinIndia @sureshpprabhu @GM_ECRly @spjdivn à¤¸à¥à¤µà¤¤à¤à¤¤à¥à¤°à¤¤à¤¾ à¤¸à¥à¤¨à¤¾à¤¨à¥ à¤à¤à¥à¤¸à¤ªà¥à¤°à¥à¤¸ à¤®à¥à¤ à¤à¤ªà¤°à¥à¤¶à¤¨ âà¤à¤¾à¤²à¤¾ à¤ªà¤¾à¤¨à¥â ! @railhttps://t.co/1f97ELZuwy via @\n",
            "@RailMinIndia @IRCTC_Ltd  à¤à¤ 50 à¤®à¤¿à¤¨à¤ à¤¤à¤ à¤à¤¿à¤à¤ à¤à¥ à¤¸à¤¾à¤à¤¡ à¤¨à¤¹à¥à¤  à¤à¤²à¥ à¤à¤° à¤«à¤¿à¤° à¤¸à¤¿à¤ à¤à¤¤à¥à¤® à¤¹à¥à¤¨à¥ à¤à¥ à¤¬à¤¾à¤¦ à¤¸à¤¾à¤à¤¡ à¤à¤²à¤¤à¤¾ à¤¹à¥ à¤¯à¥ à¤¹à¥ à¤à¤à¥à¤à¤¾ à¤¦à¤¿à¤¨\n",
            "@RailMinIndia à¤§à¤¨à¤¬à¤¾à¤¦ à¤¡à¤¿à¤µà¤¿à¤à¤¨ à¤à¥ à¤°à¥à¤² à¤à¤°à¥à¤®à¥ à¤à¤ªà¤¨à¥ à¤µà¤°à¥à¤¦à¥ à¤®à¥à¤ à¤à¤¬ à¤¸à¥ à¤¡à¥à¤¯à¥à¤à¥ à¤®à¥à¤ à¤à¤¨à¥ à¤²à¤à¥à¤à¤à¥à¥¤\n",
            "@RailMinIndia   à¤®à¤à¤¤à¥à¤°à¥ à¤à¥ à¤à¤à¥à¤à¤° à¤®à¥à¤ à¤¦à¤¹à¤² à¤à¤¯à¤¾ à¤®à¥à¤¤à¤¿à¤¹à¤¾à¤°à¥, à¤¬à¤¡à¤¼à¥ à¤¹à¤¾à¤¦à¤¸à¥ à¤®à¥à¤ à¤à¤ à¤¬à¤à¥à¤à¥ à¤®à¤°à¥, à¤¤à¥à¤¨ à¤²à¥à¤ à¤à¤à¥à¤®à¥ https://t.co/kG9aI0GScI\n",
            "@sureshpprabhu @RailMinIndia. à¤à¤² à¤®à¤¾à¤¨à¤¨à¥à¤¯ à¤®à¤à¤¤à¥à¤°à¥  à¤®à¥à¤¤à¤¿à¤¹à¤¾à¤°à¥ à¤ à¤°à¤¹à¥ à¤¹à¥à¤!à¤¹à¤® à¤à¤ªà¤¸à¥  à¤à¤¡à¤¼à¥ à¤à¤¾à¤°à¥à¤°à¤µà¤¾à¤ à¤à¥ à¤à¤ªà¥à¤à¥à¤·à¤¾  à¤à¤°à¤¤à¥ à¤¹à¥à¤ https://t.co/5PeAdpOBYu\n",
            "@RailMinIndia @sureshpprabhu @PMOIndia  à¤¸à¥à¤µà¤à¥à¤ à¤­à¤¾à¤°à¤¤à¥à¤¯ à¤°à¥à¤² à¤à¥ à¤¦à¤¾à¤µà¥à¤ à¤à¥ à¤ªà¥à¤² à¤à¥à¤²à¤¤à¤¾ à¤ªà¥à¤®à¤°à¥ à¤à¥ à¤¬à¤à¤¿à¥à¤¤à¤¯à¤¾à¤°à¤ªà¥à¤° à¤à¤ à¤à¤¾ à¤¯à¤¹ à¤¨à¤à¤¾à¤°à¤¾ https://t.co/iiRJ0W2rqK\n",
            "@RailMinIndia @sureshpprabhu @PMOIndia à¤ªà¥à¤®à¤°à¥ à¤à¥ à¤¬à¤à¤¿à¥à¤¤à¤¯à¤¾à¤°à¤ªà¥à¤° à¤à¤ à¤à¤¾ à¤ªà¥à¤°à¤¾ à¤ªà¥à¤²à¥à¤à¤«à¤¾à¤°à¥à¤® à¤¨à¤°à¤ à¤®à¥à¤ à¤¤à¤¬à¥à¤¦à¥à¤² à¤¹à¥ à¤à¥à¤à¤¾ à¤¹à¥ https://t.co/GpY4rruFe4\n",
            "@RailMinIndia @sureshpprabhu @PMOIndia  à¤¸à¥à¤µà¤à¥à¤  à¤°à¥à¤² à¤à¤­à¤¿à¤¯à¤¾à¤¨ à¤à¥ à¤à¤à¤µà¥ à¤¸à¤à¥à¤à¤¾à¤ à¤¹à¥  à¤à¤¾à¤°à¥à¤¯à¥à¤ à¤à¥ à¤ªà¥à¤°à¤¤à¤¿ à¤à¤¿à¤®à¥à¤®à¥à¤¦à¤¾à¤° à¤²à¥à¤à¥ à¤ªà¤° à¤à¤¾à¤°à¥à¤°à¤µà¤¾à¤ à¤à¥à¤¯à¥à¤ à¤¨à¤¹à¥à¤ à¤¹à¥à¤¤à¥\n",
            "@RailMinIndia @sureshpprabhu @PMOIndia à¤ªà¥à¤®à¤°à¥ à¤¦à¤¾à¤¨à¤¾à¤ªà¥à¤° à¤°à¥à¤² à¤®à¤à¤¡à¤² à¤¬à¤à¤¿à¥à¤¤à¤¯à¤¾à¤°à¤ªà¥à¤° à¤à¤ à¤à¤¾ à¤¨à¤°à¤à¥à¤¯ à¤¦à¥à¤¶à¥à¤¯ https://t.co/zkdEESXcGO\n",
            "@sureshpprabhu à¤¸à¤¬ à¤ à¥à¤ à¤²à¤à¤¤à¤¾ à¤¹à¥ à¤®à¤à¤° à¤°à¥à¤²à¤µà¥ à¤¸à¥à¤à¥à¤¶à¤¨ à¤®à¥à¤ à¤ªà¥à¤¨à¥à¤à¤¾ à¤ªà¤¾à¤¨à¥ à¤à¤¾ à¤µà¥à¤¯à¤µà¤¸à¥à¤¥à¤¾ à¤à¤°à¤¨à¥ à¤®à¥à¤ @RailMinIndia à¤à¤¬ à¤¬à¤¦à¤²à¥à¤à¤¾...?? #TANDUR RAILWAY STATION\n",
            "@sureshpprabhu à¤à¥ iam also Indian citizen and Tandur station also in India.... No action, no reply, no water @RailMinIndia @SCRailwayIndia\n",
            "@RailMinIndia à¤°à¥à¤²à¤µà¥ à¤à¤­à¥ à¤¨à¤¹à¥ à¤¸à¥à¤§à¤° à¤¸à¤à¤¤à¤¾ à¤¹à¥ à¤®à¥ à¤ªà¥à¤°à¥à¤µà¤¾à¤à¤à¤² express à¤®à¥ à¤®à¥à¤à¤«à¥à¤«à¤°à¤ªà¥à¤° à¤¸à¥ à¤¬à¥à¤ à¤¾ à¤¹à¥  à¤à¥à¤°à¥à¤¨ à¤ªà¤¹à¤²à¥ à¤à¤¿ à¤¤à¤°à¤¹ à¤¹à¥ à¤²à¥à¤ à¤¹à¥\n",
            "@RailMinIndiaà¤à¥à¥à¤¨à¥à¤ à¤à¥ à¤ªà¥à¤¨à¤à¤à¥à¥ à¤à¤¾à¤° à¤®à¥ à¤°à¥à¤ à¤²à¤¿à¤¸à¥à¤ à¤¸à¥ à¤¦à¥à¤à¥à¤¨à¤¾ à¤à¤§à¤¿à¤ à¤°à¥à¤ à¤®à¥ à¤¸à¤¾à¤®à¤¾à¤¨ à¤¬à¥à¤à¤¾ à¤à¤¾à¤¤à¤¾ à¤¹à¥ à¤ à¥à¤à¥à¤¦à¤¾à¤°à¥ à¤à¥ à¤à¤¸ à¤ à¤à¤¾à¤ à¤à¥ à¤°à¥à¤à¤¨à¥ à¤à¥ à¤à¤µà¤¶à¥à¤¯à¤à¤¤à¤¾ à¤¹à¥\n",
            "@sureshpprabhu @RailMinIndia @GMNWRailway @drmbikaner @SrdcmC    @Nirmal12964  STNLstn à¤ªà¤° à¤¯à¤¾à¤¤à¥à¤°à¥à¤­à¤¾à¤° à¤µ à¤à¤¯ à¤¬à¤¿à¤¨à¤¾ à¤¦à¥à¤à¥ à¤¶à¥à¤¡ à¤¹à¥à¤¤à¥ à¤à¤¨à¤ªà¥à¤à¥à¤·à¤¿à¤¤ Ansà¤¹à¥à¤\n",
            "@sureshpprabhu @RailMinIndia #à¤à¤à¤à¤¾à¤°à¤ªà¥à¤° à¤à¤¾ à¤¯à¥ à¤¬à¤¦à¤¹à¤¾à¤² à¤à¤¤à¤°à¤¨à¤¾à¤ à¤ªà¥à¤² #à¤¸à¤à¤°à¥ à¤¸à¥ #à¤¨à¤¿à¤°à¥à¤®à¤²à¥à¤²à¥ à¤à¥à¤à¥ à¤²à¤¾à¤à¤¨ à¤ªà¥ à¤¹à¥ @EasternRailway https://t.co/RBwwUa8xaF\n",
            "@sureshpprabhu @RailMinIndia  à¤¸à¤° à¤¬à¤à¥à¤à¥ à¤à¥ à¤¨à¤¾à¤®à¤¾à¤à¤à¤¨ à¤¹à¥à¤¤à¥ à¤®à¤¦à¥à¤°à¤¾à¤¸ à¤à¥ à¤à¤¾à¤¨à¥ à¤µà¤¾à¤²à¥ à¤à¤¾à¤¡à¤¼à¥ à¤®à¥à¤ à¤à¤°à¤¶à¥à¤°à¤£ à¤¨ à¤®à¤¿à¤²à¤¨à¥ à¤¸à¥ à¤§à¥à¤° à¤à¤¸à¤®à¤à¤à¤¸ à¤®à¥à¤ à¤¹à¥à¥ à¥¤ pnr 6352833550\n",
            "@RailMinIndia #à¤®à¥à¤°à¤¾_à¤¦à¥à¤¶_à¤¬à¤¦à¤²_à¤°à¤¹à¤¾_à¤¹à¥ https://t.co/ZrL3OAcnqO\n",
            "@RailMinIndia  à¤à¤¬ à¤à¥à¤°à¥à¤¨ à¤®à¥à¤ à¤à¤à¥à¤²à¥ à¤¸à¤«à¤° à¤à¤°à¤¨à¥ à¤ªà¤° à¤­à¥ à¤¦à¤¿à¤µà¥à¤¯à¤¾à¤à¤à¥ à¤à¥ à¤®à¤¿à¤²à¥à¤à¥ à¤à¥à¤ https://t.co/v4RuNvdpfi via @EEnadu\n",
            "@RailMinIndia 19061à¤à¥ s6 à¤à¥à¤ à¤¸à¥ à¤à¤ à¤²à¤¾à¤µà¤¾à¤°à¤¿à¤¸ à¤¬à¥à¤ à¤à¥à¤à¤¾ à¤à¤à¤à¥à¤¶à¤¨ à¤ªà¤° à¤¸à¤°à¤¦à¤¾à¤° à¤¸à¤¿à¤à¤¹ à¤à¥à¤°à¥à¤à¤° à¤¨à¤¾à¤® à¤à¥ à¤°à¥à¤²à¤µà¥ à¤ªà¥à¤²à¤¿à¤¸ à¤à¤§à¤¿à¤à¤¾à¤°à¥ à¤à¥ à¤¦à¤¿à¤¯à¤¾ à¤à¤¯à¤¾ à¤à¤¸à¤à¥ à¤à¥à¤ à¤à¤¾à¤¨à¤à¤¾à¤°à¥ ?\n",
            "@RailMinIndia @RailMinInShadow 12024 à¤®à¥à¤ à¤°à¥à¤² à¤¨à¥à¤° à¤¬à¤¿à¤²à¤à¥à¤² à¤¨à¤¹à¥à¤ à¤®à¤¿à¤²à¤¤à¥ à¤¹à¥,,à¤à¥à¤ à¤­à¥ à¤«à¤¾à¤²à¤¤à¥ à¤ªà¤¾à¤¨à¥ à¤®à¤¿à¤²à¤¤à¤¾ à¤¹à¥,,,à¤à¤° à¤¬à¤¹à¥à¤¤ à¤¸à¥ à¤à¥à¤°à¤à¤¾à¤¨à¥à¤¨à¥ à¤µà¥à¤à¤¡à¤° à¤²à¥à¤à¥ à¤à¥ à¤¤à¤¨à¥à¤\n",
            "@RailMinIndia @sureshpprabhu à¤ªà¤¹à¥à¤à¤à¥ à¤®à¥à¤à¤«à¥à¤«à¤°à¤ªà¥à¤° à¤µà¤¿à¤¶à¥à¤· à¤¸à¥à¤²à¥à¤¨ à¤¸à¥ à¤®à¥à¤à¤«à¥à¤«à¤°à¤ªà¥à¤° à¤ªà¤¹à¥à¤à¤à¥ à¤°à¥à¤² à¤®à¤à¤¤à¥à¤°à¥#sureshprabhu #livemithila #bihar\n",
            "@RailMinIndia 11072 à¤µà¤¾à¤°à¤¾à¤£à¤¸à¥ à¤®à¥à¤®à¥à¤¬à¤  à¤ªà¤¾à¤¨à¥ à¤à¤¾à¤¯à¤²à¥à¤ à¤¸à¤«à¤¼à¤¾à¤ à¤¬à¤¿à¤²à¥à¤à¥à¤² à¤¨à¤¹à¥à¤  à¤°à¥à¤² à¤®à¤à¤¤à¥à¤°à¥ à¤à¥ à¤à¤à¤¦à¥ à¤µà¥à¤¯à¤µà¤¸à¥à¤¥à¤¾ à¤à¤¾à¤®à¤¾à¤¯à¤¨à¥ à¤¨à¤¾à¤® à¤ªà¤° à¤¶à¤°à¥à¤® à¤¹à¥\n",
            "@RailMinIndia @sureshpprabhu sir à¤®à¥à¤ à¤à¤ Nainital à¤à¤¾ à¤°à¤¹à¤¾ à¤¹à¥à¤ à¤à¤¢à¤¼ à¤à¥à¤² NH-24 à¤à¥ à¤ªà¤¾à¤¸ 6-7 à¤°à¥à¤² à¤à¥à¤ à¤ªà¤¡à¤¼à¥ à¤¹à¥à¤ à¤¹à¥ à¤à¤ à¤¾à¤¨à¥ à¤à¤¾ à¤à¤·à¥à¤ à¤à¤°à¥à¤ !!\n",
            "@railminindia @sureshprabhu @drmmalda à¤­à¤¾à¤à¤²à¤ªà¥à¤° à¤à¤à¤à¥à¤¶à¤¨ à¤ªà¤° à¤¤à¥à¤¸à¤°à¥ à¤à¤à¤ à¤¬à¤à¤¦, à¤à¤à¤à¥à¤°à¥à¤² à¤°à¥à¤® à¤®à¥à¤ à¤¤à¤¾à¤²à¤¾ https://t.co/wD8Gh6basc\n",
            "@RailMinIndia à¤®à¥à¤°à¥ à¤¬à¤¹à¤¨ à¤à¥ à¤¦à¥ à¤¬à¥à¤ à¤à¥à¤°à¥ à¤¹à¥à¤ à¤à¤° à¤à¤¸à¤®à¥ à¤à¤¨à¥-à¤à¤¾à¤¨à¥ à¤à¥ à¤à¤¨à¥à¤«à¤°à¥à¤® à¤à¤¿à¤à¥à¤ à¤¥à¥PNR 6654061765, Train no. 18237 à¤à¤¨à¤à¥ à¤ªà¤¾à¤¸ à¤à¥à¤µà¤² xerox copy à¤¹à¥..\n",
            "@RailMinIndia à¤à¥ à¤¸à¥xerox à¤à¤¿à¤à¤ à¤à¥ à¤®à¤¾à¤¨ à¤¨à¤¹à¥à¤ à¤°à¤¹à¤¾ à¤¹à¥ à¥¤ à¤µà¥ à¤¸à¤¾à¤¤ à¤²à¥à¤ à¤¹à¥,à¤à¥à¤ªà¤¯à¤¾ ticket à¤¸à¤à¤¬à¤à¤§à¥  à¤à¤¨à¤à¥ à¤®à¤¦à¤¦ à¤à¤°à¥, à¤à¥à¤ªà¤¯à¤¾ à¤®à¥à¤à¥ à¤°à¤¿à¤ªà¥à¤²à¤¾à¤ à¤à¤°à¥,à¤à¤®à¤¿à¤¤,08305008854\n",
            "@RailMinIndia à¤¸à¤¡à¤¼à¤ à¤à¤° à¤°à¥à¤²à¤²à¤¾à¤à¤¨ à¤ªà¤° à¤²à¥à¤ à¤à¤¿à¤¤à¤¨à¤¾ à¤à¤²à¥à¤¦à¥ à¤ªà¤¾à¤° à¤à¤°à¤¨à¥ à¤®à¥à¤ à¤¦à¤¿à¤à¤¾à¤¤à¥ à¤¹à¥à¤ à¤à¤¤à¤¨à¤¾ à¤¯à¤¦à¤¿ à¤à¤ªà¤¨à¥ à¤à¤¾à¤® à¤®à¥à¤ à¤²à¤à¤¾à¤¯à¥ à¤¤à¥ à¤¦à¥à¤¶ à¤ªà¥à¤°à¤¥à¤® à¤¹à¥ https://t.co/xJvFftZCif\n",
            "@RailMinIndia à¤²à¤à¤¾à¤¤à¤¾à¤° à¤²à¤¾à¤ªà¤°à¤µà¤¾à¤¹à¥ à¤à¤¾à¤°à¥ 64260 PLM 3 à¤à¤à¤à¥ à¤®à¥à¤ à¤­à¥ 72 à¤à¤¿à¤®à¥ à¤à¤¾ à¤¸à¤«à¤° à¤à¤¾à¤¨à¤ªà¥à¤° à¤²à¤à¤¨à¤ à¤à¤¾ à¤¤à¤¯ à¤¨à¤¹à¥à¤ à¤à¤° à¤ªà¤¾à¤ à¤¹à¥ à¤¦à¥à¤¨à¤¿à¤ à¤¨à¥à¤à¤°à¥ à¤ªà¥à¤¶à¤¾ à¤¯à¤¾à¤¤à¥à¤°à¥ à¤¹à¤²à¤à¤¾à¤¨ à¥¤\n",
            "@RailMinIndia #System à¤¯à¤¾ à¤à¥à¤ .. à¤¯à¤¾ à¤ªà¥à¤°à¤à¤¾à¤° à¤à¤¾ à¤®à¤¾à¤§à¥à¤¯à¤® @sureshpprabhu https://t.co/K7G7iFY2vO\n",
            "@RailMinIndia à¤à¤à¤°à¤¾ à¤ªà¤²à¤µà¤² à¤²à¥à¤à¤² à¤à¥à¤°à¥à¤¨ à¤¡à¥à¤²à¥ 2 à¤¸à¥ 3 à¤à¤à¤à¥ à¤²à¥à¤ à¤à¤²à¤¤à¥ à¤¹à¥ à¤à¤à¤°à¤¾ à¤¸à¥à¤à¥à¤¶à¤¨ à¤¸à¥ à¤ªà¥à¤²à¥à¤ à¤à¤¸à¤à¥ à¤¸à¤®à¤¯ https://t.co/LtJBFbFGjW\n",
            "Len after filtering: 2196\n"
          ]
        }
      ],
      "source": [
        "print(f\"Len before filtering: {len(eng_data)}\")\n",
        "\n",
        "print(*list(eng_data[eng_data[\"SentimentText\"].str.contains(r\"[µ¥\\x95\\x87¿¡¦à\\x8c²¯¨°¤\\x8b\\x80\\xadª£\\x8f¾¹¬\\x88®\\x8d]{3,}\")][\"SentimentText\"]), sep=\"\\n\")\n",
        "# Filter out encoding mistakes (as repeated question marks)\n",
        "eng_data = eng_data[~eng_data[\"SentimentText\"].str.contains(r\"[µ¥\\x95\\x87¿¡¦à\\x8c²¯¨°¤\\x8b\\x80\\xadª£\\x8f¾¹¬\\x88®\\x8d]{3,}\")]\n",
        "print(f\"Len after filtering: {len(eng_data)}\")"
      ]
    },
    {
      "cell_type": "code",
      "execution_count": 34,
      "metadata": {
        "id": "obYNaLNEGnZ_"
      },
      "outputs": [],
      "source": [
        "eng_data = eng_data.reset_index(drop=True)\n"
      ]
    },
    {
      "cell_type": "markdown",
      "metadata": {
        "id": "CkLXpvf9P6mO"
      },
      "source": [
        "<h1> Preprocessing the text data </h1>"
      ]
    },
    {
      "cell_type": "code",
      "execution_count": 11,
      "metadata": {
        "colab": {
          "base_uri": "https://localhost:8080/"
        },
        "id": "_pxKl_B-cuON",
        "outputId": "d7ede909-8dbd-49eb-8e9e-a147159f3c73"
      },
      "outputs": [],
      "source": [
        "# %pip install ekphrasis -q"
      ]
    },
    {
      "cell_type": "code",
      "execution_count": 14,
      "metadata": {
        "colab": {
          "base_uri": "https://localhost:8080/"
        },
        "id": "Jka6jLWeQnPe",
        "outputId": "cab19109-29ea-4182-9ebb-7fb837927719"
      },
      "outputs": [
        {
          "name": "stderr",
          "output_type": "stream",
          "text": [
            "/home/risb/Desktop/BTP2/venv/lib/python3.12/site-packages/ekphrasis/classes/tokenizer.py:225: FutureWarning: Possible nested set at position 2190\n",
            "  self.tok = re.compile(r\"({})\".format(\"|\".join(pipeline)))\n"
          ]
        },
        {
          "name": "stdout",
          "output_type": "stream",
          "text": [
            "Reading twitter - 1grams ...\n",
            "Reading twitter - 2grams ...\n"
          ]
        },
        {
          "name": "stderr",
          "output_type": "stream",
          "text": [
            "/home/risb/Desktop/BTP2/venv/lib/python3.12/site-packages/ekphrasis/classes/exmanager.py:14: FutureWarning: Possible nested set at position 42\n",
            "  regexes = {k.lower(): re.compile(self.expressions[k]) for k, v in\n"
          ]
        },
        {
          "name": "stdout",
          "output_type": "stream",
          "text": [
            "Reading english - 1grams ...\n"
          ]
        }
      ],
      "source": [
        "import re\n",
        "\n",
        "from ekphrasis.classes.preprocessor import TextPreProcessor\n",
        "from ekphrasis.classes.tokenizer import SocialTokenizer\n",
        "\n",
        "tokenizer = SocialTokenizer(lowercase=False)\n",
        "unpacker = TextPreProcessor(\n",
        "    normalize=[\"date\"],\n",
        "    annotate={\"hashtag\"},\n",
        "    segmenter=\"twitter\",\n",
        "    unpack_hashtags=True,\n",
        "    tokenizer=tokenizer.tokenize\n",
        ")"
      ]
    },
    {
      "cell_type": "code",
      "execution_count": null,
      "metadata": {},
      "outputs": [
        {
          "name": "stderr",
          "output_type": "stream",
          "text": [
            "[nltk_data] Downloading package stopwords to /home/risb/nltk_data...\n",
            "[nltk_data]   Package stopwords is already up-to-date!\n",
            "[nltk_data] Downloading package punkt to /home/risb/nltk_data...\n",
            "[nltk_data]   Package punkt is already up-to-date!\n",
            "[nltk_data] Downloading package punkt_tab to /home/risb/nltk_data...\n",
            "[nltk_data]   Package punkt_tab is already up-to-date!\n"
          ]
        },
        {
          "data": {
            "text/plain": [
              "True"
            ]
          },
          "execution_count": 15,
          "metadata": {},
          "output_type": "execute_result"
        }
      ],
      "source": [
        "# from nltk.corpus import stopwords\n",
        "# from nltk.tokenize import word_tokenize\n",
        "# from nltk.tokenize.treebank import TreebankWordDetokenizer\n",
        "# import nltk\n",
        "\n",
        "# nltk.download(\"stopwords\")\n",
        "# nltk.download(\"punkt\")\n",
        "# nltk.download(\"punkt_tab\")"
      ]
    },
    {
      "cell_type": "code",
      "execution_count": null,
      "metadata": {},
      "outputs": [],
      "source": [
        "\n",
        "# stopping = set(stopwords.words(\"english\"))\n",
        "# stopping.remove(\"not\")\n",
        "# stopping.remove(\"no\")\n",
        "# stopping.remove(\"i\")\n",
        "# stopping.remove(\"and\")\n",
        "# stopping.remove(\"why\")\n",
        "# stopping.remove(\"do\")\n",
        "# stopping.remove(\"more\")\n",
        "# stopping.remove(\"than\")\n",
        "# stopping.remove(\"m\")\n",
        "# stopping.remove(\"can\")\n",
        "# stopping.remove(\"t\")\n",
        "# detok = TreebankWordDetokenizer()"
      ]
    },
    {
      "cell_type": "code",
      "execution_count": 35,
      "metadata": {
        "id": "8bKvsJ555BuA"
      },
      "outputs": [],
      "source": [
        "replacements = [\n",
        "    (\"grp\", \"group\"), (\"rs\", \"rupees\"), (r\"hr(s)?\", r\"hour\\1\"),\n",
        "    (r\"pl[sz]*\", \"please\"), (\"jn\", \"junction\"), (\"nite\", \"night\"),\n",
        "    (\"r\", \"are\"), (\"exp(rs)?\", \"express\"), (\"pf\", \"platform\"),\n",
        "    (\"u\", \"you\"), (\"nd\", \"and\"), (\"frm\", \"from\"), (\"n\", \"and\"),\n",
        "    (\"ur\", \"your\"), (r\"tc?kt(s)?\", r\"ticket\\1\"), (\"stn\", \"station\"),\n",
        "    (\"luks\", \"looks\"), (\"i'm\", \"i am\"), (\"haven't\", \"have not\"),\n",
        "    (\"you're\", \"you are\"), (\"she's\", \"she is\"), (\"he's\", \"he is\"),\n",
        "    (\"can't\", \"can not\"), (\"hvng\", \"having\"), (\"what's\", \"what is\"),\n",
        "    (\"it's\", \"it is\"), (\"isn't\", \"is not\"), (\"doesn't\", \"does not\"),\n",
        "    (\"ppl\", \"people\"), (\"is'nt\", \"is not\"), (\"does'nt\", \"does not\"),\n",
        "    (\"smtng\", \"something\"), (\"dnt\", \"do not\"), (\"don't\", \"do not\"),\n",
        "    (\"da\", \"the\"), (\"d\", \"the\"), (\"do'nt\", \"do not\"), (\"y\", \"why\"),\n",
        "    (\"s\", \"is\"), (\"wen\", \"when\"), (r\"ha?ve?\", \"have\"), (\"y\", \"why\"),\n",
        "    (\"haven't\", \"have not\"), (\"have'nt\", \"have not\"), (\"hv\", \"have\"),\n",
        "    (\"hon'ble\", \"honourable\"), (r\"luk([s]?)\", r\"look\\1\"),\n",
        "    (\"b\", \"be\"), (\"bt\", \"but\"), (r\"di[sz]\", \"this\"), (\"hw\", \"how\"),\n",
        "    (\"askd\", \"asked\"), (\"stns\", \"stations\"), (\"drty\", \"dirty\"),\n",
        "    (\"smthng\", \"something\"), (r\"trn([s]?)\", r\"train\\1\"),\n",
        "    (\"sl\", \"sleeper\"), (r\"w\\/l\", \"waiting list\"), (\"dint\", \"did not\"),\n",
        "    (\"mrp\", \"retail price\"), (\"rac\", \"reserved\"), (r\"tt[e]?\", \"ticket collector\"),\n",
        "    (r\"xing([s]?)\", r\"crossing\\1\"), (\"hpnd\", \"happened\"), (\"tc\", \"ticket collector\"),\n",
        "    (r\"tym([s]?)\", r\"time\\1\"), (\"hpnd\", \"happened\"), (\"cnf\", \"confirmed\"),\n",
        "    (\"bak\", \"back\"), (\"rpf\", \"railway police\"), (\"v\", \"we\"), (\"ac\", \"air conditioner\"),\n",
        "    (\"msg\", \"message\"), (r\"tha?nx\", \"thanks\"), (\"ty\", \"thanks\"),\n",
        "    (r\"wo?rki?ng\", \"working\"), (r\"yr([s]?)\", r\"year\\1\"), (\"gt\", \"get\"),\n",
        "    (r\"&gt;\", \"more than\"), (r\"&lt;\", \"less than\"), (r\"bc[o]?[sz]\", \"because\"),\n",
        "    (\"ub\", \"upper berth\"), (\"mb\", \"middle berth\"), (\"lb\", \"lower berth\"),\n",
        "    (\"boogie\", \"bogie\"), (\"boogy\", \"bogie\"), (\"boggy\", \"bogie\"),\n",
        "    (r\"cha?r?ge?d\", \"charged\"), (\"rly\", \"railway\"), (r\"reqd?\", \"required\"),\n",
        "    (r\"wa?i?ti?ng\", \"waiting\"), (r\"de?la?ye?d\", \"delayed\"), (\"tikit\", \"ticket\"),\n",
        "    (r\"pro?pe?r\", \"proper\"), (r\"â¹([0-9]+)\", r\"\\1 rupees\"), (\"tikit\", \"ticket\"),\n",
        "\n",
        "    (\"nt\", \"not\"), (\"m\", \"am\"), (\"shd\", \"should\"), (\"ll\", \"will\"),\n",
        "    (\"gv\", \"give\"), (\"fr\", \"for\"), (\"al\", \"all\"), (\"thr\", \"there\"),\n",
        "    # PNR removal\n",
        "    (r\"pnr *(?:no *\\.? *\\:?)?\", \" \"),\n",
        "    (\"ws\", \"was\"), (r\"st\\.\", \"station\"), (r\"no *\\.? *(?=:? *[1-9][0-9]*)\", \"number \"),\n",
        "    (r\"re?qu?e?st\", \"request\"), (\"sum1\", \"someone\"),\n",
        "    (r\"([1-9][\\-0-9]*) *(st|nd|rd|th)\", r\"\\1\\2\"),\n",
        "]\n",
        "replacements_cs = [(i, j) for (i, j) in replacements if len(i) == 1]\n",
        "replacements = [(i, j) for (i, j) in replacements if len(i) > 1]\n"
      ]
    },
    {
      "cell_type": "code",
      "execution_count": 19,
      "metadata": {
        "colab": {
          "base_uri": "https://localhost:8080/"
        },
        "id": "_aDFWdVSDtdg",
        "outputId": "25aa9435-a815-4d54-fe54-8efddc1b39d4"
      },
      "outputs": [
        {
          "data": {
            "text/plain": [
              "2196"
            ]
          },
          "execution_count": 19,
          "metadata": {},
          "output_type": "execute_result"
        }
      ],
      "source": [
        "len(eng_data)"
      ]
    },
    {
      "cell_type": "code",
      "execution_count": null,
      "metadata": {
        "id": "xYpDRE_yPwww"
      },
      "outputs": [],
      "source": [
        "for i in range(len(eng_data)):\n",
        "    text = eng_data.loc[i, \"SentimentText\"]\n",
        "    # print(f\"Original: {text}\")\n",
        "    # print(f\"Processed: {text}\")\n",
        "\n",
        "    # PNR number removal\n",
        "    text = re.sub(r\"[1-9][0-9]{5,}\", \"\", text)\n",
        "\n",
        "    for (before, after) in replacements_cs:\n",
        "        text = re.sub(f\"(?<![a-zA-Z]){before}(?!([a-zA-Z])|[0-9]+)\", after, text)\n",
        "    text = text.lower()\n",
        "\n",
        "    text = re.sub(r\"â¦\", \" \", text)\n",
        "    # Remove non-functional hashtags\n",
        "    text = re.sub(r\"#(\\s)\", r\"\\1\", text)\n",
        "    # Removing mentions\n",
        "    text = re.sub(r'@[\\w]+', '', text)\n",
        "    text = re.sub(r'\\s?@\\s?', ' at ', text)\n",
        "    # Remove old retweet format\n",
        "    text = re.sub(r'rt\\s*:\\s*', '', text)\n",
        "    # Renaming 'and'\n",
        "    text = re.sub(\" ?&amp; ?\", \" and \", text)\n",
        "    # Removing links\n",
        "    text = re.sub(r\"https?://\\S+\", \"\", text)\n",
        "    # Replace repeating special chars w/ only one\n",
        "    text = re.sub(r'([^\\w\\s])\\1+', r'\\1', text)\n",
        "    # Encoding issue fix for rupee symbol\n",
        "    text = re.sub(r\"\\?([0-9]+)\", r\"\\1 rupees\", text)\n",
        "\n",
        "    for (before, after) in replacements:\n",
        "        text = re.sub(f\"(?<![a-zA-Z]){before}(?![a-zA-Z])\", after, text)\n",
        "\n",
        "    words = [\n",
        "        i for i in unpacker.pre_process_doc(text) if i not in (\n",
        "            \"<hashtag>\", \"</hashtag>\", \"#\"\n",
        "        )\n",
        "    ]\n",
        "    text = \" \".join(words)\n",
        "\n",
        "    text = re.sub(r\"([1-9][\\-0-9]*) *(st|nd|rd|th)\", r\"\\1\\2\", text)\n",
        "\n",
        "\n",
        "\n",
        "    # Join apostrophy to contractions\n",
        "    text = re.sub(f\"(?<=[a-zA-Z]) ' (?=[a-zA-Z])\", \"'\", text)\n",
        "\n",
        "    # stop word removal\n",
        "    # words = word_tokenize(text)\n",
        "    # filtered = [word for word in words if word.lower() not in stopping]\n",
        "    # text = detok.detokenize(filtered)\n",
        "\n",
        "    # print(text + \"\\n\")\n",
        "    eng_data.loc[i, \"SentimentText\"] = text\n",
        "    # if i == 100: break"
      ]
    },
    {
      "cell_type": "code",
      "execution_count": 24,
      "metadata": {
        "colab": {
          "base_uri": "https://localhost:8080/"
        },
        "id": "rJhPd3ioEmzt",
        "outputId": "3d98e184-9f74-4720-c5e2-53a56a6274bc"
      },
      "outputs": [
        {
          "data": {
            "text/plain": [
              "2196"
            ]
          },
          "execution_count": 24,
          "metadata": {},
          "output_type": "execute_result"
        }
      ],
      "source": [
        "len(eng_data)"
      ]
    },
    {
      "cell_type": "markdown",
      "metadata": {
        "id": "SyY9uUtS-Irk"
      },
      "source": [
        "Segment Dataset based on First model (Complaint/Non-Complaint)\n",
        "\n"
      ]
    },
    {
      "cell_type": "code",
      "execution_count": null,
      "metadata": {
        "id": "0bPHOHUE-YBP"
      },
      "outputs": [],
      "source": [
        "def generalize_label(label):\n",
        "    return 0 if label <= 1 or label == 8 else 1\n",
        "\n",
        "CNC_CLASSES = {\n",
        "    0: \"Non-Complaint\",\n",
        "    1: \"Complaint\",\n",
        "}\n",
        "\n",
        "eng_data_cnc = eng_data.copy()\n",
        "eng_data_cnc[\"label\"] = eng_data_cnc[\"label\"].map(generalize_label)\n",
        "eng_data_cnc = eng_data_cnc.drop(['language', 'urgency'], axis=1)\n",
        "# eng_data_cnc.head()\n",
        "\n",
        "eng_data_cnc.to_csv(\"eng_data_cnc.csv\", index=False)"
      ]
    },
    {
      "cell_type": "code",
      "execution_count": 18,
      "metadata": {
        "id": "7p5eeVhl1Q7C"
      },
      "outputs": [],
      "source": [
        "eng_data_c_urg = eng_data.copy()\n",
        "eng_data_c_urg = eng_data_c_urg[eng_data_c_urg[\"urgency\"] != -1]\n",
        "eng_data_c_urg = eng_data_c_urg.drop(['label', 'language'], axis=1)\n",
        "eng_data_c_urg.to_csv(\"eng_data_c_urg.csv\", index=False)"
      ]
    },
    {
      "cell_type": "code",
      "execution_count": 19,
      "metadata": {
        "colab": {
          "base_uri": "https://localhost:8080/",
          "height": 159
        },
        "id": "NjmDpbRFP6iH",
        "outputId": "826c583d-951d-45d7-954b-69404da46268"
      },
      "outputs": [],
      "source": [
        "eng_data_c_type = eng_data.copy()\n",
        "eng_data_c_type = eng_data_c_type.drop(['language', 'urgency'], axis=1)\n"
      ]
    },
    {
      "cell_type": "code",
      "execution_count": 20,
      "metadata": {
        "id": "OMTDd68naPsY"
      },
      "outputs": [],
      "source": [
        "def club_label(label):\n",
        "    if label in (0, 8):\n",
        "        return 1\n",
        "    return label\n",
        "def decr_one(label):\n",
        "    return label - 1\n",
        "eng_data_c_type[\"label\"] = eng_data_c_type[\"label\"].map(club_label)\n",
        "eng_data_c_type[\"label\"] = eng_data_c_type[\"label\"].map(decr_one)"
      ]
    },
    {
      "cell_type": "code",
      "execution_count": 22,
      "metadata": {
        "id": "p_les7MTbCD5"
      },
      "outputs": [],
      "source": [
        "eng_data_c_type.to_csv(\"eng_data_c_type.csv\", index=False)"
      ]
    }
  ],
  "metadata": {
    "accelerator": "GPU",
    "colab": {
      "collapsed_sections": [
        "KZAWZyKdP0jF"
      ],
      "gpuType": "T4",
      "provenance": []
    },
    "kernelspec": {
      "display_name": "venv",
      "language": "python",
      "name": "python3"
    },
    "language_info": {
      "codemirror_mode": {
        "name": "ipython",
        "version": 3
      },
      "file_extension": ".py",
      "mimetype": "text/x-python",
      "name": "python",
      "nbconvert_exporter": "python",
      "pygments_lexer": "ipython3",
      "version": "3.12.9"
    },
    "widgets": {
      "application/vnd.jupyter.widget-state+json": {
        "03ee7797001e40399d6fa4906299892a": {
          "model_module": "@jupyter-widgets/controls",
          "model_module_version": "1.5.0",
          "model_name": "HBoxModel",
          "state": {
            "_dom_classes": [],
            "_model_module": "@jupyter-widgets/controls",
            "_model_module_version": "1.5.0",
            "_model_name": "HBoxModel",
            "_view_count": null,
            "_view_module": "@jupyter-widgets/controls",
            "_view_module_version": "1.5.0",
            "_view_name": "HBoxView",
            "box_style": "",
            "children": [
              "IPY_MODEL_6a0d9f60f204451ab5d87639664c5095",
              "IPY_MODEL_3a955ba733c649078be0bd1514b929bc",
              "IPY_MODEL_1cdc60759ab64d2baf6f6b2806a97f99"
            ],
            "layout": "IPY_MODEL_3818a56ac54d407fbda20064fe5cdc81"
          }
        },
        "0727f554ee1c4a0aa1bcc516bfde4162": {
          "model_module": "@jupyter-widgets/base",
          "model_module_version": "1.2.0",
          "model_name": "LayoutModel",
          "state": {
            "_model_module": "@jupyter-widgets/base",
            "_model_module_version": "1.2.0",
            "_model_name": "LayoutModel",
            "_view_count": null,
            "_view_module": "@jupyter-widgets/base",
            "_view_module_version": "1.2.0",
            "_view_name": "LayoutView",
            "align_content": null,
            "align_items": null,
            "align_self": null,
            "border": null,
            "bottom": null,
            "display": null,
            "flex": null,
            "flex_flow": null,
            "grid_area": null,
            "grid_auto_columns": null,
            "grid_auto_flow": null,
            "grid_auto_rows": null,
            "grid_column": null,
            "grid_gap": null,
            "grid_row": null,
            "grid_template_areas": null,
            "grid_template_columns": null,
            "grid_template_rows": null,
            "height": null,
            "justify_content": null,
            "justify_items": null,
            "left": null,
            "margin": null,
            "max_height": null,
            "max_width": null,
            "min_height": null,
            "min_width": null,
            "object_fit": null,
            "object_position": null,
            "order": null,
            "overflow": null,
            "overflow_x": null,
            "overflow_y": null,
            "padding": null,
            "right": null,
            "top": null,
            "visibility": null,
            "width": null
          }
        },
        "090c44ac03ba49e88c8a07e5c7132152": {
          "model_module": "@jupyter-widgets/controls",
          "model_module_version": "1.5.0",
          "model_name": "HBoxModel",
          "state": {
            "_dom_classes": [],
            "_model_module": "@jupyter-widgets/controls",
            "_model_module_version": "1.5.0",
            "_model_name": "HBoxModel",
            "_view_count": null,
            "_view_module": "@jupyter-widgets/controls",
            "_view_module_version": "1.5.0",
            "_view_name": "HBoxView",
            "box_style": "",
            "children": [
              "IPY_MODEL_3671b7d1585a4da9b44f0c7b3f7fe2c4",
              "IPY_MODEL_debf3f8a08d440738f5fc65ee407b697",
              "IPY_MODEL_4ee46f5a59d94a079a969a486b66ea8a"
            ],
            "layout": "IPY_MODEL_2c4cbb28b2914adaacc9ef75d1522ed8"
          }
        },
        "09bc325b19a14d1bb7cdba849366a382": {
          "model_module": "@jupyter-widgets/controls",
          "model_module_version": "1.5.0",
          "model_name": "HTMLModel",
          "state": {
            "_dom_classes": [],
            "_model_module": "@jupyter-widgets/controls",
            "_model_module_version": "1.5.0",
            "_model_name": "HTMLModel",
            "_view_count": null,
            "_view_module": "@jupyter-widgets/controls",
            "_view_module_version": "1.5.0",
            "_view_name": "HTMLView",
            "description": "",
            "description_tooltip": null,
            "layout": "IPY_MODEL_d2fe0c143a244a8f8679409655f8b0ca",
            "placeholder": "​",
            "style": "IPY_MODEL_bef96cad2d0140da8e4f7396aa67354a",
            "value": "tokenizer.json: 100%"
          }
        },
        "0a0daf34e18945779a552428706f9de0": {
          "model_module": "@jupyter-widgets/base",
          "model_module_version": "1.2.0",
          "model_name": "LayoutModel",
          "state": {
            "_model_module": "@jupyter-widgets/base",
            "_model_module_version": "1.2.0",
            "_model_name": "LayoutModel",
            "_view_count": null,
            "_view_module": "@jupyter-widgets/base",
            "_view_module_version": "1.2.0",
            "_view_name": "LayoutView",
            "align_content": null,
            "align_items": null,
            "align_self": null,
            "border": null,
            "bottom": null,
            "display": null,
            "flex": null,
            "flex_flow": null,
            "grid_area": null,
            "grid_auto_columns": null,
            "grid_auto_flow": null,
            "grid_auto_rows": null,
            "grid_column": null,
            "grid_gap": null,
            "grid_row": null,
            "grid_template_areas": null,
            "grid_template_columns": null,
            "grid_template_rows": null,
            "height": null,
            "justify_content": null,
            "justify_items": null,
            "left": null,
            "margin": null,
            "max_height": null,
            "max_width": null,
            "min_height": null,
            "min_width": null,
            "object_fit": null,
            "object_position": null,
            "order": null,
            "overflow": null,
            "overflow_x": null,
            "overflow_y": null,
            "padding": null,
            "right": null,
            "top": null,
            "visibility": null,
            "width": null
          }
        },
        "0d22dade8c854eeda59d556fb2ee525a": {
          "model_module": "@jupyter-widgets/controls",
          "model_module_version": "1.5.0",
          "model_name": "HTMLModel",
          "state": {
            "_dom_classes": [],
            "_model_module": "@jupyter-widgets/controls",
            "_model_module_version": "1.5.0",
            "_model_name": "HTMLModel",
            "_view_count": null,
            "_view_module": "@jupyter-widgets/controls",
            "_view_module_version": "1.5.0",
            "_view_name": "HTMLView",
            "description": "",
            "description_tooltip": null,
            "layout": "IPY_MODEL_be50e3d68ddb49ca8d040cc17bcc1cde",
            "placeholder": "​",
            "style": "IPY_MODEL_6c0b5b8340e54c72abbb096dfaebfed9",
            "value": "tokenizer_config.json: 100%"
          }
        },
        "0dbe3e31c7fc4cd9bed1adc38bbc9c66": {
          "model_module": "@jupyter-widgets/controls",
          "model_module_version": "1.5.0",
          "model_name": "FloatProgressModel",
          "state": {
            "_dom_classes": [],
            "_model_module": "@jupyter-widgets/controls",
            "_model_module_version": "1.5.0",
            "_model_name": "FloatProgressModel",
            "_view_count": null,
            "_view_module": "@jupyter-widgets/controls",
            "_view_module_version": "1.5.0",
            "_view_name": "ProgressView",
            "bar_style": "success",
            "description": "",
            "description_tooltip": null,
            "layout": "IPY_MODEL_ff680cff7e56481ab5c58abe4022c3e8",
            "max": 466062,
            "min": 0,
            "orientation": "horizontal",
            "style": "IPY_MODEL_4f47f23b6f364318a432a8ac59ec8c22",
            "value": 466062
          }
        },
        "1affd20790d54f7cbdc7f42487b222f3": {
          "model_module": "@jupyter-widgets/controls",
          "model_module_version": "1.5.0",
          "model_name": "DescriptionStyleModel",
          "state": {
            "_model_module": "@jupyter-widgets/controls",
            "_model_module_version": "1.5.0",
            "_model_name": "DescriptionStyleModel",
            "_view_count": null,
            "_view_module": "@jupyter-widgets/base",
            "_view_module_version": "1.2.0",
            "_view_name": "StyleView",
            "description_width": ""
          }
        },
        "1cdc60759ab64d2baf6f6b2806a97f99": {
          "model_module": "@jupyter-widgets/controls",
          "model_module_version": "1.5.0",
          "model_name": "HTMLModel",
          "state": {
            "_dom_classes": [],
            "_model_module": "@jupyter-widgets/controls",
            "_model_module_version": "1.5.0",
            "_model_name": "HTMLModel",
            "_view_count": null,
            "_view_module": "@jupyter-widgets/controls",
            "_view_module_version": "1.5.0",
            "_view_name": "HTMLView",
            "description": "",
            "description_tooltip": null,
            "layout": "IPY_MODEL_9439d8e9313549c580d68ea0bd1dcc97",
            "placeholder": "​",
            "style": "IPY_MODEL_d766ce965a9b43bb9fece3e0f696a51d",
            "value": " 440M/440M [00:02&lt;00:00, 141MB/s]"
          }
        },
        "1d54657cdcc740f2aca55d7065bde12c": {
          "model_module": "@jupyter-widgets/base",
          "model_module_version": "1.2.0",
          "model_name": "LayoutModel",
          "state": {
            "_model_module": "@jupyter-widgets/base",
            "_model_module_version": "1.2.0",
            "_model_name": "LayoutModel",
            "_view_count": null,
            "_view_module": "@jupyter-widgets/base",
            "_view_module_version": "1.2.0",
            "_view_name": "LayoutView",
            "align_content": null,
            "align_items": null,
            "align_self": null,
            "border": null,
            "bottom": null,
            "display": null,
            "flex": null,
            "flex_flow": null,
            "grid_area": null,
            "grid_auto_columns": null,
            "grid_auto_flow": null,
            "grid_auto_rows": null,
            "grid_column": null,
            "grid_gap": null,
            "grid_row": null,
            "grid_template_areas": null,
            "grid_template_columns": null,
            "grid_template_rows": null,
            "height": null,
            "justify_content": null,
            "justify_items": null,
            "left": null,
            "margin": null,
            "max_height": null,
            "max_width": null,
            "min_height": null,
            "min_width": null,
            "object_fit": null,
            "object_position": null,
            "order": null,
            "overflow": null,
            "overflow_x": null,
            "overflow_y": null,
            "padding": null,
            "right": null,
            "top": null,
            "visibility": null,
            "width": null
          }
        },
        "1dcaeb43762b44efa27ac2387a459b64": {
          "model_module": "@jupyter-widgets/base",
          "model_module_version": "1.2.0",
          "model_name": "LayoutModel",
          "state": {
            "_model_module": "@jupyter-widgets/base",
            "_model_module_version": "1.2.0",
            "_model_name": "LayoutModel",
            "_view_count": null,
            "_view_module": "@jupyter-widgets/base",
            "_view_module_version": "1.2.0",
            "_view_name": "LayoutView",
            "align_content": null,
            "align_items": null,
            "align_self": null,
            "border": null,
            "bottom": null,
            "display": null,
            "flex": null,
            "flex_flow": null,
            "grid_area": null,
            "grid_auto_columns": null,
            "grid_auto_flow": null,
            "grid_auto_rows": null,
            "grid_column": null,
            "grid_gap": null,
            "grid_row": null,
            "grid_template_areas": null,
            "grid_template_columns": null,
            "grid_template_rows": null,
            "height": null,
            "justify_content": null,
            "justify_items": null,
            "left": null,
            "margin": null,
            "max_height": null,
            "max_width": null,
            "min_height": null,
            "min_width": null,
            "object_fit": null,
            "object_position": null,
            "order": null,
            "overflow": null,
            "overflow_x": null,
            "overflow_y": null,
            "padding": null,
            "right": null,
            "top": null,
            "visibility": null,
            "width": null
          }
        },
        "28e0a29a22a14a4c80c116e69a3c488a": {
          "model_module": "@jupyter-widgets/controls",
          "model_module_version": "1.5.0",
          "model_name": "ProgressStyleModel",
          "state": {
            "_model_module": "@jupyter-widgets/controls",
            "_model_module_version": "1.5.0",
            "_model_name": "ProgressStyleModel",
            "_view_count": null,
            "_view_module": "@jupyter-widgets/base",
            "_view_module_version": "1.2.0",
            "_view_name": "StyleView",
            "bar_color": null,
            "description_width": ""
          }
        },
        "2919900396f84d8e8da47be347e01174": {
          "model_module": "@jupyter-widgets/controls",
          "model_module_version": "1.5.0",
          "model_name": "DescriptionStyleModel",
          "state": {
            "_model_module": "@jupyter-widgets/controls",
            "_model_module_version": "1.5.0",
            "_model_name": "DescriptionStyleModel",
            "_view_count": null,
            "_view_module": "@jupyter-widgets/base",
            "_view_module_version": "1.2.0",
            "_view_name": "StyleView",
            "description_width": ""
          }
        },
        "2ba8f7ed04924bd0ac8acf70a171f8f6": {
          "model_module": "@jupyter-widgets/base",
          "model_module_version": "1.2.0",
          "model_name": "LayoutModel",
          "state": {
            "_model_module": "@jupyter-widgets/base",
            "_model_module_version": "1.2.0",
            "_model_name": "LayoutModel",
            "_view_count": null,
            "_view_module": "@jupyter-widgets/base",
            "_view_module_version": "1.2.0",
            "_view_name": "LayoutView",
            "align_content": null,
            "align_items": null,
            "align_self": null,
            "border": null,
            "bottom": null,
            "display": null,
            "flex": null,
            "flex_flow": null,
            "grid_area": null,
            "grid_auto_columns": null,
            "grid_auto_flow": null,
            "grid_auto_rows": null,
            "grid_column": null,
            "grid_gap": null,
            "grid_row": null,
            "grid_template_areas": null,
            "grid_template_columns": null,
            "grid_template_rows": null,
            "height": null,
            "justify_content": null,
            "justify_items": null,
            "left": null,
            "margin": null,
            "max_height": null,
            "max_width": null,
            "min_height": null,
            "min_width": null,
            "object_fit": null,
            "object_position": null,
            "order": null,
            "overflow": null,
            "overflow_x": null,
            "overflow_y": null,
            "padding": null,
            "right": null,
            "top": null,
            "visibility": null,
            "width": null
          }
        },
        "2c4cbb28b2914adaacc9ef75d1522ed8": {
          "model_module": "@jupyter-widgets/base",
          "model_module_version": "1.2.0",
          "model_name": "LayoutModel",
          "state": {
            "_model_module": "@jupyter-widgets/base",
            "_model_module_version": "1.2.0",
            "_model_name": "LayoutModel",
            "_view_count": null,
            "_view_module": "@jupyter-widgets/base",
            "_view_module_version": "1.2.0",
            "_view_name": "LayoutView",
            "align_content": null,
            "align_items": null,
            "align_self": null,
            "border": null,
            "bottom": null,
            "display": null,
            "flex": null,
            "flex_flow": null,
            "grid_area": null,
            "grid_auto_columns": null,
            "grid_auto_flow": null,
            "grid_auto_rows": null,
            "grid_column": null,
            "grid_gap": null,
            "grid_row": null,
            "grid_template_areas": null,
            "grid_template_columns": null,
            "grid_template_rows": null,
            "height": null,
            "justify_content": null,
            "justify_items": null,
            "left": null,
            "margin": null,
            "max_height": null,
            "max_width": null,
            "min_height": null,
            "min_width": null,
            "object_fit": null,
            "object_position": null,
            "order": null,
            "overflow": null,
            "overflow_x": null,
            "overflow_y": null,
            "padding": null,
            "right": null,
            "top": null,
            "visibility": null,
            "width": null
          }
        },
        "30bb456793a1499e8b81a2ccafb40c3f": {
          "model_module": "@jupyter-widgets/controls",
          "model_module_version": "1.5.0",
          "model_name": "DescriptionStyleModel",
          "state": {
            "_model_module": "@jupyter-widgets/controls",
            "_model_module_version": "1.5.0",
            "_model_name": "DescriptionStyleModel",
            "_view_count": null,
            "_view_module": "@jupyter-widgets/base",
            "_view_module_version": "1.2.0",
            "_view_name": "StyleView",
            "description_width": ""
          }
        },
        "3671b7d1585a4da9b44f0c7b3f7fe2c4": {
          "model_module": "@jupyter-widgets/controls",
          "model_module_version": "1.5.0",
          "model_name": "HTMLModel",
          "state": {
            "_dom_classes": [],
            "_model_module": "@jupyter-widgets/controls",
            "_model_module_version": "1.5.0",
            "_model_name": "HTMLModel",
            "_view_count": null,
            "_view_module": "@jupyter-widgets/controls",
            "_view_module_version": "1.5.0",
            "_view_name": "HTMLView",
            "description": "",
            "description_tooltip": null,
            "layout": "IPY_MODEL_79c3134c6ddb4f268f9a643002644874",
            "placeholder": "​",
            "style": "IPY_MODEL_30bb456793a1499e8b81a2ccafb40c3f",
            "value": "vocab.txt: 100%"
          }
        },
        "3818a56ac54d407fbda20064fe5cdc81": {
          "model_module": "@jupyter-widgets/base",
          "model_module_version": "1.2.0",
          "model_name": "LayoutModel",
          "state": {
            "_model_module": "@jupyter-widgets/base",
            "_model_module_version": "1.2.0",
            "_model_name": "LayoutModel",
            "_view_count": null,
            "_view_module": "@jupyter-widgets/base",
            "_view_module_version": "1.2.0",
            "_view_name": "LayoutView",
            "align_content": null,
            "align_items": null,
            "align_self": null,
            "border": null,
            "bottom": null,
            "display": null,
            "flex": null,
            "flex_flow": null,
            "grid_area": null,
            "grid_auto_columns": null,
            "grid_auto_flow": null,
            "grid_auto_rows": null,
            "grid_column": null,
            "grid_gap": null,
            "grid_row": null,
            "grid_template_areas": null,
            "grid_template_columns": null,
            "grid_template_rows": null,
            "height": null,
            "justify_content": null,
            "justify_items": null,
            "left": null,
            "margin": null,
            "max_height": null,
            "max_width": null,
            "min_height": null,
            "min_width": null,
            "object_fit": null,
            "object_position": null,
            "order": null,
            "overflow": null,
            "overflow_x": null,
            "overflow_y": null,
            "padding": null,
            "right": null,
            "top": null,
            "visibility": null,
            "width": null
          }
        },
        "3a955ba733c649078be0bd1514b929bc": {
          "model_module": "@jupyter-widgets/controls",
          "model_module_version": "1.5.0",
          "model_name": "FloatProgressModel",
          "state": {
            "_dom_classes": [],
            "_model_module": "@jupyter-widgets/controls",
            "_model_module_version": "1.5.0",
            "_model_name": "FloatProgressModel",
            "_view_count": null,
            "_view_module": "@jupyter-widgets/controls",
            "_view_module_version": "1.5.0",
            "_view_name": "ProgressView",
            "bar_style": "success",
            "description": "",
            "description_tooltip": null,
            "layout": "IPY_MODEL_a49722bd92764a61a367a49bc41ee889",
            "max": 440449768,
            "min": 0,
            "orientation": "horizontal",
            "style": "IPY_MODEL_c5a012fca20f485e9e76777e0b8199c2",
            "value": 440449768
          }
        },
        "44514ee020b843989a79ffc33c08d72a": {
          "model_module": "@jupyter-widgets/controls",
          "model_module_version": "1.5.0",
          "model_name": "HBoxModel",
          "state": {
            "_dom_classes": [],
            "_model_module": "@jupyter-widgets/controls",
            "_model_module_version": "1.5.0",
            "_model_name": "HBoxModel",
            "_view_count": null,
            "_view_module": "@jupyter-widgets/controls",
            "_view_module_version": "1.5.0",
            "_view_name": "HBoxView",
            "box_style": "",
            "children": [
              "IPY_MODEL_09bc325b19a14d1bb7cdba849366a382",
              "IPY_MODEL_0dbe3e31c7fc4cd9bed1adc38bbc9c66",
              "IPY_MODEL_cc0ba8e404314539bf3550e2969c8262"
            ],
            "layout": "IPY_MODEL_b276661282fe4e1996b37a3df6724c01"
          }
        },
        "4a424b275bbb4a08be9ac97345c25ecc": {
          "model_module": "@jupyter-widgets/controls",
          "model_module_version": "1.5.0",
          "model_name": "DescriptionStyleModel",
          "state": {
            "_model_module": "@jupyter-widgets/controls",
            "_model_module_version": "1.5.0",
            "_model_name": "DescriptionStyleModel",
            "_view_count": null,
            "_view_module": "@jupyter-widgets/base",
            "_view_module_version": "1.2.0",
            "_view_name": "StyleView",
            "description_width": ""
          }
        },
        "4d34b261450b4071837c8ad4b2186522": {
          "model_module": "@jupyter-widgets/base",
          "model_module_version": "1.2.0",
          "model_name": "LayoutModel",
          "state": {
            "_model_module": "@jupyter-widgets/base",
            "_model_module_version": "1.2.0",
            "_model_name": "LayoutModel",
            "_view_count": null,
            "_view_module": "@jupyter-widgets/base",
            "_view_module_version": "1.2.0",
            "_view_name": "LayoutView",
            "align_content": null,
            "align_items": null,
            "align_self": null,
            "border": null,
            "bottom": null,
            "display": null,
            "flex": null,
            "flex_flow": null,
            "grid_area": null,
            "grid_auto_columns": null,
            "grid_auto_flow": null,
            "grid_auto_rows": null,
            "grid_column": null,
            "grid_gap": null,
            "grid_row": null,
            "grid_template_areas": null,
            "grid_template_columns": null,
            "grid_template_rows": null,
            "height": null,
            "justify_content": null,
            "justify_items": null,
            "left": null,
            "margin": null,
            "max_height": null,
            "max_width": null,
            "min_height": null,
            "min_width": null,
            "object_fit": null,
            "object_position": null,
            "order": null,
            "overflow": null,
            "overflow_x": null,
            "overflow_y": null,
            "padding": null,
            "right": null,
            "top": null,
            "visibility": null,
            "width": null
          }
        },
        "4ee46f5a59d94a079a969a486b66ea8a": {
          "model_module": "@jupyter-widgets/controls",
          "model_module_version": "1.5.0",
          "model_name": "HTMLModel",
          "state": {
            "_dom_classes": [],
            "_model_module": "@jupyter-widgets/controls",
            "_model_module_version": "1.5.0",
            "_model_name": "HTMLModel",
            "_view_count": null,
            "_view_module": "@jupyter-widgets/controls",
            "_view_module_version": "1.5.0",
            "_view_name": "HTMLView",
            "description": "",
            "description_tooltip": null,
            "layout": "IPY_MODEL_9425356ae1574b87b35283c4233d8aaf",
            "placeholder": "​",
            "style": "IPY_MODEL_2919900396f84d8e8da47be347e01174",
            "value": " 232k/232k [00:00&lt;00:00, 12.4MB/s]"
          }
        },
        "4f47f23b6f364318a432a8ac59ec8c22": {
          "model_module": "@jupyter-widgets/controls",
          "model_module_version": "1.5.0",
          "model_name": "ProgressStyleModel",
          "state": {
            "_model_module": "@jupyter-widgets/controls",
            "_model_module_version": "1.5.0",
            "_model_name": "ProgressStyleModel",
            "_view_count": null,
            "_view_module": "@jupyter-widgets/base",
            "_view_module_version": "1.2.0",
            "_view_name": "StyleView",
            "bar_color": null,
            "description_width": ""
          }
        },
        "5a824b52e3934366b241f7b0ade6c1ec": {
          "model_module": "@jupyter-widgets/base",
          "model_module_version": "1.2.0",
          "model_name": "LayoutModel",
          "state": {
            "_model_module": "@jupyter-widgets/base",
            "_model_module_version": "1.2.0",
            "_model_name": "LayoutModel",
            "_view_count": null,
            "_view_module": "@jupyter-widgets/base",
            "_view_module_version": "1.2.0",
            "_view_name": "LayoutView",
            "align_content": null,
            "align_items": null,
            "align_self": null,
            "border": null,
            "bottom": null,
            "display": null,
            "flex": null,
            "flex_flow": null,
            "grid_area": null,
            "grid_auto_columns": null,
            "grid_auto_flow": null,
            "grid_auto_rows": null,
            "grid_column": null,
            "grid_gap": null,
            "grid_row": null,
            "grid_template_areas": null,
            "grid_template_columns": null,
            "grid_template_rows": null,
            "height": null,
            "justify_content": null,
            "justify_items": null,
            "left": null,
            "margin": null,
            "max_height": null,
            "max_width": null,
            "min_height": null,
            "min_width": null,
            "object_fit": null,
            "object_position": null,
            "order": null,
            "overflow": null,
            "overflow_x": null,
            "overflow_y": null,
            "padding": null,
            "right": null,
            "top": null,
            "visibility": null,
            "width": null
          }
        },
        "662656de552c452f9d7c0cef3d57db1a": {
          "model_module": "@jupyter-widgets/controls",
          "model_module_version": "1.5.0",
          "model_name": "DescriptionStyleModel",
          "state": {
            "_model_module": "@jupyter-widgets/controls",
            "_model_module_version": "1.5.0",
            "_model_name": "DescriptionStyleModel",
            "_view_count": null,
            "_view_module": "@jupyter-widgets/base",
            "_view_module_version": "1.2.0",
            "_view_name": "StyleView",
            "description_width": ""
          }
        },
        "693e87a67f344289848ab91f6d1016da": {
          "model_module": "@jupyter-widgets/base",
          "model_module_version": "1.2.0",
          "model_name": "LayoutModel",
          "state": {
            "_model_module": "@jupyter-widgets/base",
            "_model_module_version": "1.2.0",
            "_model_name": "LayoutModel",
            "_view_count": null,
            "_view_module": "@jupyter-widgets/base",
            "_view_module_version": "1.2.0",
            "_view_name": "LayoutView",
            "align_content": null,
            "align_items": null,
            "align_self": null,
            "border": null,
            "bottom": null,
            "display": null,
            "flex": null,
            "flex_flow": null,
            "grid_area": null,
            "grid_auto_columns": null,
            "grid_auto_flow": null,
            "grid_auto_rows": null,
            "grid_column": null,
            "grid_gap": null,
            "grid_row": null,
            "grid_template_areas": null,
            "grid_template_columns": null,
            "grid_template_rows": null,
            "height": null,
            "justify_content": null,
            "justify_items": null,
            "left": null,
            "margin": null,
            "max_height": null,
            "max_width": null,
            "min_height": null,
            "min_width": null,
            "object_fit": null,
            "object_position": null,
            "order": null,
            "overflow": null,
            "overflow_x": null,
            "overflow_y": null,
            "padding": null,
            "right": null,
            "top": null,
            "visibility": null,
            "width": null
          }
        },
        "6a0d9f60f204451ab5d87639664c5095": {
          "model_module": "@jupyter-widgets/controls",
          "model_module_version": "1.5.0",
          "model_name": "HTMLModel",
          "state": {
            "_dom_classes": [],
            "_model_module": "@jupyter-widgets/controls",
            "_model_module_version": "1.5.0",
            "_model_name": "HTMLModel",
            "_view_count": null,
            "_view_module": "@jupyter-widgets/controls",
            "_view_module_version": "1.5.0",
            "_view_name": "HTMLView",
            "description": "",
            "description_tooltip": null,
            "layout": "IPY_MODEL_2ba8f7ed04924bd0ac8acf70a171f8f6",
            "placeholder": "​",
            "style": "IPY_MODEL_f9af8dd81d814619ac2bef604c525b37",
            "value": "model.safetensors: 100%"
          }
        },
        "6c0b5b8340e54c72abbb096dfaebfed9": {
          "model_module": "@jupyter-widgets/controls",
          "model_module_version": "1.5.0",
          "model_name": "DescriptionStyleModel",
          "state": {
            "_model_module": "@jupyter-widgets/controls",
            "_model_module_version": "1.5.0",
            "_model_name": "DescriptionStyleModel",
            "_view_count": null,
            "_view_module": "@jupyter-widgets/base",
            "_view_module_version": "1.2.0",
            "_view_name": "StyleView",
            "description_width": ""
          }
        },
        "752b1f91e0b14c61b1beec841a9607af": {
          "model_module": "@jupyter-widgets/controls",
          "model_module_version": "1.5.0",
          "model_name": "FloatProgressModel",
          "state": {
            "_dom_classes": [],
            "_model_module": "@jupyter-widgets/controls",
            "_model_module_version": "1.5.0",
            "_model_name": "FloatProgressModel",
            "_view_count": null,
            "_view_module": "@jupyter-widgets/controls",
            "_view_module_version": "1.5.0",
            "_view_name": "ProgressView",
            "bar_style": "success",
            "description": "",
            "description_tooltip": null,
            "layout": "IPY_MODEL_1d54657cdcc740f2aca55d7065bde12c",
            "max": 48,
            "min": 0,
            "orientation": "horizontal",
            "style": "IPY_MODEL_ea092808b28349a6977d2008b28cb94a",
            "value": 48
          }
        },
        "79c3134c6ddb4f268f9a643002644874": {
          "model_module": "@jupyter-widgets/base",
          "model_module_version": "1.2.0",
          "model_name": "LayoutModel",
          "state": {
            "_model_module": "@jupyter-widgets/base",
            "_model_module_version": "1.2.0",
            "_model_name": "LayoutModel",
            "_view_count": null,
            "_view_module": "@jupyter-widgets/base",
            "_view_module_version": "1.2.0",
            "_view_name": "LayoutView",
            "align_content": null,
            "align_items": null,
            "align_self": null,
            "border": null,
            "bottom": null,
            "display": null,
            "flex": null,
            "flex_flow": null,
            "grid_area": null,
            "grid_auto_columns": null,
            "grid_auto_flow": null,
            "grid_auto_rows": null,
            "grid_column": null,
            "grid_gap": null,
            "grid_row": null,
            "grid_template_areas": null,
            "grid_template_columns": null,
            "grid_template_rows": null,
            "height": null,
            "justify_content": null,
            "justify_items": null,
            "left": null,
            "margin": null,
            "max_height": null,
            "max_width": null,
            "min_height": null,
            "min_width": null,
            "object_fit": null,
            "object_position": null,
            "order": null,
            "overflow": null,
            "overflow_x": null,
            "overflow_y": null,
            "padding": null,
            "right": null,
            "top": null,
            "visibility": null,
            "width": null
          }
        },
        "8e5222ba5d07484a9e70f780979c8e44": {
          "model_module": "@jupyter-widgets/controls",
          "model_module_version": "1.5.0",
          "model_name": "HBoxModel",
          "state": {
            "_dom_classes": [],
            "_model_module": "@jupyter-widgets/controls",
            "_model_module_version": "1.5.0",
            "_model_name": "HBoxModel",
            "_view_count": null,
            "_view_module": "@jupyter-widgets/controls",
            "_view_module_version": "1.5.0",
            "_view_name": "HBoxView",
            "box_style": "",
            "children": [
              "IPY_MODEL_a4aa5b1c9a3b46308e0734226b73683a",
              "IPY_MODEL_b6884982140a45e99b654c7f403332db",
              "IPY_MODEL_bed82f1b503b4eea8eba6d8c52cdad19"
            ],
            "layout": "IPY_MODEL_4d34b261450b4071837c8ad4b2186522"
          }
        },
        "91554d6f2b7a423a967f136390d1a3cf": {
          "model_module": "@jupyter-widgets/controls",
          "model_module_version": "1.5.0",
          "model_name": "DescriptionStyleModel",
          "state": {
            "_model_module": "@jupyter-widgets/controls",
            "_model_module_version": "1.5.0",
            "_model_name": "DescriptionStyleModel",
            "_view_count": null,
            "_view_module": "@jupyter-widgets/base",
            "_view_module_version": "1.2.0",
            "_view_name": "StyleView",
            "description_width": ""
          }
        },
        "9425356ae1574b87b35283c4233d8aaf": {
          "model_module": "@jupyter-widgets/base",
          "model_module_version": "1.2.0",
          "model_name": "LayoutModel",
          "state": {
            "_model_module": "@jupyter-widgets/base",
            "_model_module_version": "1.2.0",
            "_model_name": "LayoutModel",
            "_view_count": null,
            "_view_module": "@jupyter-widgets/base",
            "_view_module_version": "1.2.0",
            "_view_name": "LayoutView",
            "align_content": null,
            "align_items": null,
            "align_self": null,
            "border": null,
            "bottom": null,
            "display": null,
            "flex": null,
            "flex_flow": null,
            "grid_area": null,
            "grid_auto_columns": null,
            "grid_auto_flow": null,
            "grid_auto_rows": null,
            "grid_column": null,
            "grid_gap": null,
            "grid_row": null,
            "grid_template_areas": null,
            "grid_template_columns": null,
            "grid_template_rows": null,
            "height": null,
            "justify_content": null,
            "justify_items": null,
            "left": null,
            "margin": null,
            "max_height": null,
            "max_width": null,
            "min_height": null,
            "min_width": null,
            "object_fit": null,
            "object_position": null,
            "order": null,
            "overflow": null,
            "overflow_x": null,
            "overflow_y": null,
            "padding": null,
            "right": null,
            "top": null,
            "visibility": null,
            "width": null
          }
        },
        "9439d8e9313549c580d68ea0bd1dcc97": {
          "model_module": "@jupyter-widgets/base",
          "model_module_version": "1.2.0",
          "model_name": "LayoutModel",
          "state": {
            "_model_module": "@jupyter-widgets/base",
            "_model_module_version": "1.2.0",
            "_model_name": "LayoutModel",
            "_view_count": null,
            "_view_module": "@jupyter-widgets/base",
            "_view_module_version": "1.2.0",
            "_view_name": "LayoutView",
            "align_content": null,
            "align_items": null,
            "align_self": null,
            "border": null,
            "bottom": null,
            "display": null,
            "flex": null,
            "flex_flow": null,
            "grid_area": null,
            "grid_auto_columns": null,
            "grid_auto_flow": null,
            "grid_auto_rows": null,
            "grid_column": null,
            "grid_gap": null,
            "grid_row": null,
            "grid_template_areas": null,
            "grid_template_columns": null,
            "grid_template_rows": null,
            "height": null,
            "justify_content": null,
            "justify_items": null,
            "left": null,
            "margin": null,
            "max_height": null,
            "max_width": null,
            "min_height": null,
            "min_width": null,
            "object_fit": null,
            "object_position": null,
            "order": null,
            "overflow": null,
            "overflow_x": null,
            "overflow_y": null,
            "padding": null,
            "right": null,
            "top": null,
            "visibility": null,
            "width": null
          }
        },
        "a2360e8508f247b2a84acc25f0b3e373": {
          "model_module": "@jupyter-widgets/controls",
          "model_module_version": "1.5.0",
          "model_name": "HTMLModel",
          "state": {
            "_dom_classes": [],
            "_model_module": "@jupyter-widgets/controls",
            "_model_module_version": "1.5.0",
            "_model_name": "HTMLModel",
            "_view_count": null,
            "_view_module": "@jupyter-widgets/controls",
            "_view_module_version": "1.5.0",
            "_view_name": "HTMLView",
            "description": "",
            "description_tooltip": null,
            "layout": "IPY_MODEL_bc8f51497d044f6e9ca9542bbe2c4951",
            "placeholder": "​",
            "style": "IPY_MODEL_4a424b275bbb4a08be9ac97345c25ecc",
            "value": " 48.0/48.0 [00:00&lt;00:00, 4.73kB/s]"
          }
        },
        "a49722bd92764a61a367a49bc41ee889": {
          "model_module": "@jupyter-widgets/base",
          "model_module_version": "1.2.0",
          "model_name": "LayoutModel",
          "state": {
            "_model_module": "@jupyter-widgets/base",
            "_model_module_version": "1.2.0",
            "_model_name": "LayoutModel",
            "_view_count": null,
            "_view_module": "@jupyter-widgets/base",
            "_view_module_version": "1.2.0",
            "_view_name": "LayoutView",
            "align_content": null,
            "align_items": null,
            "align_self": null,
            "border": null,
            "bottom": null,
            "display": null,
            "flex": null,
            "flex_flow": null,
            "grid_area": null,
            "grid_auto_columns": null,
            "grid_auto_flow": null,
            "grid_auto_rows": null,
            "grid_column": null,
            "grid_gap": null,
            "grid_row": null,
            "grid_template_areas": null,
            "grid_template_columns": null,
            "grid_template_rows": null,
            "height": null,
            "justify_content": null,
            "justify_items": null,
            "left": null,
            "margin": null,
            "max_height": null,
            "max_width": null,
            "min_height": null,
            "min_width": null,
            "object_fit": null,
            "object_position": null,
            "order": null,
            "overflow": null,
            "overflow_x": null,
            "overflow_y": null,
            "padding": null,
            "right": null,
            "top": null,
            "visibility": null,
            "width": null
          }
        },
        "a4aa5b1c9a3b46308e0734226b73683a": {
          "model_module": "@jupyter-widgets/controls",
          "model_module_version": "1.5.0",
          "model_name": "HTMLModel",
          "state": {
            "_dom_classes": [],
            "_model_module": "@jupyter-widgets/controls",
            "_model_module_version": "1.5.0",
            "_model_name": "HTMLModel",
            "_view_count": null,
            "_view_module": "@jupyter-widgets/controls",
            "_view_module_version": "1.5.0",
            "_view_name": "HTMLView",
            "description": "",
            "description_tooltip": null,
            "layout": "IPY_MODEL_693e87a67f344289848ab91f6d1016da",
            "placeholder": "​",
            "style": "IPY_MODEL_1affd20790d54f7cbdc7f42487b222f3",
            "value": "config.json: 100%"
          }
        },
        "b276661282fe4e1996b37a3df6724c01": {
          "model_module": "@jupyter-widgets/base",
          "model_module_version": "1.2.0",
          "model_name": "LayoutModel",
          "state": {
            "_model_module": "@jupyter-widgets/base",
            "_model_module_version": "1.2.0",
            "_model_name": "LayoutModel",
            "_view_count": null,
            "_view_module": "@jupyter-widgets/base",
            "_view_module_version": "1.2.0",
            "_view_name": "LayoutView",
            "align_content": null,
            "align_items": null,
            "align_self": null,
            "border": null,
            "bottom": null,
            "display": null,
            "flex": null,
            "flex_flow": null,
            "grid_area": null,
            "grid_auto_columns": null,
            "grid_auto_flow": null,
            "grid_auto_rows": null,
            "grid_column": null,
            "grid_gap": null,
            "grid_row": null,
            "grid_template_areas": null,
            "grid_template_columns": null,
            "grid_template_rows": null,
            "height": null,
            "justify_content": null,
            "justify_items": null,
            "left": null,
            "margin": null,
            "max_height": null,
            "max_width": null,
            "min_height": null,
            "min_width": null,
            "object_fit": null,
            "object_position": null,
            "order": null,
            "overflow": null,
            "overflow_x": null,
            "overflow_y": null,
            "padding": null,
            "right": null,
            "top": null,
            "visibility": null,
            "width": null
          }
        },
        "b6884982140a45e99b654c7f403332db": {
          "model_module": "@jupyter-widgets/controls",
          "model_module_version": "1.5.0",
          "model_name": "FloatProgressModel",
          "state": {
            "_dom_classes": [],
            "_model_module": "@jupyter-widgets/controls",
            "_model_module_version": "1.5.0",
            "_model_name": "FloatProgressModel",
            "_view_count": null,
            "_view_module": "@jupyter-widgets/controls",
            "_view_module_version": "1.5.0",
            "_view_name": "ProgressView",
            "bar_style": "success",
            "description": "",
            "description_tooltip": null,
            "layout": "IPY_MODEL_f4d10c83b9e04f2d95f73b54cb44b2dd",
            "max": 570,
            "min": 0,
            "orientation": "horizontal",
            "style": "IPY_MODEL_f596f59ee4574e3e93a6a222f7c506ee",
            "value": 570
          }
        },
        "bc8f51497d044f6e9ca9542bbe2c4951": {
          "model_module": "@jupyter-widgets/base",
          "model_module_version": "1.2.0",
          "model_name": "LayoutModel",
          "state": {
            "_model_module": "@jupyter-widgets/base",
            "_model_module_version": "1.2.0",
            "_model_name": "LayoutModel",
            "_view_count": null,
            "_view_module": "@jupyter-widgets/base",
            "_view_module_version": "1.2.0",
            "_view_name": "LayoutView",
            "align_content": null,
            "align_items": null,
            "align_self": null,
            "border": null,
            "bottom": null,
            "display": null,
            "flex": null,
            "flex_flow": null,
            "grid_area": null,
            "grid_auto_columns": null,
            "grid_auto_flow": null,
            "grid_auto_rows": null,
            "grid_column": null,
            "grid_gap": null,
            "grid_row": null,
            "grid_template_areas": null,
            "grid_template_columns": null,
            "grid_template_rows": null,
            "height": null,
            "justify_content": null,
            "justify_items": null,
            "left": null,
            "margin": null,
            "max_height": null,
            "max_width": null,
            "min_height": null,
            "min_width": null,
            "object_fit": null,
            "object_position": null,
            "order": null,
            "overflow": null,
            "overflow_x": null,
            "overflow_y": null,
            "padding": null,
            "right": null,
            "top": null,
            "visibility": null,
            "width": null
          }
        },
        "be50e3d68ddb49ca8d040cc17bcc1cde": {
          "model_module": "@jupyter-widgets/base",
          "model_module_version": "1.2.0",
          "model_name": "LayoutModel",
          "state": {
            "_model_module": "@jupyter-widgets/base",
            "_model_module_version": "1.2.0",
            "_model_name": "LayoutModel",
            "_view_count": null,
            "_view_module": "@jupyter-widgets/base",
            "_view_module_version": "1.2.0",
            "_view_name": "LayoutView",
            "align_content": null,
            "align_items": null,
            "align_self": null,
            "border": null,
            "bottom": null,
            "display": null,
            "flex": null,
            "flex_flow": null,
            "grid_area": null,
            "grid_auto_columns": null,
            "grid_auto_flow": null,
            "grid_auto_rows": null,
            "grid_column": null,
            "grid_gap": null,
            "grid_row": null,
            "grid_template_areas": null,
            "grid_template_columns": null,
            "grid_template_rows": null,
            "height": null,
            "justify_content": null,
            "justify_items": null,
            "left": null,
            "margin": null,
            "max_height": null,
            "max_width": null,
            "min_height": null,
            "min_width": null,
            "object_fit": null,
            "object_position": null,
            "order": null,
            "overflow": null,
            "overflow_x": null,
            "overflow_y": null,
            "padding": null,
            "right": null,
            "top": null,
            "visibility": null,
            "width": null
          }
        },
        "bed82f1b503b4eea8eba6d8c52cdad19": {
          "model_module": "@jupyter-widgets/controls",
          "model_module_version": "1.5.0",
          "model_name": "HTMLModel",
          "state": {
            "_dom_classes": [],
            "_model_module": "@jupyter-widgets/controls",
            "_model_module_version": "1.5.0",
            "_model_name": "HTMLModel",
            "_view_count": null,
            "_view_module": "@jupyter-widgets/controls",
            "_view_module_version": "1.5.0",
            "_view_name": "HTMLView",
            "description": "",
            "description_tooltip": null,
            "layout": "IPY_MODEL_5a824b52e3934366b241f7b0ade6c1ec",
            "placeholder": "​",
            "style": "IPY_MODEL_662656de552c452f9d7c0cef3d57db1a",
            "value": " 570/570 [00:00&lt;00:00, 61.4kB/s]"
          }
        },
        "bef96cad2d0140da8e4f7396aa67354a": {
          "model_module": "@jupyter-widgets/controls",
          "model_module_version": "1.5.0",
          "model_name": "DescriptionStyleModel",
          "state": {
            "_model_module": "@jupyter-widgets/controls",
            "_model_module_version": "1.5.0",
            "_model_name": "DescriptionStyleModel",
            "_view_count": null,
            "_view_module": "@jupyter-widgets/base",
            "_view_module_version": "1.2.0",
            "_view_name": "StyleView",
            "description_width": ""
          }
        },
        "c293a6541871475c9df5079f3d4ff47c": {
          "model_module": "@jupyter-widgets/controls",
          "model_module_version": "1.5.0",
          "model_name": "HBoxModel",
          "state": {
            "_dom_classes": [],
            "_model_module": "@jupyter-widgets/controls",
            "_model_module_version": "1.5.0",
            "_model_name": "HBoxModel",
            "_view_count": null,
            "_view_module": "@jupyter-widgets/controls",
            "_view_module_version": "1.5.0",
            "_view_name": "HBoxView",
            "box_style": "",
            "children": [
              "IPY_MODEL_0d22dade8c854eeda59d556fb2ee525a",
              "IPY_MODEL_752b1f91e0b14c61b1beec841a9607af",
              "IPY_MODEL_a2360e8508f247b2a84acc25f0b3e373"
            ],
            "layout": "IPY_MODEL_0727f554ee1c4a0aa1bcc516bfde4162"
          }
        },
        "c5a012fca20f485e9e76777e0b8199c2": {
          "model_module": "@jupyter-widgets/controls",
          "model_module_version": "1.5.0",
          "model_name": "ProgressStyleModel",
          "state": {
            "_model_module": "@jupyter-widgets/controls",
            "_model_module_version": "1.5.0",
            "_model_name": "ProgressStyleModel",
            "_view_count": null,
            "_view_module": "@jupyter-widgets/base",
            "_view_module_version": "1.2.0",
            "_view_name": "StyleView",
            "bar_color": null,
            "description_width": ""
          }
        },
        "cc0ba8e404314539bf3550e2969c8262": {
          "model_module": "@jupyter-widgets/controls",
          "model_module_version": "1.5.0",
          "model_name": "HTMLModel",
          "state": {
            "_dom_classes": [],
            "_model_module": "@jupyter-widgets/controls",
            "_model_module_version": "1.5.0",
            "_model_name": "HTMLModel",
            "_view_count": null,
            "_view_module": "@jupyter-widgets/controls",
            "_view_module_version": "1.5.0",
            "_view_name": "HTMLView",
            "description": "",
            "description_tooltip": null,
            "layout": "IPY_MODEL_1dcaeb43762b44efa27ac2387a459b64",
            "placeholder": "​",
            "style": "IPY_MODEL_91554d6f2b7a423a967f136390d1a3cf",
            "value": " 466k/466k [00:00&lt;00:00, 1.01MB/s]"
          }
        },
        "d2fe0c143a244a8f8679409655f8b0ca": {
          "model_module": "@jupyter-widgets/base",
          "model_module_version": "1.2.0",
          "model_name": "LayoutModel",
          "state": {
            "_model_module": "@jupyter-widgets/base",
            "_model_module_version": "1.2.0",
            "_model_name": "LayoutModel",
            "_view_count": null,
            "_view_module": "@jupyter-widgets/base",
            "_view_module_version": "1.2.0",
            "_view_name": "LayoutView",
            "align_content": null,
            "align_items": null,
            "align_self": null,
            "border": null,
            "bottom": null,
            "display": null,
            "flex": null,
            "flex_flow": null,
            "grid_area": null,
            "grid_auto_columns": null,
            "grid_auto_flow": null,
            "grid_auto_rows": null,
            "grid_column": null,
            "grid_gap": null,
            "grid_row": null,
            "grid_template_areas": null,
            "grid_template_columns": null,
            "grid_template_rows": null,
            "height": null,
            "justify_content": null,
            "justify_items": null,
            "left": null,
            "margin": null,
            "max_height": null,
            "max_width": null,
            "min_height": null,
            "min_width": null,
            "object_fit": null,
            "object_position": null,
            "order": null,
            "overflow": null,
            "overflow_x": null,
            "overflow_y": null,
            "padding": null,
            "right": null,
            "top": null,
            "visibility": null,
            "width": null
          }
        },
        "d766ce965a9b43bb9fece3e0f696a51d": {
          "model_module": "@jupyter-widgets/controls",
          "model_module_version": "1.5.0",
          "model_name": "DescriptionStyleModel",
          "state": {
            "_model_module": "@jupyter-widgets/controls",
            "_model_module_version": "1.5.0",
            "_model_name": "DescriptionStyleModel",
            "_view_count": null,
            "_view_module": "@jupyter-widgets/base",
            "_view_module_version": "1.2.0",
            "_view_name": "StyleView",
            "description_width": ""
          }
        },
        "debf3f8a08d440738f5fc65ee407b697": {
          "model_module": "@jupyter-widgets/controls",
          "model_module_version": "1.5.0",
          "model_name": "FloatProgressModel",
          "state": {
            "_dom_classes": [],
            "_model_module": "@jupyter-widgets/controls",
            "_model_module_version": "1.5.0",
            "_model_name": "FloatProgressModel",
            "_view_count": null,
            "_view_module": "@jupyter-widgets/controls",
            "_view_module_version": "1.5.0",
            "_view_name": "ProgressView",
            "bar_style": "success",
            "description": "",
            "description_tooltip": null,
            "layout": "IPY_MODEL_0a0daf34e18945779a552428706f9de0",
            "max": 231508,
            "min": 0,
            "orientation": "horizontal",
            "style": "IPY_MODEL_28e0a29a22a14a4c80c116e69a3c488a",
            "value": 231508
          }
        },
        "ea092808b28349a6977d2008b28cb94a": {
          "model_module": "@jupyter-widgets/controls",
          "model_module_version": "1.5.0",
          "model_name": "ProgressStyleModel",
          "state": {
            "_model_module": "@jupyter-widgets/controls",
            "_model_module_version": "1.5.0",
            "_model_name": "ProgressStyleModel",
            "_view_count": null,
            "_view_module": "@jupyter-widgets/base",
            "_view_module_version": "1.2.0",
            "_view_name": "StyleView",
            "bar_color": null,
            "description_width": ""
          }
        },
        "f4d10c83b9e04f2d95f73b54cb44b2dd": {
          "model_module": "@jupyter-widgets/base",
          "model_module_version": "1.2.0",
          "model_name": "LayoutModel",
          "state": {
            "_model_module": "@jupyter-widgets/base",
            "_model_module_version": "1.2.0",
            "_model_name": "LayoutModel",
            "_view_count": null,
            "_view_module": "@jupyter-widgets/base",
            "_view_module_version": "1.2.0",
            "_view_name": "LayoutView",
            "align_content": null,
            "align_items": null,
            "align_self": null,
            "border": null,
            "bottom": null,
            "display": null,
            "flex": null,
            "flex_flow": null,
            "grid_area": null,
            "grid_auto_columns": null,
            "grid_auto_flow": null,
            "grid_auto_rows": null,
            "grid_column": null,
            "grid_gap": null,
            "grid_row": null,
            "grid_template_areas": null,
            "grid_template_columns": null,
            "grid_template_rows": null,
            "height": null,
            "justify_content": null,
            "justify_items": null,
            "left": null,
            "margin": null,
            "max_height": null,
            "max_width": null,
            "min_height": null,
            "min_width": null,
            "object_fit": null,
            "object_position": null,
            "order": null,
            "overflow": null,
            "overflow_x": null,
            "overflow_y": null,
            "padding": null,
            "right": null,
            "top": null,
            "visibility": null,
            "width": null
          }
        },
        "f596f59ee4574e3e93a6a222f7c506ee": {
          "model_module": "@jupyter-widgets/controls",
          "model_module_version": "1.5.0",
          "model_name": "ProgressStyleModel",
          "state": {
            "_model_module": "@jupyter-widgets/controls",
            "_model_module_version": "1.5.0",
            "_model_name": "ProgressStyleModel",
            "_view_count": null,
            "_view_module": "@jupyter-widgets/base",
            "_view_module_version": "1.2.0",
            "_view_name": "StyleView",
            "bar_color": null,
            "description_width": ""
          }
        },
        "f9af8dd81d814619ac2bef604c525b37": {
          "model_module": "@jupyter-widgets/controls",
          "model_module_version": "1.5.0",
          "model_name": "DescriptionStyleModel",
          "state": {
            "_model_module": "@jupyter-widgets/controls",
            "_model_module_version": "1.5.0",
            "_model_name": "DescriptionStyleModel",
            "_view_count": null,
            "_view_module": "@jupyter-widgets/base",
            "_view_module_version": "1.2.0",
            "_view_name": "StyleView",
            "description_width": ""
          }
        },
        "ff680cff7e56481ab5c58abe4022c3e8": {
          "model_module": "@jupyter-widgets/base",
          "model_module_version": "1.2.0",
          "model_name": "LayoutModel",
          "state": {
            "_model_module": "@jupyter-widgets/base",
            "_model_module_version": "1.2.0",
            "_model_name": "LayoutModel",
            "_view_count": null,
            "_view_module": "@jupyter-widgets/base",
            "_view_module_version": "1.2.0",
            "_view_name": "LayoutView",
            "align_content": null,
            "align_items": null,
            "align_self": null,
            "border": null,
            "bottom": null,
            "display": null,
            "flex": null,
            "flex_flow": null,
            "grid_area": null,
            "grid_auto_columns": null,
            "grid_auto_flow": null,
            "grid_auto_rows": null,
            "grid_column": null,
            "grid_gap": null,
            "grid_row": null,
            "grid_template_areas": null,
            "grid_template_columns": null,
            "grid_template_rows": null,
            "height": null,
            "justify_content": null,
            "justify_items": null,
            "left": null,
            "margin": null,
            "max_height": null,
            "max_width": null,
            "min_height": null,
            "min_width": null,
            "object_fit": null,
            "object_position": null,
            "order": null,
            "overflow": null,
            "overflow_x": null,
            "overflow_y": null,
            "padding": null,
            "right": null,
            "top": null,
            "visibility": null,
            "width": null
          }
        }
      }
    }
  },
  "nbformat": 4,
  "nbformat_minor": 0
}
