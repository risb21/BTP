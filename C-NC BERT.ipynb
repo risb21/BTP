{
  "cells": [
    {
      "cell_type": "code",
      "execution_count": 29,
      "metadata": {},
      "outputs": [
        {
          "name": "stdout",
          "output_type": "stream",
          "text": [
            "Using device: cuda\n"
          ]
        }
      ],
      "source": [
        "import pandas as pd\n",
        "import torch\n",
        "from sklearn.model_selection import train_test_split\n",
        "from torch.utils.data import Dataset, DataLoader\n",
        "from transformers import BertTokenizer, BertForSequenceClassification, get_scheduler, AutoTokenizer, AutoModelForSequenceClassification\n",
        "# from transformers import BertTokenizer, BertForSequenceClassification, get_scheduler\n",
        "from torch.optim import AdamW\n",
        "from sklearn.metrics import classification_report, accuracy_score\n",
        "from tqdm import tqdm\n",
        "\n",
        "# Check GPU\n",
        "device = torch.device(\"cuda\" if torch.cuda.is_available() else \"cpu\")\n",
        "print(\"Using device:\", device)"
      ]
    },
    {
      "cell_type": "code",
      "execution_count": 30,
      "metadata": {},
      "outputs": [],
      "source": [
        "CLASSES: dict[int, str] = {\n",
        "    -1: \"None\",\n",
        "    0: \"Spam/Scam/Garbage\",\n",
        "    1: \"Non-Complaint \",\n",
        "    # -- Rest are complaints --\n",
        "    2: \"Delay\",\n",
        "    3: \"Hygeine (food, toilets, carriage)\",\n",
        "    4: \"Ticket issue (cancellation, refund, seat change)\",\n",
        "    5: \"Medical issue\",\n",
        "    6: \"Safety issue\",\n",
        "    7: \"Travel Experience\",\n",
        "    8: \"Feedback / Suggestions (less critical/urgent)\",\n",
        "}\n",
        "URGENCY: dict[int, str] = {\n",
        "    -1: \"None\",\n",
        "    0: \"Low\",\n",
        "    1: \"Pressing\",\n",
        "    2: \"critical\",\n",
        "}\n",
        "LANG: dict[int, str] = {\n",
        "    -1: \"None\",\n",
        "    0: \"English\",\n",
        "    1: \"Hindi (devanagari; purely)\",\n",
        "    2: \"Hinglish (devanagari; with english in latin alphabet)\",\n",
        "    3: \"Hinglish (devanagari; with english transliterated to hindi)\",\n",
        "    4: \"Hinglish (latin; with hindi transliterated to english)\",\n",
        "}"
      ]
    },
    {
      "cell_type": "markdown",
      "metadata": {
        "id": "IwZ-DELzv0wE"
      },
      "source": [
        "### Training the complaint/non-complaint differentiator model"
      ]
    },
    {
      "cell_type": "code",
      "execution_count": 31,
      "metadata": {
        "colab": {
          "base_uri": "https://localhost:8080/"
        },
        "id": "WOcRJ7TwaJtg",
        "outputId": "876016b5-93d1-4df9-f26b-1e001aa2134f"
      },
      "outputs": [
        {
          "name": "stdout",
          "output_type": "stream",
          "text": [
            "label\n",
            "1    1500\n",
            "0     696\n",
            "Name: count, dtype: int64\n",
            "2196\n"
          ]
        }
      ],
      "source": [
        "df_cnc = pd.read_csv('./eng_data_cnc.csv')\n",
        "\n",
        "print(df_cnc['label'].value_counts())\n",
        "print(len(df_cnc[\"SentimentText\"].tolist()))"
      ]
    },
    {
      "cell_type": "markdown",
      "metadata": {
        "id": "mtwz_C50wUw0"
      },
      "source": [
        "Empty string is saved as NaN (float), convert it back to empty string"
      ]
    },
    {
      "cell_type": "code",
      "execution_count": 32,
      "metadata": {
        "id": "1H9bAhzscT46"
      },
      "outputs": [],
      "source": [
        "for idx, i in enumerate(df_cnc.loc[:, \"SentimentText\"]):\n",
        "    if type(i) == float:\n",
        "        df_cnc.loc[idx, \"SentimentText\"] = \"\""
      ]
    },
    {
      "cell_type": "code",
      "execution_count": 33,
      "metadata": {
        "id": "FYYdkf4Gau8b"
      },
      "outputs": [],
      "source": [
        "import time\n",
        "train_texts, val_texts, train_labels, val_labels = train_test_split(\n",
        "    df_cnc['SentimentText'].tolist(), df_cnc['label'].tolist(), test_size=0.2, random_state=(time.time_ns() % 943024), stratify=df_cnc['label']\n",
        ")"
      ]
    },
    {
      "cell_type": "code",
      "execution_count": 34,
      "metadata": {
        "colab": {
          "base_uri": "https://localhost:8080/",
          "height": 269,
          "referenced_widgets": [
            "c293a6541871475c9df5079f3d4ff47c",
            "0d22dade8c854eeda59d556fb2ee525a",
            "752b1f91e0b14c61b1beec841a9607af",
            "a2360e8508f247b2a84acc25f0b3e373",
            "0727f554ee1c4a0aa1bcc516bfde4162",
            "be50e3d68ddb49ca8d040cc17bcc1cde",
            "6c0b5b8340e54c72abbb096dfaebfed9",
            "1d54657cdcc740f2aca55d7065bde12c",
            "ea092808b28349a6977d2008b28cb94a",
            "bc8f51497d044f6e9ca9542bbe2c4951",
            "4a424b275bbb4a08be9ac97345c25ecc",
            "090c44ac03ba49e88c8a07e5c7132152",
            "3671b7d1585a4da9b44f0c7b3f7fe2c4",
            "debf3f8a08d440738f5fc65ee407b697",
            "4ee46f5a59d94a079a969a486b66ea8a",
            "2c4cbb28b2914adaacc9ef75d1522ed8",
            "79c3134c6ddb4f268f9a643002644874",
            "30bb456793a1499e8b81a2ccafb40c3f",
            "0a0daf34e18945779a552428706f9de0",
            "28e0a29a22a14a4c80c116e69a3c488a",
            "9425356ae1574b87b35283c4233d8aaf",
            "2919900396f84d8e8da47be347e01174",
            "44514ee020b843989a79ffc33c08d72a",
            "09bc325b19a14d1bb7cdba849366a382",
            "0dbe3e31c7fc4cd9bed1adc38bbc9c66",
            "cc0ba8e404314539bf3550e2969c8262",
            "b276661282fe4e1996b37a3df6724c01",
            "d2fe0c143a244a8f8679409655f8b0ca",
            "bef96cad2d0140da8e4f7396aa67354a",
            "ff680cff7e56481ab5c58abe4022c3e8",
            "4f47f23b6f364318a432a8ac59ec8c22",
            "1dcaeb43762b44efa27ac2387a459b64",
            "91554d6f2b7a423a967f136390d1a3cf",
            "8e5222ba5d07484a9e70f780979c8e44",
            "a4aa5b1c9a3b46308e0734226b73683a",
            "b6884982140a45e99b654c7f403332db",
            "bed82f1b503b4eea8eba6d8c52cdad19",
            "4d34b261450b4071837c8ad4b2186522",
            "693e87a67f344289848ab91f6d1016da",
            "1affd20790d54f7cbdc7f42487b222f3",
            "f4d10c83b9e04f2d95f73b54cb44b2dd",
            "f596f59ee4574e3e93a6a222f7c506ee",
            "5a824b52e3934366b241f7b0ade6c1ec",
            "662656de552c452f9d7c0cef3d57db1a"
          ]
        },
        "id": "TdTxKBe_aylY",
        "outputId": "e7cef20f-cb02-4d53-e32f-d44a3a707c4b"
      },
      "outputs": [],
      "source": [
        "tokenizer = BertTokenizer.from_pretrained('bert-base-uncased')\n",
        "\n",
        "train_encodings = tokenizer(train_texts, truncation=True, padding=True, max_length=128)\n",
        "val_encodings = tokenizer(val_texts, truncation=True, padding=True, max_length=128)"
      ]
    },
    {
      "cell_type": "code",
      "execution_count": 35,
      "metadata": {
        "id": "3PR72QlGdnYO"
      },
      "outputs": [],
      "source": [
        "class TweetDataset(Dataset):\n",
        "    def __init__(self, encodings, labels):\n",
        "        self.encodings = encodings\n",
        "        self.labels = labels\n",
        "\n",
        "    def __getitem__(self, idx):\n",
        "        item = {k: torch.tensor(v[idx]) for k, v in self.encodings.items()}\n",
        "        item[\"labels\"] = torch.tensor(self.labels[idx])\n",
        "        return item\n",
        "\n",
        "    def __len__(self):\n",
        "        return len(self.labels)\n",
        "\n",
        "train_dataset = TweetDataset(train_encodings, train_labels)\n",
        "val_dataset = TweetDataset(val_encodings, val_labels)\n",
        "\n",
        "train_loader = DataLoader(train_dataset, batch_size=32, shuffle=True)\n",
        "val_loader = DataLoader(val_dataset, batch_size=32)"
      ]
    },
    {
      "cell_type": "code",
      "execution_count": 36,
      "metadata": {
        "colab": {
          "base_uri": "https://localhost:8080/"
        },
        "id": "OmnnMovr0UFU",
        "outputId": "70dce5c3-32a1-41f0-8eb5-03a72b29064c"
      },
      "outputs": [
        {
          "data": {
            "text/plain": [
              "{'input_ids': tensor([  101,  5310,  8909,  1024, 26632, 16584,  3058,  1997, 21725,  1024,\n",
              "          1026,  3058,  1028,   102,     0,     0,     0,     0,     0,     0,\n",
              "             0,     0,     0,     0,     0,     0,     0,     0,     0,     0,\n",
              "             0,     0,     0,     0,     0,     0,     0,     0,     0,     0,\n",
              "             0,     0,     0,     0,     0,     0,     0,     0,     0,     0,\n",
              "             0,     0,     0,     0,     0,     0,     0,     0,     0,     0,\n",
              "             0,     0]),\n",
              " 'token_type_ids': tensor([0, 0, 0, 0, 0, 0, 0, 0, 0, 0, 0, 0, 0, 0, 0, 0, 0, 0, 0, 0, 0, 0, 0, 0,\n",
              "         0, 0, 0, 0, 0, 0, 0, 0, 0, 0, 0, 0, 0, 0, 0, 0, 0, 0, 0, 0, 0, 0, 0, 0,\n",
              "         0, 0, 0, 0, 0, 0, 0, 0, 0, 0, 0, 0, 0, 0]),\n",
              " 'attention_mask': tensor([1, 1, 1, 1, 1, 1, 1, 1, 1, 1, 1, 1, 1, 1, 0, 0, 0, 0, 0, 0, 0, 0, 0, 0,\n",
              "         0, 0, 0, 0, 0, 0, 0, 0, 0, 0, 0, 0, 0, 0, 0, 0, 0, 0, 0, 0, 0, 0, 0, 0,\n",
              "         0, 0, 0, 0, 0, 0, 0, 0, 0, 0, 0, 0, 0, 0]),\n",
              " 'labels': tensor(0)}"
            ]
          },
          "execution_count": 36,
          "metadata": {},
          "output_type": "execute_result"
        }
      ],
      "source": [
        "train_dataset[0]"
      ]
    },
    {
      "cell_type": "code",
      "execution_count": 37,
      "metadata": {
        "colab": {
          "base_uri": "https://localhost:8080/",
          "height": 920,
          "referenced_widgets": [
            "03ee7797001e40399d6fa4906299892a",
            "6a0d9f60f204451ab5d87639664c5095",
            "3a955ba733c649078be0bd1514b929bc",
            "1cdc60759ab64d2baf6f6b2806a97f99",
            "3818a56ac54d407fbda20064fe5cdc81",
            "2ba8f7ed04924bd0ac8acf70a171f8f6",
            "f9af8dd81d814619ac2bef604c525b37",
            "a49722bd92764a61a367a49bc41ee889",
            "c5a012fca20f485e9e76777e0b8199c2",
            "9439d8e9313549c580d68ea0bd1dcc97",
            "d766ce965a9b43bb9fece3e0f696a51d"
          ]
        },
        "id": "F1MtErJVdpJe",
        "outputId": "29b9f76e-8b0a-44d7-f323-851f1fd5eb2a"
      },
      "outputs": [
        {
          "name": "stderr",
          "output_type": "stream",
          "text": [
            "Some weights of BertForSequenceClassification were not initialized from the model checkpoint at bert-base-uncased and are newly initialized: ['classifier.bias', 'classifier.weight']\n",
            "You should probably TRAIN this model on a down-stream task to be able to use it for predictions and inference.\n"
          ]
        },
        {
          "data": {
            "text/plain": [
              "BertForSequenceClassification(\n",
              "  (bert): BertModel(\n",
              "    (embeddings): BertEmbeddings(\n",
              "      (word_embeddings): Embedding(30522, 768, padding_idx=0)\n",
              "      (position_embeddings): Embedding(512, 768)\n",
              "      (token_type_embeddings): Embedding(2, 768)\n",
              "      (LayerNorm): LayerNorm((768,), eps=1e-12, elementwise_affine=True)\n",
              "      (dropout): Dropout(p=0.1, inplace=False)\n",
              "    )\n",
              "    (encoder): BertEncoder(\n",
              "      (layer): ModuleList(\n",
              "        (0-11): 12 x BertLayer(\n",
              "          (attention): BertAttention(\n",
              "            (self): BertSdpaSelfAttention(\n",
              "              (query): Linear(in_features=768, out_features=768, bias=True)\n",
              "              (key): Linear(in_features=768, out_features=768, bias=True)\n",
              "              (value): Linear(in_features=768, out_features=768, bias=True)\n",
              "              (dropout): Dropout(p=0.1, inplace=False)\n",
              "            )\n",
              "            (output): BertSelfOutput(\n",
              "              (dense): Linear(in_features=768, out_features=768, bias=True)\n",
              "              (LayerNorm): LayerNorm((768,), eps=1e-12, elementwise_affine=True)\n",
              "              (dropout): Dropout(p=0.1, inplace=False)\n",
              "            )\n",
              "          )\n",
              "          (intermediate): BertIntermediate(\n",
              "            (dense): Linear(in_features=768, out_features=3072, bias=True)\n",
              "            (intermediate_act_fn): GELUActivation()\n",
              "          )\n",
              "          (output): BertOutput(\n",
              "            (dense): Linear(in_features=3072, out_features=768, bias=True)\n",
              "            (LayerNorm): LayerNorm((768,), eps=1e-12, elementwise_affine=True)\n",
              "            (dropout): Dropout(p=0.1, inplace=False)\n",
              "          )\n",
              "        )\n",
              "      )\n",
              "    )\n",
              "    (pooler): BertPooler(\n",
              "      (dense): Linear(in_features=768, out_features=768, bias=True)\n",
              "      (activation): Tanh()\n",
              "    )\n",
              "  )\n",
              "  (dropout): Dropout(p=0.1, inplace=False)\n",
              "  (classifier): Linear(in_features=768, out_features=2, bias=True)\n",
              ")"
            ]
          },
          "execution_count": 37,
          "metadata": {},
          "output_type": "execute_result"
        }
      ],
      "source": [
        "model = BertForSequenceClassification.from_pretrained(\"bert-base-uncased\", num_labels=2)\n",
        "# model = AutoModelForSequenceClassification.from_pretrained(\"roberta-base\", num_labels=2)\n",
        "model.to(device)"
      ]
    },
    {
      "cell_type": "code",
      "execution_count": 38,
      "metadata": {
        "colab": {
          "base_uri": "https://localhost:8080/",
          "height": 280
        },
        "id": "AaEXpbyKduFY",
        "outputId": "be3adcd5-2cad-4114-9128-3b39545dae22"
      },
      "outputs": [
        {
          "name": "stdout",
          "output_type": "stream",
          "text": [
            "\n",
            "Epoch 1/4\n"
          ]
        },
        {
          "name": "stderr",
          "output_type": "stream",
          "text": [
            "Training: 100%|██████████| 55/55 [00:44<00:00,  1.24it/s, loss=0.449]\n"
          ]
        },
        {
          "name": "stdout",
          "output_type": "stream",
          "text": [
            "\n",
            "Epoch 2/4\n"
          ]
        },
        {
          "name": "stderr",
          "output_type": "stream",
          "text": [
            "Training: 100%|██████████| 55/55 [00:44<00:00,  1.22it/s, loss=0.322]\n"
          ]
        },
        {
          "name": "stdout",
          "output_type": "stream",
          "text": [
            "\n",
            "Epoch 3/4\n"
          ]
        },
        {
          "name": "stderr",
          "output_type": "stream",
          "text": [
            "Training: 100%|██████████| 55/55 [00:45<00:00,  1.22it/s, loss=0.0387]\n"
          ]
        },
        {
          "name": "stdout",
          "output_type": "stream",
          "text": [
            "\n",
            "Epoch 4/4\n"
          ]
        },
        {
          "name": "stderr",
          "output_type": "stream",
          "text": [
            "Training: 100%|██████████| 55/55 [00:45<00:00,  1.22it/s, loss=0.0366]\n"
          ]
        }
      ],
      "source": [
        "optimizer = AdamW(model.parameters(), lr=5e-5)\n",
        "\n",
        "num_epochs = 4\n",
        "num_training_steps = num_epochs * len(train_loader)\n",
        "lr_scheduler = get_scheduler(\n",
        "    \"linear\", optimizer=optimizer, num_warmup_steps=0, num_training_steps=num_training_steps\n",
        ")\n",
        "\n",
        "# Training loop\n",
        "model.train()\n",
        "for epoch in range(num_epochs):\n",
        "    print(f\"\\nEpoch {epoch + 1}/{num_epochs}\")\n",
        "    pbar = tqdm(train_loader, desc=\"Training\")\n",
        "    for batch in pbar:\n",
        "        batch = {k: v.to(device) for k, v in batch.items()}\n",
        "        outputs = model(**batch)\n",
        "        loss = outputs.loss\n",
        "        loss.backward()\n",
        "        optimizer.step()\n",
        "        lr_scheduler.step()\n",
        "        optimizer.zero_grad()\n",
        "        pbar.set_postfix(loss=loss.item())"
      ]
    },
    {
      "cell_type": "code",
      "execution_count": 39,
      "metadata": {
        "colab": {
          "base_uri": "https://localhost:8080/"
        },
        "id": "Oa1IknZJd4R1",
        "outputId": "2f110c98-fe59-4454-814b-ff593c802773"
      },
      "outputs": [
        {
          "name": "stderr",
          "output_type": "stream",
          "text": [
            "Evaluating:   0%|          | 0/14 [00:00<?, ?it/s]"
          ]
        },
        {
          "name": "stderr",
          "output_type": "stream",
          "text": [
            "Evaluating: 100%|██████████| 14/14 [00:03<00:00,  3.71it/s]"
          ]
        },
        {
          "name": "stdout",
          "output_type": "stream",
          "text": [
            "\n",
            "Classification Report:\n",
            "               precision    recall  f1-score   support\n",
            "\n",
            "Non-Complaint       0.86      0.77      0.81       139\n",
            "    Complaint       0.90      0.94      0.92       301\n",
            "\n",
            "     accuracy                           0.89       440\n",
            "    macro avg       0.88      0.85      0.86       440\n",
            " weighted avg       0.89      0.89      0.88       440\n",
            "\n",
            "Accuracy: 0.8863636363636364\n"
          ]
        },
        {
          "name": "stderr",
          "output_type": "stream",
          "text": [
            "\n"
          ]
        }
      ],
      "source": [
        "model.eval()\n",
        "all_preds = []\n",
        "all_labels = []\n",
        "\n",
        "with torch.no_grad():\n",
        "    for batch in tqdm(val_loader, desc=\"Evaluating\"):\n",
        "        batch = {k: v.to(device) for k, v in batch.items()}\n",
        "        outputs = model(**batch)\n",
        "        logits = outputs.logits\n",
        "        preds = torch.argmax(logits, dim=1)\n",
        "        all_preds.extend(preds.cpu().numpy())\n",
        "        all_labels.extend(batch['labels'].cpu().numpy())\n",
        "\n",
        "# Results\n",
        "print(\"\\nClassification Report:\")\n",
        "print(classification_report(all_labels, all_preds, target_names=[\"Non-Complaint\", \"Complaint\"]))\n",
        "print(\"Accuracy:\", accuracy_score(all_labels, all_preds))"
      ]
    },
    {
      "cell_type": "code",
      "execution_count": null,
      "metadata": {},
      "outputs": [
        {
          "name": "stderr",
          "output_type": "stream",
          "text": [
            "Evaluating:   0%|          | 0/14 [00:00<?, ?it/s]"
          ]
        },
        {
          "name": "stderr",
          "output_type": "stream",
          "text": [
            "Evaluating: 100%|██████████| 14/14 [00:03<00:00,  3.77it/s]"
          ]
        },
        {
          "name": "stdout",
          "output_type": "stream",
          "text": [
            "\n",
            "Classification Report:\n",
            "               precision    recall  f1-score   support\n",
            "\n",
            "Non-Complaint       0.74      0.73      0.74       139\n",
            "    Complaint       0.88      0.88      0.88       301\n",
            "\n",
            "     accuracy                           0.83       440\n",
            "    macro avg       0.81      0.81      0.81       440\n",
            " weighted avg       0.83      0.83      0.83       440\n",
            "\n",
            "Accuracy: 0.8340909090909091\n"
          ]
        },
        {
          "name": "stderr",
          "output_type": "stream",
          "text": [
            "\n"
          ]
        }
      ],
      "source": [
        "model.eval()\n",
        "all_preds = []\n",
        "all_labels = []\n",
        "\n",
        "with torch.no_grad():\n",
        "    for batch in tqdm(val_loader, desc=\"Evaluating\"):\n",
        "        batch = {k: v.to(device) for k, v in batch.items()}\n",
        "        outputs = model(**batch)\n",
        "        logits = outputs.logits\n",
        "        preds = torch.argmax(logits, dim=1)\n",
        "        all_preds.extend(preds.cpu().numpy())\n",
        "        all_labels.extend(batch['labels'].cpu().numpy())\n",
        "\n",
        "# Results\n",
        "print(\"\\nClassification Report:\")\n",
        "print(classification_report(all_labels, all_preds, target_names=[\"Non-Complaint\", \"Complaint\"]))\n",
        "print(\"Accuracy:\", accuracy_score(all_labels, all_preds))\n",
        "\n",
        "# Classification Report:\n",
        "#                precision    recall  f1-score   support\n",
        "\n",
        "# Non-Complaint       0.74      0.68      0.71       139\n",
        "#     Complaint       0.86      0.89      0.87       301\n",
        "\n",
        "#      accuracy                           0.82       440\n",
        "#     macro avg       0.80      0.79      0.79       440\n",
        "#  weighted avg       0.82      0.82      0.82       440\n",
        "\n",
        "# Accuracy: 0.8227272727272728"
      ]
    },
    {
      "cell_type": "code",
      "execution_count": 27,
      "metadata": {},
      "outputs": [],
      "source": [
        "# %pip -q install seaborn"
      ]
    },
    {
      "cell_type": "code",
      "execution_count": 43,
      "metadata": {
        "colab": {
          "base_uri": "https://localhost:8080/",
          "height": 487
        },
        "id": "tqjrhLh6d73L",
        "outputId": "77f7fd57-6f01-4251-a6b2-d174ae50a5a3"
      },
      "outputs": [
        {
          "data": {
            "image/png": "[encoded data removed]",
            "text/plain": [
              "<Figure size 600x500 with 2 Axes>"
            ]
          },
          "metadata": {},
          "output_type": "display_data"
        }
      ],
      "source": [
        "from sklearn.metrics import confusion_matrix\n",
        "import seaborn as sns\n",
        "import matplotlib.pyplot as plt\n",
        "\n",
        "# Compute confusion matrix\n",
        "cm = confusion_matrix(all_labels, all_preds)\n",
        "labels = [\"Non-Complaint\", \"Complaint\"]\n",
        "\n",
        "# Plot confusion matrix\n",
        "plt.figure(figsize=(6, 5))\n",
        "sns.heatmap(cm, annot=True, fmt='d', cmap='Blues', xticklabels=labels, yticklabels=labels)\n",
        "plt.xlabel(\"Predicted Label\")\n",
        "plt.ylabel(\"Actual Label\")\n",
        "# plt.title(\"Confusion Matrix\")\n",
        "plt.show()"
      ]
    },
    {
      "cell_type": "code",
      "execution_count": 42,
      "metadata": {
        "colab": {
          "base_uri": "https://localhost:8080/"
        },
        "id": "mQZNypT8d-Tt",
        "outputId": "c524bc3c-6cfd-4b89-b440-16872b9eb67b"
      },
      "outputs": [],
      "source": [
        "model.save_pretrained(\"bert_complaint_classifier\")\n",
        "tokenizer.save_pretrained(\"bert_complaint_classifier\")\n",
        "\n",
        "import pickle\n",
        "with open('val_labels.pkl', 'wb') as file:\n",
        "    pickle.dump(val_labels, file)\n",
        "with open('val_texts.pkl', 'wb') as file:\n",
        "    pickle.dump(val_texts, file)"
      ]
    },
    {
      "cell_type": "code",
      "execution_count": 15,
      "metadata": {},
      "outputs": [],
      "source": [
        "import gc"
      ]
    },
    {
      "cell_type": "code",
      "execution_count": 27,
      "metadata": {},
      "outputs": [
        {
          "data": {
            "text/plain": [
              "693"
            ]
          },
          "execution_count": 27,
          "metadata": {},
          "output_type": "execute_result"
        }
      ],
      "source": [
        "try: model.cpu()\n",
        "except: pass\n",
        "\n",
        "try: del model\n",
        "except: pass\n",
        "\n",
        "try: del optimizer\n",
        "except: pass\n",
        "\n",
        "try: del lr_scheduler\n",
        "except: pass\n",
        "\n",
        "try:\n",
        "    with torch.no_grad():\n",
        "        torch.cuda.empty_cache()\n",
        "except: pass\n",
        "\n",
        "try: del torch\n",
        "except: pass\n",
        "\n",
        "try: del AdamW\n",
        "except: pass\n",
        "\n",
        "try: del tqdm\n",
        "except: pass\n",
        "\n",
        "try: del Dataset, DataLoader\n",
        "except: pass\n",
        "\n",
        "\n",
        "gc.collect()"
      ]
    },
    {
      "cell_type": "code",
      "execution_count": 28,
      "metadata": {},
      "outputs": [
        {
          "name": "stdout",
          "output_type": "stream",
          "text": [
            "Sat May 10 15:57:33 2025       \n",
            "+-----------------------------------------------------------------------------------------+\n",
            "| NVIDIA-SMI 565.77                 Driver Version: 565.77         CUDA Version: 12.7     |\n",
            "|-----------------------------------------+------------------------+----------------------+\n",
            "| GPU  Name                 Persistence-M | Bus-Id          Disp.A | Volatile Uncorr. ECC |\n",
            "| Fan  Temp   Perf          Pwr:Usage/Cap |           Memory-Usage | GPU-Util  Compute M. |\n",
            "|                                         |                        |               MIG M. |\n",
            "|=========================================+========================+======================|\n",
            "|   0  NVIDIA GeForce GTX 1050 Ti     Off |   00000000:01:00.0 Off |                  N/A |\n",
            "| N/A   77C    P0             N/A / 5001W |     459MiB /   4096MiB |      0%      Default |\n",
            "|                                         |                        |                  N/A |\n",
            "+-----------------------------------------+------------------------+----------------------+\n",
            "                                                                                         \n",
            "+-----------------------------------------------------------------------------------------+\n",
            "| Processes:                                                                              |\n",
            "|  GPU   GI   CI        PID   Type   Process name                              GPU Memory |\n",
            "|        ID   ID                                                               Usage      |\n",
            "|=========================================================================================|\n",
            "|    0   N/A  N/A       803      G   /usr/lib/Xorg                                   4MiB |\n",
            "|    0   N/A  N/A     42855      C   ...e/risb/Desktop/BTP2/venv/bin/python        114MiB |\n",
            "|    0   N/A  N/A     42860      C   ...e/risb/Desktop/BTP2/venv/bin/python        112MiB |\n",
            "|    0   N/A  N/A     42870      C   ...e/risb/Desktop/BTP2/venv/bin/python        112MiB |\n",
            "|    0   N/A  N/A     42872      C   ...e/risb/Desktop/BTP2/venv/bin/python        112MiB |\n",
            "+-----------------------------------------------------------------------------------------+\n"
          ]
        }
      ],
      "source": [
        "! nvidia-smi"
      ]
    },
    {
      "cell_type": "code",
      "execution_count": null,
      "metadata": {},
      "outputs": [
        {
          "name": "stdout",
          "output_type": "stream",
          "text": [
            "Using device: cuda\n"
          ]
        }
      ],
      "source": [
        "import pandas as pd\n",
        "import torch\n",
        "from sklearn.model_selection import train_test_split\n",
        "from torch.utils.data import Dataset, DataLoader\n",
        "from transformers import BertTokenizer, BertForSequenceClassification\n",
        "from transformers import get_scheduler, AutoTokenizer, AutoModelForSequenceClassification\n",
        "from transformers import AutoModel, AutoTokenizer, AutoConfig\n",
        "# from transformers import BertTokenizer, BertForSequenceClassification, get_scheduler\n",
        "from torch.optim import AdamW\n",
        "from sklearn.metrics import classification_report, accuracy_score\n",
        "from tqdm import tqdm\n",
        "import re, pickle\n",
        "\n",
        "# Check GPU\n",
        "device = torch.device(\"cuda\" if torch.cuda.is_available() else \"cpu\")\n",
        "print(\"Using device:\", device)"
      ]
    },
    {
      "cell_type": "code",
      "execution_count": null,
      "metadata": {},
      "outputs": [],
      "source": [
        "import pandas as pd\n",
        "import numpy as np\n",
        "import torch\n",
        "import torch.nn as nn\n",
        "from torch.utils.data import Dataset, DataLoader\n",
        "from transformers import BertTokenizer, BertModel, get_linear_schedule_with_warmup\n",
        "from torch.optim import AdamW\n",
        "from sklearn.model_selection import train_test_split\n",
        "from sklearn.preprocessing import LabelEncoder\n",
        "from sklearn.metrics import accuracy_score, classification_report, confusion_matrix, f1_score\n",
        "import seaborn as sns\n",
        "import matplotlib.pyplot as plt\n",
        "from tqdm import tqdm"
      ]
    },
    {
      "cell_type": "code",
      "execution_count": null,
      "metadata": {},
      "outputs": [],
      "source": [
        "model = BertForSequenceClassification.from_pretrained(\"bert_complaint_classifier\")\n",
        "tokenizer = AutoTokenizer.from_pretrained(\"bert_complaint_classifier\")"
      ]
    },
    {
      "cell_type": "code",
      "execution_count": null,
      "metadata": {},
      "outputs": [
        {
          "data": {
            "text/plain": [
              "BERTBiLSTM(\n",
              "  (bert): BertModel(\n",
              "    (embeddings): BertEmbeddings(\n",
              "      (word_embeddings): Embedding(30522, 768, padding_idx=0)\n",
              "      (position_embeddings): Embedding(512, 768)\n",
              "      (token_type_embeddings): Embedding(2, 768)\n",
              "      (LayerNorm): LayerNorm((768,), eps=1e-12, elementwise_affine=True)\n",
              "      (dropout): Dropout(p=0.1, inplace=False)\n",
              "    )\n",
              "    (encoder): BertEncoder(\n",
              "      (layer): ModuleList(\n",
              "        (0-11): 12 x BertLayer(\n",
              "          (attention): BertAttention(\n",
              "            (self): BertSdpaSelfAttention(\n",
              "              (query): Linear(in_features=768, out_features=768, bias=True)\n",
              "              (key): Linear(in_features=768, out_features=768, bias=True)\n",
              "              (value): Linear(in_features=768, out_features=768, bias=True)\n",
              "              (dropout): Dropout(p=0.1, inplace=False)\n",
              "            )\n",
              "            (output): BertSelfOutput(\n",
              "              (dense): Linear(in_features=768, out_features=768, bias=True)\n",
              "              (LayerNorm): LayerNorm((768,), eps=1e-12, elementwise_affine=True)\n",
              "              (dropout): Dropout(p=0.1, inplace=False)\n",
              "            )\n",
              "          )\n",
              "          (intermediate): BertIntermediate(\n",
              "            (dense): Linear(in_features=768, out_features=3072, bias=True)\n",
              "            (intermediate_act_fn): GELUActivation()\n",
              "          )\n",
              "          (output): BertOutput(\n",
              "            (dense): Linear(in_features=3072, out_features=768, bias=True)\n",
              "            (LayerNorm): LayerNorm((768,), eps=1e-12, elementwise_affine=True)\n",
              "            (dropout): Dropout(p=0.1, inplace=False)\n",
              "          )\n",
              "        )\n",
              "      )\n",
              "    )\n",
              "    (pooler): BertPooler(\n",
              "      (dense): Linear(in_features=768, out_features=768, bias=True)\n",
              "      (activation): Tanh()\n",
              "    )\n",
              "  )\n",
              "  (lstm): LSTM(768, 128, num_layers=2, batch_first=True, bidirectional=True)\n",
              "  (dropout): Dropout(p=0.3, inplace=False)\n",
              "  (fc): Linear(in_features=256, out_features=2, bias=True)\n",
              ")"
            ]
          },
          "metadata": {},
          "output_type": "display_data"
        }
      ],
      "source": [
        "model.to(device)"
      ]
    },
    {
      "cell_type": "code",
      "execution_count": null,
      "metadata": {},
      "outputs": [
        {
          "name": "stdout",
          "output_type": "stream",
          "text": [
            "['my oldagd mother trvlng wht 2 child . in magadheprss from pnbe to ndls . . out of communication last 10 hours . please hlp', 'kindly conduct routine ticket checking passenger train between saharanpur to delhi . via meerut . lost of people without ticket', 'sir ples allot wdp4 loco of 19027 bandra jamu tawi vivek express . from adi to jat . ples allot .', '. 2 a seats 3,4 , 5,6 . ticket printed as 2 lower berth 2 upper berth on tickets but in 2 air conditioner 5 and 6 are side seats . is that possible ?', 'i was expecting some strict action on overcharging but instead received a mail stating counseling will be done for them .', 'trying to book a tatkal ticket from last 3 day but daily same problem exist . please do some needful', 'sir condition of railway colony bareilly junction . for past 5 days . please help', 'kinly help with irctc refund doing follow up with irctc since 2 4th may .', 'need some help in teain number 12192 as our bag was stolen and no police is available to file a complaint', 'ajmer express some people sleeping in local coash senior cit', 'trno12807 - - for durg to bpl - births allotted su to srctzn - can you allot lower births ?', 'train number 12673 coach b5 3 a seat 3 0 upper berth rats , no cleaning , no blanket . 😞', 'train no 04418 which departed yesterday has sanitary and hygiene issues . water leakage and not clean .', \"i'am trvlng from adi 2 bct by duranto express . a / c z not working in b1 . evn aftr complaining abt ths twce nbdy seems 2 tke it srsly .\", 'enjoyed awesum jurny from mfp to aljn and paid 3800 for 3 air conditioner instead of 1300 . incredible indian railway and prabhu g', 'whole coach b1 is suffering in train number 18510 which just left hyderabad . please take some action immediately !', 'need mdical emergency . having blood vomits', 'the cleanliness feedback overphone is appreciated . but feedback for which station is not clearly mentioned . 1 / 2', 'climbing high , steep railway over bridges is torturous and time consuming . how long passengers are to bear ?', \"train number 12308 jodhpur to hawrah coming on platform number 1that'is why station master can runover by trainso risk allowance given to sm\", '2 hours journey completed in 6 hours excluding waiting time 3 - 5 hours . you should take responsibility mostly trains late 5 t', 'train 12554 , doj 10 / 6 / 1 6 in frst general coach2and part people are fighting and in another only few people are there , why', 'give new train from bihar', 'train is with no pantry and they were unable to find milk in ald could you please help next stop is satna', 'ladies are at home . male membrs from there family waits in the queue in there name . why so ? bhubaneswar', 'sir , i think by using irctc railway making fool to passengerat the time of booking they are giving option for food but .', 'you let me in trouble my train got cancelled without any information . my journey is stuck in between', ', availability is less and requirement is high , but food vendor is not provoded proper response . every item 5,10 rupees extra', 'please look into this . its a case of rampant corruption', 'traveling with wife and 2 kids , can you help with berth allotment . booked tickets', 'trvlng in upasana express fm ddn 2 hwh , never seen such dirty train . toilet stinking and water continus falng fm tap . dustbn ovrflwn', 'sir i am coming from cmc vellore , i am not feeling well , please stop the train number 13352 on chennai station for 30 min , if posible', 'please help one poor villager is no more just , hirakud station sambalpur divi .', 'i want to know why the waiting list ticket can not be cancelled at the same time of departure of the train ?', 'actions on this ! earlier people have injured because of this ( 3 )', 'dear sir request 2 lower births for meenaben and jamnaben traveling on abad - pune duronto on 1st jul ( - )', 'sir , almost 20 days after i booked a ticket through irctc , still have not got the refund . irctc asks me cont .', 'why train number 12183 is made unnecessarily delay', 'luggage booked on <date> prr no not received', 'it has become a common practice by vendors at all railway stations to charge 5 rupees more .', 'i am traveling :, water bottle provided is very hot and nondrinkable kindly help . feeling thristy .', 'stop wasting money on atvm . no one uses it except in mumbai', 'there has been no improvements on food quality over the time and it looks forced to buy that food', 'did not receive refund for failed and canceled tickets on 2 2 and may . transaction ids are and', 'train number : 12017 . : . reserved 2 tickets , 1 waiting . if only chair seats , then why allow waiting in shatabdi trains .', ', travelling in train number 15656 , s4 coach , no water in toilets since morning . please help . train has reached shamstipur junction .', ': awaiting refund for from 7 month . please help .', 'thank you sir for sending your representative but he can not do anything . please charge more but provide good food .', 'will not be refunded ? please provide justification for deducted amount .', 'on board entertain system in bad shape , same adds repeated every 5 . mins . good work in other sectors nullified here .', 'its a shame dat despite of instructions from gm , patna rail administration is idle in cleaning this mesh', 'train 13005 rescheduled 21:05 but still not depart . its sad . already 2 hours late . howrah', 'was at lko charbagh station ystrdy . lack of sufficient sitting arrangements and platform was vry dirty .', 'poster in train . good intiative to protect children who might be runaway / kidnapped .', 'please call me i have serious complaint', 'no water in coaches like s8 , 7 : middle berth .', 'air conditioner not working in my 2 air conditioner coach since morning . all passengers sweating .', 'station no announcement for garib nawaj express and enquiry does not know on which plform and no board also .', \"what'is the point of paying dynamic prices when you can not run a train on time suvidha exp\", 'railminindia dear sir train number 15622 from chapra to new bongaigaon still showing waiting list i', 'the western railways in mumbai are delayed by 2 0 min and is halting between stations for long intervals due to 2 0 min rains ? ?', 'an aged lady has been alloted upper berth in 22911 . . kindly see if any modifications possible .', 'i am from kolkata but stuck in patna with my kids . not able to book tickets from tatkal quota even', 'train number 19569 b2 coach dustbin situation', 'train 17302 coach s2 suffering from bad smell coming out through toilet , wil be reaching dawangere next . please help', 'water not available in train number 2 2 9 4 4 coach s10', 'please standardize staircase , escalators and lifts , are ramps for passenger friendliness in major stations smart station', 'please extend trichy nellai express train to nagercoil and maveli express to cape in <date> revised timetable', 'no security for passengers on tarin theft - chennai bilaspur express - 7 june fir filed lost valuable', ':, train : 04416 . b2 - 38 . charger point is not working . please get it fixed .', 'if a person buys ticket online and if its not confirmed then why that ticket is not a we', 'attention . pune station stinks . also , bogie numbering is incorrect . c1 bogie ld indicator .', 'hon home minister and hon mosr inaugurated integratedsecuritysystem and wi fi at ljn', ':, train : 09457 , sandesh r nayak + 3 , s3 5,6 , 7,8 . worst toilet maintenance ever seen in any train .', 'kindly start a train in the name of shahid e azam bhagat singh ji . hindustan wants to know when you will be launching', \"i'am in 12836 a1 / 3 with my child in one birth reserved please provide nonturnup seat on priority as i have heart disease and require rest\", '- i was lkng for lwr birth , but not alwd , wn brded lwr birth was empty , i trvld on lwr birth , why this happens', 'dearsir , mymom is & get ; 60 years and my law she is 46 but i have cnfrm ticket from yuva upper berth for bth f . please help forub to lower berth', 'vendor simply overcharging for ? ? . charging 20 rupees instead of 1 5 rupees printed retail price .', 'dadar - bikaner express ( 12490 ) running 1:30 hours late , worst travel experience in life . and we are dreaming about fast bullet train', 'my mther suffering from cancer stge 4 , have to go tmh mumbai . please hlp me to get cnfrm brth , tn12138', 'i booked tickets from irctc mobile app the tickets are not booked but the payment is done does we are', 'didnt expect such a service from rajdhani after travelling sampoorna kranti where service was fantastic .', '- this guy at raipur station ( cg ) denied to give me ticket and also told other staffs to not give me ticket', ': . window is damaged and not opening . 3 6 hour journey with window be great', 'tip business in ddn ndls shatabdi , they ask each and evry1 .', 'tdr with id for ticket with was filed as the train was cancelled . no refund yet', 'very dirty toilet in coach b5 of 12509 express . please please please do something . . divyanshu mob .', 'the swaach bharat abhiyaan cess goes whr wth such service inside rajdhani express', 'standard meals charging rupees 100 in 12194 train . my', 'so much bad behaviour from the daily passenger . this is becoming the matter of everyday . burdwan to howrah super 8:35 . please help', \"group of people ( with help of police ) capture first part of general bogie of today'is train 12554 , can you do something\", 'berth env is quite unhygenic , insects wandering here and there', 'i am unable to get tickets online since three months for varanasi to pune .', 'cleanliness across all stations of from coimbatore tiruppur erode salem jolarpet witnessed . happy . but speed ?', '12512 , vendor is asking more price than actual price list , chappati , egg rice everything high price . looting people money', 'sir . i am trying to make tickets from new delhi to darbhanga ( bihar ) from last week not getting confirm . please help', 'why sir railway is not investing one time to make double track between lucknow to sitapur after 10 years it will be needed', 'booked ticket 90 days early in train num 12166 . i coudnt get confirm . please sir help me my seat num is s6 / 39', 'train 12401 re - scheduled to depart at 18:15 , i kept waiting and it departed at 19:25 . pathetic operations in dnr division , ecr', '( 3 / n ) and i am clueless at the moment . as per unofficial statements the parcel is yet lying unattended as i', 'cant justify this station approval ? the distance is only 2 kms ! this place is reserved 4 mentalhospit', 'sir my train ticket is not comform from abu road to mumbai , my mother is sick , please help sirpnr no doj <date>', 'dear sir , you are really prabhu of indian railway . your will be known as father of digital railway 🚄', 'looittt of confusion . we finally got our seat ! . please dont name the coatches with confusing names . its a big rush .', 'chaos in s5 15909 gkp . people w / o tickets have occupied reserved seats .', 'dear sir kisan express 14519 regularly late arrived at hisar , complaint or tweeted so many', 'when we are talking about a ultra modern facilities at indian railways , but the ground realities are as bad as before .', '. open corruption is being done by pantry car people in train number 12562 swatantrata senani express .', 'train diverted from its actual route , no knowlwdge of where the fuck are we being taken . track us', 'train 12951 coach b1 . people are consuming alcohol and harassing others . please help .', 'illegal political banners at kandivali railparking . lodge fir .', 'please update the status of today 12141 ltt ppta express departure from ltt .', 'old parents and handicapped sister got 2 upper berth and 1 middle berth . please help . at least 1 lower berth is required . these are in accessible for them', ', cleaning of coach . nothing happened even jhansi has crossed . train number 12643 , coach a1', 'replace the boggie at the latest', 'air conditioner and fans are not working in lucknow mail . we are facing much difficulties . ?', ', train number 12141 , train just started few hours back , toilet dirty , no light in 1 toilet , no water', 'in ltt dbg suvidha train 05514 not working fan in s1 locomotive . side fan', \". i've been trying for tatkal from ndls to jsme in 12304 since last 7 days but either server gets unavailable or finish\", 'kindly add water bottle in e catering menu . while i order a food of rupees40 face problem coz min order amnt is 60 .', 'sir ladnun station 2 and platform work halt since last 7 days aen degana didnot take call', 'moreover even if you pay for 18 hours , on the reciept they mention just 6 hours amount', 'sir while making reservations we fill form and all details in it . why not put an aadhar no related registration', 'railway is making mockery of its passengers through so called suvidha express , unnecessarily running late , for what ( 1 / 2 )', 'no water in b1 , b2 , b3 , b4 coaches in train number 12550 .', 'please . help', 'pregnant lady needs the help of some lady doctor immediately , her', \"sir i'am unable to cancel ticket , : . boarding station is ndls and chart hasn't been prepared .\", 'gajraula junction gjl up needs day time express trains from gajraula to delhi', '54011stuck between bijwasan and ggn . regular late running train .', 'but why should i take the chocolate in the first place . i need my change .', 'need medical assistance for a child travelling in train number 15097 , coach no - b2 , contact no -', 'wrkout something tht cn hlp trains to run on right time . malwa express delayed more than 3 hours at mathura junction', 'unless you fine people who make mess / dirt in railways like the - metro clean railways is a dream .', 'air conditioner not working in prayag lucknow intercity today which departed from prayag at 3.45 pm . staff not helping us', 'please help . it is really suffocating', 'train number 12344 . coach b3 . bribe accepted by ticket collector for allotting seat nos . 12,18 and 20 . reserved ticket not allotted seats', 'this is just to bring into yur notice that because of agents we are not able to book tatkal ticket from ranchi post office .', 'charging 5 rupees etc per water bottle and behaving badly .', 'provide 1 min stoppage for karnataka sampark kranthi at have ri', \"i'am sending you my irctc message that i received after booking ticket . hoping that you might take some action in this matter\", 'the whole berth area shatterd with the peels of various organics , need immediate cleanup', 'urgent need of more trains 4 sealdah passngers from khardah station ( e . sealdah main sxn ) b2in 9:20 - 9:50 in the morng .', '14224 s1 budhpurnima express worst train ever . please . remove unauthorized pasngrs', 'i booked tdr on <date> against ticket and i had not got any response till today .', 'sir we are very confused due to the ab2 coach in south bihar express please help us :', 'train number 14649 . s7 - 47 coach does not have lights . coach overcrowded . . please do smething . mo .', 'sir paid 500 by staff for no platform ticket when asked reciept and name he was threatened to pay 1000', 'trains are running late daily in the route bbs - tig . please sort it out immediately sir .', 'sir , irctc site is completely down since 11 at the time of tatkal . disappointed .', \"snacks served in shatabdi from ahmedabad to mumbai not fresh . it'is smelling .\", 'old person emgency health need to travel delhi from sv no room premium tatakal sleeper 3000 with attent cn you jusfy', 'no water in train number 18104 after running of 5 hours .', 'sir please help in train number 54077 as s2 boggie is not even attached . my frnd is travling wd family facing prblm .', 'need wheel chair urgently for my father', 'i tried to cancel my i ticket before chart preparation . but due to login problem i was unable to do so is -', 'respected sir , please look into the matter of tatkal booking as middleman are eating away the tickets in abundance .', 'no one responding on phone call at enquiry in jamalpur station . please consider my complaint because', 'ntes national train enquiry system is not updating mumbai localtrain running info properly', 'please help . ladies line preoccupied by men . there ladies to join only at 8 . wihle we come at 5 only to stand back . bbsr', 'rules of british india still exist in railway . lost section engineer job and junior engineer job because of medical standards .', \"i'am travelling in 64563 at present , no security man here and gents are travelling in ladies coach . train is abt 2 reach morinda\", 'ajmer express some people sleeping in local coa', 'ntes showing 12393 arrived at 8:05 at ndls . train not arrived till 8:40 proof attchd', 'after 6 months of runnin train theft , i am still in pain', '12204 magadh express , dirty , leaking and stinky toilet of coach b1 . my 276437435 .', 'the train 63142 has stopped due to engine breakdown since last 2 hours . creating long ag', \"mumbai harbour never mentions whether train is 9 coach or 1 2 coach . what'is use of starting 12 coach trains ? ( 1 / 2 )\", 'jhansi group denied hlp . he is waiting for connecting train at jhansi . please look into it . help him', 'travelling in 09456 from gandhidham to surat . there is no water in b1 , paying more thn normal fare . how it is special train ?', 'please help travelling with family and 4 seat are stillin waiting list njp to dlipls help please help', '1st stop ho quota of 35 seats you offer in', 'no coach location sign boards on ludhiana junction . it is very hard to run for it when not aware . ldh junction is a busy station .', 'we booked ticket of bbs duranto from cnb to bbs for <date> with 1 cnfrm and 4 waiting seats no food is provided nor refund', 'no water supply in basins for the hast 7 hours , contacted ticket collector but all in vain', '12310 dn rajdhani ex ( b8 , 19 and 23 ) along with infant child who is suffering from fever . please help .', 'cannot connect wifi at chennai central and vendors selling at more prices than displayed on platform number 2 .', 'medical issue need air conditioner coach atleast to sbp if anyth possible please help train 18005 ready to born any extra cost .', 'window glass are not at all visible , please get this clean urgently , :, train : 18030 , doj : <date> , 2 a , pku - ltt , dep : 16:35', 'traveling in train number 12878 coach g16 , dirty bathroom and also no water in coach please help', 'vendor simply overcharging for ? ? . charging 20 rupees instead of 1 5 rupees printed retail price .', 'it was extremely difficult boarding the train and getting our seats from the unreserve', \"refunds for'is , , , pending since 3 0 th may 2016 . please hlp\", 'my mom 73 a cancer patient lost her tatahospital smart card in train ( cont )', 'no one can sit anywhere , as there is water from every where inside compartment .', ': train number : 12623 . sleeper coaches restroom stinks . required attention', 'please advised me what to do my railway ticket stolen for tomorrow journey . how can i travel . i got them from window of jaipur sta', 'the train 63142 has stopped due to engine breakdown since last 2 hours . creating long ag', 'alike mumbai , please introduce air conditioned coaches in kolkata suburban trains also .', 'there is no one on duty at enquiry office window karnal kun .', 'suvidha delhi barauni express train no - 0 4 4 1 6 no water in toilets , dirty toilet . please helppnr :', 'we are follow to \" pm idea stop corruption \" . thanks to ministry of railway for stoping tatkal ticket corruption . thanks', 'sir , at 11.01 showing 132 seats avalble , when buked within 1 minute got wl48 , 49 , . serious problm .', '+ - please hlp my sis travlng vid 9 months baby + 2 kids intrain12479 , lost her reticule - she is depressd - -', 'travelling from bpl to cwa due to urgent reasons , had 1 confirmed 3 - tier air conditioner ticket .', 'in sabarmati ( 19168 ) coach a1there is no proper cooling . we are facing problem since early morning . please do some necessary', 'train cleaners onboard 11086 goa - mumbai double decker just emptied waste bags from running train near vikhroli in mumbai', 'sir its been a long time to published ( in 03 / 15 ) panel of cen <date> of rrb guwahati . but yt medical is not taken', \"i'am a passenger in aleppey - chennai superfast train . hoping to catch at least last bus . :( indian railway delay\", 'i booked ticket in whch mistkenly my aunt and mothers gender remains male will you tell me how i chnge tht in my ticket', 'air conditioner blowing warm air feeling to die in this closed compartment', 'rural people around bangalore travel 6 0 km in 1 hour , where bangalore people can not cross single signal', 'i am travelling by 14512 nauchandi express , the train is already late by 3 hours causing great inconvinience .', 'train 12015 . how does irctc serve pathetic veg cutlet full of breadcrumbs in and out . no taste at all', 'sir my train ticket is not comform from abu road to mumbai , my mother is sick , please help sir . doj <date>', 'please see the status of this train . starts late from destination', 'in train18234 coach s5 seat number 6 fan not working . please help', 'sir today i have gone to palam ticket counter and ask for 3 ticket on different date they told me 1 ticket is issued for one', 'sir please help to get handicap id card for online ticket booking on irctc . officials at cstm station not helping !', 'irctc site does not show the side middle berth optn for puri - ypr garib rath and in ticket it shows as side lower', 'an additional compartment should be added in jammu route for army personal in all trains', 'middle birth fall on me while sleeping on lower birth due 2 technical fault in middle birth .', 'the changed , passenger centric face of railways is vis', 'train number 12673 coach b5 3 a seat 3 0 upper berth rats , no cleaning , no blanket . ð \\x9f \\x98 \\x9e', 'respected sir please clean this coach in train number 19327', \"tdr filed on jan14 but didn't get refund yet slill showing under process\", 'ji need help forgot cell phone on seat b2 , 35 at vzm station . alt no . . train at vskp', 'dear sir train number 15622 from chapra to new bongaigaon still showing waiting list i', 'you say service has got prompt . sample this , filed tdr on 1 3th <date> , yet to get refund', 'himachal need railway carriage transportation system for industrial units in blp and solan distt', 'my wife and 4 year boby are travelling from ngp to pune by train number : 675-6080266 . concern about their safety .', 'rajdhani 12958 left ndls <date> b3 - passengers at the mercy of rogue linen housekeeping staff on <date>', 'maveli express is always late by 30 to 60 minutes and ernakulam , this is being noted for an year .', 'indian railways should upgrade the system , error , kindly note minister sir', 'ultimate speed coming of free wifi provided by google at lucknow railway station . thanks all . ð \\x9f \\x99 \\x8f', 'i tried to buk tickets thru irctc st in tr number 12310 . i am not getting confm ticket , i terminated transaction but my a / c is debited .', '- train number 12423 rajdhani express for sure need drastic improvement . pathetic food , dirty coach , foul smell washrooms .', 'i am having air conditioner with irctc and today i was loged in at 8am , i have seen the within 8.01 am all air conditioner tickets are sold .', '( 2 / n ) parcel was supposed to be loaded on the same day and unloaded next day . till date it is yet to be loaded', 'tryng to buk a ticket since 15 days for my old and ailing grndfather . agents askng 2 k more for a sleeper ticket . what to do ?', 'dirty water flowing ftm blower of local coach aft 1st rain . 8.08thane vashi', 'my rating over coach quality : rank 1 : cr2 : wr3 : nr4 : nwr5 : scr ( sachkhand express rake very poor ) .', 'could you all confirm at what time train will be reaching mumbai ?', 'train number 12849 s10 . there are too many unreserved passenger ( 60 - 70 ) creating nuisance . reservation passenger facing problem .', 'reported issue of water logging in velacheri mets station to drm no response please take action', 'a passenger is suffering with sever ear pain . can he get some medicine please ? :', 'pay and use toilets on narkatiagnj junction pltfrm 2 overchrging for toilet and urinte as rupees 8 , there are no free toilts faclity on statn .', 'unable to sit due to sticky stains on berth . do help immediately .', \"i ordered food through irctc catering from cumshum vendor to look station , i didn't got food till now , hving kid\", 'to be patient and puts the blame on the payment gateway . how much more am i supposed to wait sir ?', 'sri suresh prabhu have suggestion to add lifts on platforms at no cost to the railways . request email address to send details', 'between 6pm to 9pm night i . e trains are there btween evry 2 5 mins it will be great if the frequency is increased', 'i am a mother travelling with a 6 month kid is given an upper berth instead of providing the details of baby .', 'i ask city police constable allowed without ticket and without authority in any coach in train', 'travelling to surat to kanpurtrain no 02534 very bed condition of washbasin no water please take step', 'found a bag with no owner , police not taking any action', 'kindly look this matter into necessary action ncr - 1536', 'eatables are sold at railway platforms at much higher cost than retail price e . g . , water bottle retail price rupees . 15 but sold at rupees . 20 . please contrl', 'sir ji what corrective action taken for long queue at reservation counter and dull booking staff . very disappointing .', 'my is train number 12983 . very bad experience with badding . just wrapped in paper not even washed .', 'hello sir , i am traveling in 18233 , there are many water bottle seller , but everyone asks for 20 / -', 'incorrect tdr claim prcsd . request have a look tdr no . , train 3 + hour late', 'i am facing trouble to name change of my fathers ticket to my name as per rule in ncb and cob', 'jagraon railway overbridge ludhiana is and emergency state , your persnl attention needed to avoid major mishap', 's2 and s4 toilet choked up 11093staaled at cheeoki for past 1 hour', 'air conditioner 2 coach stinking like a loo in jaipur udaipur 19665', 'my user id raj4rv i tried booking 3 time now , payment has been deducted but its not booked', 'you have 2 ans sir . why irctc fails ? it makes me frustrating now . how could i go 6 hour journey with general ticket .', 'sad reality of your railwy sir , we can afford water and live wtht wifi please sir fix basics', 'jai hind sirpercel railway offices must all be online for it would be easier to send your bags to the passenger .', 'i am being denied accmdtn saying dat this are only for incoming passengers . please help sir as i am a lady passenger .', 'can not we increase security check in railway stations just like metro stations . feeling safe is best comfort .', 'sir i have lost my laptop bag in nzm indb ( 12416 ) on 1 1 jan15 . and fir number 29 / 15 , till time nothing has been done .', 'need medical assistance in train number 12554 is feeling stomach pain', ', , even at gwalior no action for cleaning the a1 coach of train number 12643 .', 'irctc is a shit . failed booking tickets many times and no refund of money', 'train 12584 is late from anvt . no announcement and no info to passengers . 139 is not able to answer about it', '- , train 12394 can you give rate list for veg food for this train , they are charging 100 rupees for that', 'ratlam inquire office given me a wrong information i suffered a lot due to that . please take a strict action .', 'water being wasted at ltt ( mumbai ) . no action taken by the station master .', 'cleanliness guidelines should be set for all passengers and should be ascertained that they are strictly followed', '12142 please enquiry pantry carmineral water neer not salecoming station santasale water other local company', 'when i asked catering team why are you selling in higher prices they told extra money is given to higher officers', \"not able to contact my brother from yesterday night . he'is travelling in 12780 train . train reached ahmadnagar .\", 'sir do something for old vendors who gave their service for long time and now they were retired forcely and are on hand to mouth', 'train time changed not informed family stuck in mangalore . please add time to sms', 'and trains are not coming on time have been waitin for . more than 4 0 mins today', 'sir there is no light in entire bogie in train no04111 my is', 'travelling by train number 11020 - seat number 39 - b1 - ; 10 year old boy suffering 4am l . motion and fever . please help', 'monsoon in kerala train 12075 is leaking . windows do not shut properly . pathetic plight', \"hvn't you the answer ? when will you stop ticket mafia group ? i think your officials are also involved in it 2 / 3\", 'duranto express12262 . food excessive spicy unable to eat . cockroaches roaming inside . toilet stinking . coach be1 : seat 34,35 , 37 .', 'sir kal online reservations karaya tha pqwl98 waiting hai sir reservation valid to hai na sir', 'my uncle trevelling to train number 15656 coach no - b2 . he found that the toilet of this coach is very dirty . please do something .', 'very bad situation . all unreserved passengers sitting in resrvation coach causing inconvinience to passengers', 'fans is not working in train 12142 coach no s8 berth number 68 . train is arrived at ppta ( patliputra ) station', 'impossible to get tatkal tickets from this reservation centre total scam', 'uts application not working properly . taking wrong birth date . not giving alerts after expired of pass . taking next days date .', 'sir , i have booked a ticket yesterday online from delhi to patna but it was not confirmed and money has also not been refunded', 'status of 12154 is not updated on train since last 2 hours . kindly intervene', 'water scarcity in palamu express 12348 . not a single drop of water in toilet from origin in s4', 'unremoved heavy bedrolls , stinky smell , emergency cleanup required', 'hold up at jaipur due to non acceptance from agra division', 'huge crowd waiting to get tickets for train 16116 in vm station but only 2 counters functioning . please increase no of counters .', '12963 mewar express still not reached at platform to start for udaipur . passengers stranded at ã ± zm station . quick action needed .', 'no one taking responsibility either at ndls or bza . it was supposed to be delivered on 4th . my work is suffering .', 'wonderful food being served in the train . there is no mechanism to dispose of the waste . plastic plates etc .', 'using irctc tatkal service ruined my journey . poor server response . website hang / not open toady for 45 min', 'train 12562 schedule dep . for 20:35 , then 11:00 p . am , then announced 00:35 a . am and now no one knows when ? 1 / 2']\n",
            "[2, 1, 1, 0, 0, 1, 1, 1, 1, 0, 1, 1, 0, 0, 1, 1, 2, 0, 0, 2, 0, 0, 1, 0, 0, 1, 1, 1, 1, 1, 1, 1, 0, 0, 2, 1, 1, 0, 1, 1, 0, 0, 0, 1, 0, 1, 2, 1, 1, 0, 0, 1, 0, 0, 1, 0, 1, 0, 0, 1, 1, 1, 1, 1, 1, 0, 0, 0, 1, 0, 0, 0, 0, 0, 0, 1, 0, 1, 1, 1, 1, 0, 0, 1, 0, 0, 0, 0, 0, 1, 1, 1, 1, 1, 0, 1, 0, 0, 1, 0, 1, 0, 1, 0, 0, 1, 0, 0, 0, 1, 2, 0, 0, 2, 0, 0, 0, 0, 0, 1, 0, 2, 1, 0, 0, 0, 2, 2, 1, 0, 1, 0, 2, 1, 1, 0, 0, 2, 1, 1, 0, 0, 1, 0, 1, 0, 0, 1, 1, 1, 1, 1, 2, 1, 2, 2, 0, 0, 0, 1, 0, 1, 1, 0, 1, 1, 0, 0, 0, 0, 0, 1, 0, 1, 0, 1, 2, 0, 1, 0, 0, 1, 0, 1, 1, 1, 1, 1, 0, 0, 0, 0, 2, 2, 1, 0, 0, 1, 0, 1, 0, 1, 1, 1, 0, 1, 0, 0, 0, 0, 0, 0, 1, 0, 1, 0, 1, 1, 0, 0, 0, 1, 1, 2, 0, 0, 1, 1, 0, 0, 1, 1, 0, 0, 1, 1, 2, 1, 1, 0, 1, 0, 0, 1, 0, 0, 1, 0, 1, 1, 0, 1, 0, 1, 1, 0, 0, 1, 0, 0, 0, 1, 1, 1, 2, 0, 0, 0, 0, 2, 1, 1, 0, 2, 2, 0, 1, 0, 1, 2, 1, 2, 0, 0, 0, 1, 0, 1, 1, 0, 1, 0, 2, 1, 1, 1, 0, 0, 1, 0]\n"
          ]
        }
      ],
      "source": [
        "with open('val_texts.pkl', 'rb') as file:\n",
        "    val_texts = pickle.load(file)\n",
        "print(val_texts)\n",
        "with open('val_labels.pkl', 'rb') as file:\n",
        "    val_labels = pickle.load(file)\n",
        "print(val_labels)"
      ]
    },
    {
      "cell_type": "code",
      "execution_count": null,
      "metadata": {},
      "outputs": [],
      "source": [
        "class TweetDataset(Dataset):\n",
        "    def __init__(self, encodings, labels):\n",
        "        self.encodings = encodings\n",
        "        self.labels = labels\n",
        "\n",
        "    def __getitem__(self, idx):\n",
        "        item = {k: torch.tensor(v[idx]) for k, v in self.encodings.items()}\n",
        "        item[\"labels\"] = torch.tensor(self.labels[idx])\n",
        "        return item\n",
        "\n",
        "    def __len__(self):\n",
        "        return len(self.labels)\n",
        "\n",
        "train_dataset = TweetDataset(train_encodings, train_labels)\n",
        "val_dataset = TweetDataset(val_encodings, val_labels)\n",
        "\n",
        "train_loader = DataLoader(train_dataset, batch_size=32, shuffle=True)\n",
        "val_loader = DataLoader(val_dataset, batch_size=32)"
      ]
    },
    {
      "cell_type": "code",
      "execution_count": null,
      "metadata": {},
      "outputs": [],
      "source": [
        "def evaluate(model, val_loader):\n",
        "    model.eval()\n",
        "    val_preds, val_targets = [], []\n",
        "    \n",
        "    with torch.no_grad():\n",
        "        for batch in val_loader:\n",
        "            input_ids = batch['input_ids'].to(device)\n",
        "            attention_mask = batch['attention_mask'].to(device)\n",
        "            labels = batch['labels'].to(device)\n",
        "            \n",
        "            outputs = model(input_ids, attention_mask)\n",
        "            preds = torch.argmax(outputs, dim=1)\n",
        "            \n",
        "            val_preds.extend(preds.cpu().numpy())\n",
        "            val_targets.extend(labels.cpu().numpy())\n",
        "    \n",
        "    return (val_targets, val_preds)\n",
        "\n",
        "(val_targets, val_preds) = evaluate(model, val_loader)"
      ]
    },
    {
      "cell_type": "code",
      "execution_count": null,
      "metadata": {},
      "outputs": [
        {
          "data": {
            "text/plain": [
              "{-2: 'None',\n",
              " -1: 'Spam/Scam/Garbage',\n",
              " 0: 'Non-Complaint ',\n",
              " 1: 'Delay',\n",
              " 2: 'Hygeine (food, toilets, carriage)',\n",
              " 3: 'Ticket issue (cancellation, refund, seat change)',\n",
              " 4: 'Medical issue',\n",
              " 5: 'Safety issue',\n",
              " 6: 'Travel Experience',\n",
              " 7: 'Feedback / Suggestions (less critical/urgent)'}"
            ]
          },
          "metadata": {},
          "output_type": "display_data"
        }
      ],
      "source": [
        "labels = [\"Non-Complaint\", \"Complaint\"]"
      ]
    },
    {
      "cell_type": "code",
      "execution_count": null,
      "metadata": {},
      "outputs": [
        {
          "name": "stdout",
          "output_type": "stream",
          "text": [
            "\n",
            "Classification Report:\n",
            "              precision    recall  f1-score   support\n",
            "\n",
            "         Low       0.67      0.66      0.67       143\n",
            "    Pressing       0.56      0.64      0.60       130\n",
            "    Critical       0.45      0.19      0.26        27\n",
            "\n",
            "    accuracy                           0.61       300\n",
            "   macro avg       0.56      0.50      0.51       300\n",
            "weighted avg       0.61      0.61      0.60       300\n",
            "\n"
          ]
        }
      ],
      "source": [
        "print(\"\\nClassification Report:\")\n",
        "print(classification_report(val_targets, val_preds, target_names=labels))"
      ]
    },
    {
      "cell_type": "code",
      "execution_count": null,
      "metadata": {},
      "outputs": [
        {
          "data": {
            "image/png": "[encoded data removed]",
            "text/plain": [
              "<Figure size 800x600 with 2 Axes>"
            ]
          },
          "metadata": {},
          "output_type": "display_data"
        }
      ],
      "source": [
        "cm = confusion_matrix(val_targets, val_preds)\n",
        "plt.figure(figsize=(8, 6))\n",
        "sns.heatmap(cm, annot=True, fmt='d', cmap='Blues', xticklabels=labels, yticklabels=labels)\n",
        "plt.xlabel('Predicted')\n",
        "plt.ylabel('True')\n",
        "# plt.title('Confusion Matrix')\n",
        "plt.show()"
      ]
    },
    {
      "cell_type": "code",
      "execution_count": null,
      "metadata": {},
      "outputs": [
        {
          "data": {
            "text/plain": [
              "4307"
            ]
          },
          "metadata": {},
          "output_type": "display_data"
        }
      ],
      "source": [
        "import gc\n",
        "try: model.cpu()\n",
        "except: pass\n",
        "\n",
        "try: del model\n",
        "except: pass\n",
        "\n",
        "try: del optimizer\n",
        "except: pass\n",
        "\n",
        "try: del lr_scheduler\n",
        "except: pass\n",
        "\n",
        "try:\n",
        "    with torch.no_grad():\n",
        "        torch.cuda.empty_cache()\n",
        "except: pass\n",
        "\n",
        "try: del torch\n",
        "except: pass\n",
        "\n",
        "try: del tqdm\n",
        "except: pass\n",
        "\n",
        "try: del Dataset, DataLoader, nn, AdamW\n",
        "except: pass\n",
        "\n",
        "\n",
        "gc.collect()"
      ]
    }
  ],
  "metadata": {
    "accelerator": "GPU",
    "colab": {
      "collapsed_sections": [
        "KZAWZyKdP0jF"
      ],
      "gpuType": "T4",
      "provenance": []
    },
    "kernelspec": {
      "display_name": "venv",
      "language": "python",
      "name": "python3"
    },
    "language_info": {
      "codemirror_mode": {
        "name": "ipython",
        "version": 3
      },
      "file_extension": ".py",
      "mimetype": "text/x-python",
      "name": "python",
      "nbconvert_exporter": "python",
      "pygments_lexer": "ipython3",
      "version": "3.12.9"
    },
    "widgets": {
      "application/vnd.jupyter.widget-state+json": {
        "03ee7797001e40399d6fa4906299892a": {
          "model_module": "@jupyter-widgets/controls",
          "model_module_version": "1.5.0",
          "model_name": "HBoxModel",
          "state": {
            "_dom_classes": [],
            "_model_module": "@jupyter-widgets/controls",
            "_model_module_version": "1.5.0",
            "_model_name": "HBoxModel",
            "_view_count": null,
            "_view_module": "@jupyter-widgets/controls",
            "_view_module_version": "1.5.0",
            "_view_name": "HBoxView",
            "box_style": "",
            "children": [
              "IPY_MODEL_6a0d9f60f204451ab5d87639664c5095",
              "IPY_MODEL_3a955ba733c649078be0bd1514b929bc",
              "IPY_MODEL_1cdc60759ab64d2baf6f6b2806a97f99"
            ],
            "layout": "IPY_MODEL_3818a56ac54d407fbda20064fe5cdc81"
          }
        },
        "0727f554ee1c4a0aa1bcc516bfde4162": {
          "model_module": "@jupyter-widgets/base",
          "model_module_version": "1.2.0",
          "model_name": "LayoutModel",
          "state": {
            "_model_module": "@jupyter-widgets/base",
            "_model_module_version": "1.2.0",
            "_model_name": "LayoutModel",
            "_view_count": null,
            "_view_module": "@jupyter-widgets/base",
            "_view_module_version": "1.2.0",
            "_view_name": "LayoutView",
            "align_content": null,
            "align_items": null,
            "align_self": null,
            "border": null,
            "bottom": null,
            "display": null,
            "flex": null,
            "flex_flow": null,
            "grid_area": null,
            "grid_auto_columns": null,
            "grid_auto_flow": null,
            "grid_auto_rows": null,
            "grid_column": null,
            "grid_gap": null,
            "grid_row": null,
            "grid_template_areas": null,
            "grid_template_columns": null,
            "grid_template_rows": null,
            "height": null,
            "justify_content": null,
            "justify_items": null,
            "left": null,
            "margin": null,
            "max_height": null,
            "max_width": null,
            "min_height": null,
            "min_width": null,
            "object_fit": null,
            "object_position": null,
            "order": null,
            "overflow": null,
            "overflow_x": null,
            "overflow_y": null,
            "padding": null,
            "right": null,
            "top": null,
            "visibility": null,
            "width": null
          }
        },
        "090c44ac03ba49e88c8a07e5c7132152": {
          "model_module": "@jupyter-widgets/controls",
          "model_module_version": "1.5.0",
          "model_name": "HBoxModel",
          "state": {
            "_dom_classes": [],
            "_model_module": "@jupyter-widgets/controls",
            "_model_module_version": "1.5.0",
            "_model_name": "HBoxModel",
            "_view_count": null,
            "_view_module": "@jupyter-widgets/controls",
            "_view_module_version": "1.5.0",
            "_view_name": "HBoxView",
            "box_style": "",
            "children": [
              "IPY_MODEL_3671b7d1585a4da9b44f0c7b3f7fe2c4",
              "IPY_MODEL_debf3f8a08d440738f5fc65ee407b697",
              "IPY_MODEL_4ee46f5a59d94a079a969a486b66ea8a"
            ],
            "layout": "IPY_MODEL_2c4cbb28b2914adaacc9ef75d1522ed8"
          }
        },
        "09bc325b19a14d1bb7cdba849366a382": {
          "model_module": "@jupyter-widgets/controls",
          "model_module_version": "1.5.0",
          "model_name": "HTMLModel",
          "state": {
            "_dom_classes": [],
            "_model_module": "@jupyter-widgets/controls",
            "_model_module_version": "1.5.0",
            "_model_name": "HTMLModel",
            "_view_count": null,
            "_view_module": "@jupyter-widgets/controls",
            "_view_module_version": "1.5.0",
            "_view_name": "HTMLView",
            "description": "",
            "description_tooltip": null,
            "layout": "IPY_MODEL_d2fe0c143a244a8f8679409655f8b0ca",
            "placeholder": "​",
            "style": "IPY_MODEL_bef96cad2d0140da8e4f7396aa67354a",
            "value": "tokenizer.json: 100%"
          }
        },
        "0a0daf34e18945779a552428706f9de0": {
          "model_module": "@jupyter-widgets/base",
          "model_module_version": "1.2.0",
          "model_name": "LayoutModel",
          "state": {
            "_model_module": "@jupyter-widgets/base",
            "_model_module_version": "1.2.0",
            "_model_name": "LayoutModel",
            "_view_count": null,
            "_view_module": "@jupyter-widgets/base",
            "_view_module_version": "1.2.0",
            "_view_name": "LayoutView",
            "align_content": null,
            "align_items": null,
            "align_self": null,
            "border": null,
            "bottom": null,
            "display": null,
            "flex": null,
            "flex_flow": null,
            "grid_area": null,
            "grid_auto_columns": null,
            "grid_auto_flow": null,
            "grid_auto_rows": null,
            "grid_column": null,
            "grid_gap": null,
            "grid_row": null,
            "grid_template_areas": null,
            "grid_template_columns": null,
            "grid_template_rows": null,
            "height": null,
            "justify_content": null,
            "justify_items": null,
            "left": null,
            "margin": null,
            "max_height": null,
            "max_width": null,
            "min_height": null,
            "min_width": null,
            "object_fit": null,
            "object_position": null,
            "order": null,
            "overflow": null,
            "overflow_x": null,
            "overflow_y": null,
            "padding": null,
            "right": null,
            "top": null,
            "visibility": null,
            "width": null
          }
        },
        "0d22dade8c854eeda59d556fb2ee525a": {
          "model_module": "@jupyter-widgets/controls",
          "model_module_version": "1.5.0",
          "model_name": "HTMLModel",
          "state": {
            "_dom_classes": [],
            "_model_module": "@jupyter-widgets/controls",
            "_model_module_version": "1.5.0",
            "_model_name": "HTMLModel",
            "_view_count": null,
            "_view_module": "@jupyter-widgets/controls",
            "_view_module_version": "1.5.0",
            "_view_name": "HTMLView",
            "description": "",
            "description_tooltip": null,
            "layout": "IPY_MODEL_be50e3d68ddb49ca8d040cc17bcc1cde",
            "placeholder": "​",
            "style": "IPY_MODEL_6c0b5b8340e54c72abbb096dfaebfed9",
            "value": "tokenizer_config.json: 100%"
          }
        },
        "0dbe3e31c7fc4cd9bed1adc38bbc9c66": {
          "model_module": "@jupyter-widgets/controls",
          "model_module_version": "1.5.0",
          "model_name": "FloatProgressModel",
          "state": {
            "_dom_classes": [],
            "_model_module": "@jupyter-widgets/controls",
            "_model_module_version": "1.5.0",
            "_model_name": "FloatProgressModel",
            "_view_count": null,
            "_view_module": "@jupyter-widgets/controls",
            "_view_module_version": "1.5.0",
            "_view_name": "ProgressView",
            "bar_style": "success",
            "description": "",
            "description_tooltip": null,
            "layout": "IPY_MODEL_ff680cff7e56481ab5c58abe4022c3e8",
            "max": 466062,
            "min": 0,
            "orientation": "horizontal",
            "style": "IPY_MODEL_4f47f23b6f364318a432a8ac59ec8c22",
            "value": 466062
          }
        },
        "1affd20790d54f7cbdc7f42487b222f3": {
          "model_module": "@jupyter-widgets/controls",
          "model_module_version": "1.5.0",
          "model_name": "DescriptionStyleModel",
          "state": {
            "_model_module": "@jupyter-widgets/controls",
            "_model_module_version": "1.5.0",
            "_model_name": "DescriptionStyleModel",
            "_view_count": null,
            "_view_module": "@jupyter-widgets/base",
            "_view_module_version": "1.2.0",
            "_view_name": "StyleView",
            "description_width": ""
          }
        },
        "1cdc60759ab64d2baf6f6b2806a97f99": {
          "model_module": "@jupyter-widgets/controls",
          "model_module_version": "1.5.0",
          "model_name": "HTMLModel",
          "state": {
            "_dom_classes": [],
            "_model_module": "@jupyter-widgets/controls",
            "_model_module_version": "1.5.0",
            "_model_name": "HTMLModel",
            "_view_count": null,
            "_view_module": "@jupyter-widgets/controls",
            "_view_module_version": "1.5.0",
            "_view_name": "HTMLView",
            "description": "",
            "description_tooltip": null,
            "layout": "IPY_MODEL_9439d8e9313549c580d68ea0bd1dcc97",
            "placeholder": "​",
            "style": "IPY_MODEL_d766ce965a9b43bb9fece3e0f696a51d",
            "value": " 440M/440M [00:02&lt;00:00, 141MB/s]"
          }
        },
        "1d54657cdcc740f2aca55d7065bde12c": {
          "model_module": "@jupyter-widgets/base",
          "model_module_version": "1.2.0",
          "model_name": "LayoutModel",
          "state": {
            "_model_module": "@jupyter-widgets/base",
            "_model_module_version": "1.2.0",
            "_model_name": "LayoutModel",
            "_view_count": null,
            "_view_module": "@jupyter-widgets/base",
            "_view_module_version": "1.2.0",
            "_view_name": "LayoutView",
            "align_content": null,
            "align_items": null,
            "align_self": null,
            "border": null,
            "bottom": null,
            "display": null,
            "flex": null,
            "flex_flow": null,
            "grid_area": null,
            "grid_auto_columns": null,
            "grid_auto_flow": null,
            "grid_auto_rows": null,
            "grid_column": null,
            "grid_gap": null,
            "grid_row": null,
            "grid_template_areas": null,
            "grid_template_columns": null,
            "grid_template_rows": null,
            "height": null,
            "justify_content": null,
            "justify_items": null,
            "left": null,
            "margin": null,
            "max_height": null,
            "max_width": null,
            "min_height": null,
            "min_width": null,
            "object_fit": null,
            "object_position": null,
            "order": null,
            "overflow": null,
            "overflow_x": null,
            "overflow_y": null,
            "padding": null,
            "right": null,
            "top": null,
            "visibility": null,
            "width": null
          }
        },
        "1dcaeb43762b44efa27ac2387a459b64": {
          "model_module": "@jupyter-widgets/base",
          "model_module_version": "1.2.0",
          "model_name": "LayoutModel",
          "state": {
            "_model_module": "@jupyter-widgets/base",
            "_model_module_version": "1.2.0",
            "_model_name": "LayoutModel",
            "_view_count": null,
            "_view_module": "@jupyter-widgets/base",
            "_view_module_version": "1.2.0",
            "_view_name": "LayoutView",
            "align_content": null,
            "align_items": null,
            "align_self": null,
            "border": null,
            "bottom": null,
            "display": null,
            "flex": null,
            "flex_flow": null,
            "grid_area": null,
            "grid_auto_columns": null,
            "grid_auto_flow": null,
            "grid_auto_rows": null,
            "grid_column": null,
            "grid_gap": null,
            "grid_row": null,
            "grid_template_areas": null,
            "grid_template_columns": null,
            "grid_template_rows": null,
            "height": null,
            "justify_content": null,
            "justify_items": null,
            "left": null,
            "margin": null,
            "max_height": null,
            "max_width": null,
            "min_height": null,
            "min_width": null,
            "object_fit": null,
            "object_position": null,
            "order": null,
            "overflow": null,
            "overflow_x": null,
            "overflow_y": null,
            "padding": null,
            "right": null,
            "top": null,
            "visibility": null,
            "width": null
          }
        },
        "28e0a29a22a14a4c80c116e69a3c488a": {
          "model_module": "@jupyter-widgets/controls",
          "model_module_version": "1.5.0",
          "model_name": "ProgressStyleModel",
          "state": {
            "_model_module": "@jupyter-widgets/controls",
            "_model_module_version": "1.5.0",
            "_model_name": "ProgressStyleModel",
            "_view_count": null,
            "_view_module": "@jupyter-widgets/base",
            "_view_module_version": "1.2.0",
            "_view_name": "StyleView",
            "bar_color": null,
            "description_width": ""
          }
        },
        "2919900396f84d8e8da47be347e01174": {
          "model_module": "@jupyter-widgets/controls",
          "model_module_version": "1.5.0",
          "model_name": "DescriptionStyleModel",
          "state": {
            "_model_module": "@jupyter-widgets/controls",
            "_model_module_version": "1.5.0",
            "_model_name": "DescriptionStyleModel",
            "_view_count": null,
            "_view_module": "@jupyter-widgets/base",
            "_view_module_version": "1.2.0",
            "_view_name": "StyleView",
            "description_width": ""
          }
        },
        "2ba8f7ed04924bd0ac8acf70a171f8f6": {
          "model_module": "@jupyter-widgets/base",
          "model_module_version": "1.2.0",
          "model_name": "LayoutModel",
          "state": {
            "_model_module": "@jupyter-widgets/base",
            "_model_module_version": "1.2.0",
            "_model_name": "LayoutModel",
            "_view_count": null,
            "_view_module": "@jupyter-widgets/base",
            "_view_module_version": "1.2.0",
            "_view_name": "LayoutView",
            "align_content": null,
            "align_items": null,
            "align_self": null,
            "border": null,
            "bottom": null,
            "display": null,
            "flex": null,
            "flex_flow": null,
            "grid_area": null,
            "grid_auto_columns": null,
            "grid_auto_flow": null,
            "grid_auto_rows": null,
            "grid_column": null,
            "grid_gap": null,
            "grid_row": null,
            "grid_template_areas": null,
            "grid_template_columns": null,
            "grid_template_rows": null,
            "height": null,
            "justify_content": null,
            "justify_items": null,
            "left": null,
            "margin": null,
            "max_height": null,
            "max_width": null,
            "min_height": null,
            "min_width": null,
            "object_fit": null,
            "object_position": null,
            "order": null,
            "overflow": null,
            "overflow_x": null,
            "overflow_y": null,
            "padding": null,
            "right": null,
            "top": null,
            "visibility": null,
            "width": null
          }
        },
        "2c4cbb28b2914adaacc9ef75d1522ed8": {
          "model_module": "@jupyter-widgets/base",
          "model_module_version": "1.2.0",
          "model_name": "LayoutModel",
          "state": {
            "_model_module": "@jupyter-widgets/base",
            "_model_module_version": "1.2.0",
            "_model_name": "LayoutModel",
            "_view_count": null,
            "_view_module": "@jupyter-widgets/base",
            "_view_module_version": "1.2.0",
            "_view_name": "LayoutView",
            "align_content": null,
            "align_items": null,
            "align_self": null,
            "border": null,
            "bottom": null,
            "display": null,
            "flex": null,
            "flex_flow": null,
            "grid_area": null,
            "grid_auto_columns": null,
            "grid_auto_flow": null,
            "grid_auto_rows": null,
            "grid_column": null,
            "grid_gap": null,
            "grid_row": null,
            "grid_template_areas": null,
            "grid_template_columns": null,
            "grid_template_rows": null,
            "height": null,
            "justify_content": null,
            "justify_items": null,
            "left": null,
            "margin": null,
            "max_height": null,
            "max_width": null,
            "min_height": null,
            "min_width": null,
            "object_fit": null,
            "object_position": null,
            "order": null,
            "overflow": null,
            "overflow_x": null,
            "overflow_y": null,
            "padding": null,
            "right": null,
            "top": null,
            "visibility": null,
            "width": null
          }
        },
        "30bb456793a1499e8b81a2ccafb40c3f": {
          "model_module": "@jupyter-widgets/controls",
          "model_module_version": "1.5.0",
          "model_name": "DescriptionStyleModel",
          "state": {
            "_model_module": "@jupyter-widgets/controls",
            "_model_module_version": "1.5.0",
            "_model_name": "DescriptionStyleModel",
            "_view_count": null,
            "_view_module": "@jupyter-widgets/base",
            "_view_module_version": "1.2.0",
            "_view_name": "StyleView",
            "description_width": ""
          }
        },
        "3671b7d1585a4da9b44f0c7b3f7fe2c4": {
          "model_module": "@jupyter-widgets/controls",
          "model_module_version": "1.5.0",
          "model_name": "HTMLModel",
          "state": {
            "_dom_classes": [],
            "_model_module": "@jupyter-widgets/controls",
            "_model_module_version": "1.5.0",
            "_model_name": "HTMLModel",
            "_view_count": null,
            "_view_module": "@jupyter-widgets/controls",
            "_view_module_version": "1.5.0",
            "_view_name": "HTMLView",
            "description": "",
            "description_tooltip": null,
            "layout": "IPY_MODEL_79c3134c6ddb4f268f9a643002644874",
            "placeholder": "​",
            "style": "IPY_MODEL_30bb456793a1499e8b81a2ccafb40c3f",
            "value": "vocab.txt: 100%"
          }
        },
        "3818a56ac54d407fbda20064fe5cdc81": {
          "model_module": "@jupyter-widgets/base",
          "model_module_version": "1.2.0",
          "model_name": "LayoutModel",
          "state": {
            "_model_module": "@jupyter-widgets/base",
            "_model_module_version": "1.2.0",
            "_model_name": "LayoutModel",
            "_view_count": null,
            "_view_module": "@jupyter-widgets/base",
            "_view_module_version": "1.2.0",
            "_view_name": "LayoutView",
            "align_content": null,
            "align_items": null,
            "align_self": null,
            "border": null,
            "bottom": null,
            "display": null,
            "flex": null,
            "flex_flow": null,
            "grid_area": null,
            "grid_auto_columns": null,
            "grid_auto_flow": null,
            "grid_auto_rows": null,
            "grid_column": null,
            "grid_gap": null,
            "grid_row": null,
            "grid_template_areas": null,
            "grid_template_columns": null,
            "grid_template_rows": null,
            "height": null,
            "justify_content": null,
            "justify_items": null,
            "left": null,
            "margin": null,
            "max_height": null,
            "max_width": null,
            "min_height": null,
            "min_width": null,
            "object_fit": null,
            "object_position": null,
            "order": null,
            "overflow": null,
            "overflow_x": null,
            "overflow_y": null,
            "padding": null,
            "right": null,
            "top": null,
            "visibility": null,
            "width": null
          }
        },
        "3a955ba733c649078be0bd1514b929bc": {
          "model_module": "@jupyter-widgets/controls",
          "model_module_version": "1.5.0",
          "model_name": "FloatProgressModel",
          "state": {
            "_dom_classes": [],
            "_model_module": "@jupyter-widgets/controls",
            "_model_module_version": "1.5.0",
            "_model_name": "FloatProgressModel",
            "_view_count": null,
            "_view_module": "@jupyter-widgets/controls",
            "_view_module_version": "1.5.0",
            "_view_name": "ProgressView",
            "bar_style": "success",
            "description": "",
            "description_tooltip": null,
            "layout": "IPY_MODEL_a49722bd92764a61a367a49bc41ee889",
            "max": 440449768,
            "min": 0,
            "orientation": "horizontal",
            "style": "IPY_MODEL_c5a012fca20f485e9e76777e0b8199c2",
            "value": 440449768
          }
        },
        "44514ee020b843989a79ffc33c08d72a": {
          "model_module": "@jupyter-widgets/controls",
          "model_module_version": "1.5.0",
          "model_name": "HBoxModel",
          "state": {
            "_dom_classes": [],
            "_model_module": "@jupyter-widgets/controls",
            "_model_module_version": "1.5.0",
            "_model_name": "HBoxModel",
            "_view_count": null,
            "_view_module": "@jupyter-widgets/controls",
            "_view_module_version": "1.5.0",
            "_view_name": "HBoxView",
            "box_style": "",
            "children": [
              "IPY_MODEL_09bc325b19a14d1bb7cdba849366a382",
              "IPY_MODEL_0dbe3e31c7fc4cd9bed1adc38bbc9c66",
              "IPY_MODEL_cc0ba8e404314539bf3550e2969c8262"
            ],
            "layout": "IPY_MODEL_b276661282fe4e1996b37a3df6724c01"
          }
        },
        "4a424b275bbb4a08be9ac97345c25ecc": {
          "model_module": "@jupyter-widgets/controls",
          "model_module_version": "1.5.0",
          "model_name": "DescriptionStyleModel",
          "state": {
            "_model_module": "@jupyter-widgets/controls",
            "_model_module_version": "1.5.0",
            "_model_name": "DescriptionStyleModel",
            "_view_count": null,
            "_view_module": "@jupyter-widgets/base",
            "_view_module_version": "1.2.0",
            "_view_name": "StyleView",
            "description_width": ""
          }
        },
        "4d34b261450b4071837c8ad4b2186522": {
          "model_module": "@jupyter-widgets/base",
          "model_module_version": "1.2.0",
          "model_name": "LayoutModel",
          "state": {
            "_model_module": "@jupyter-widgets/base",
            "_model_module_version": "1.2.0",
            "_model_name": "LayoutModel",
            "_view_count": null,
            "_view_module": "@jupyter-widgets/base",
            "_view_module_version": "1.2.0",
            "_view_name": "LayoutView",
            "align_content": null,
            "align_items": null,
            "align_self": null,
            "border": null,
            "bottom": null,
            "display": null,
            "flex": null,
            "flex_flow": null,
            "grid_area": null,
            "grid_auto_columns": null,
            "grid_auto_flow": null,
            "grid_auto_rows": null,
            "grid_column": null,
            "grid_gap": null,
            "grid_row": null,
            "grid_template_areas": null,
            "grid_template_columns": null,
            "grid_template_rows": null,
            "height": null,
            "justify_content": null,
            "justify_items": null,
            "left": null,
            "margin": null,
            "max_height": null,
            "max_width": null,
            "min_height": null,
            "min_width": null,
            "object_fit": null,
            "object_position": null,
            "order": null,
            "overflow": null,
            "overflow_x": null,
            "overflow_y": null,
            "padding": null,
            "right": null,
            "top": null,
            "visibility": null,
            "width": null
          }
        },
        "4ee46f5a59d94a079a969a486b66ea8a": {
          "model_module": "@jupyter-widgets/controls",
          "model_module_version": "1.5.0",
          "model_name": "HTMLModel",
          "state": {
            "_dom_classes": [],
            "_model_module": "@jupyter-widgets/controls",
            "_model_module_version": "1.5.0",
            "_model_name": "HTMLModel",
            "_view_count": null,
            "_view_module": "@jupyter-widgets/controls",
            "_view_module_version": "1.5.0",
            "_view_name": "HTMLView",
            "description": "",
            "description_tooltip": null,
            "layout": "IPY_MODEL_9425356ae1574b87b35283c4233d8aaf",
            "placeholder": "​",
            "style": "IPY_MODEL_2919900396f84d8e8da47be347e01174",
            "value": " 232k/232k [00:00&lt;00:00, 12.4MB/s]"
          }
        },
        "4f47f23b6f364318a432a8ac59ec8c22": {
          "model_module": "@jupyter-widgets/controls",
          "model_module_version": "1.5.0",
          "model_name": "ProgressStyleModel",
          "state": {
            "_model_module": "@jupyter-widgets/controls",
            "_model_module_version": "1.5.0",
            "_model_name": "ProgressStyleModel",
            "_view_count": null,
            "_view_module": "@jupyter-widgets/base",
            "_view_module_version": "1.2.0",
            "_view_name": "StyleView",
            "bar_color": null,
            "description_width": ""
          }
        },
        "5a824b52e3934366b241f7b0ade6c1ec": {
          "model_module": "@jupyter-widgets/base",
          "model_module_version": "1.2.0",
          "model_name": "LayoutModel",
          "state": {
            "_model_module": "@jupyter-widgets/base",
            "_model_module_version": "1.2.0",
            "_model_name": "LayoutModel",
            "_view_count": null,
            "_view_module": "@jupyter-widgets/base",
            "_view_module_version": "1.2.0",
            "_view_name": "LayoutView",
            "align_content": null,
            "align_items": null,
            "align_self": null,
            "border": null,
            "bottom": null,
            "display": null,
            "flex": null,
            "flex_flow": null,
            "grid_area": null,
            "grid_auto_columns": null,
            "grid_auto_flow": null,
            "grid_auto_rows": null,
            "grid_column": null,
            "grid_gap": null,
            "grid_row": null,
            "grid_template_areas": null,
            "grid_template_columns": null,
            "grid_template_rows": null,
            "height": null,
            "justify_content": null,
            "justify_items": null,
            "left": null,
            "margin": null,
            "max_height": null,
            "max_width": null,
            "min_height": null,
            "min_width": null,
            "object_fit": null,
            "object_position": null,
            "order": null,
            "overflow": null,
            "overflow_x": null,
            "overflow_y": null,
            "padding": null,
            "right": null,
            "top": null,
            "visibility": null,
            "width": null
          }
        },
        "662656de552c452f9d7c0cef3d57db1a": {
          "model_module": "@jupyter-widgets/controls",
          "model_module_version": "1.5.0",
          "model_name": "DescriptionStyleModel",
          "state": {
            "_model_module": "@jupyter-widgets/controls",
            "_model_module_version": "1.5.0",
            "_model_name": "DescriptionStyleModel",
            "_view_count": null,
            "_view_module": "@jupyter-widgets/base",
            "_view_module_version": "1.2.0",
            "_view_name": "StyleView",
            "description_width": ""
          }
        },
        "693e87a67f344289848ab91f6d1016da": {
          "model_module": "@jupyter-widgets/base",
          "model_module_version": "1.2.0",
          "model_name": "LayoutModel",
          "state": {
            "_model_module": "@jupyter-widgets/base",
            "_model_module_version": "1.2.0",
            "_model_name": "LayoutModel",
            "_view_count": null,
            "_view_module": "@jupyter-widgets/base",
            "_view_module_version": "1.2.0",
            "_view_name": "LayoutView",
            "align_content": null,
            "align_items": null,
            "align_self": null,
            "border": null,
            "bottom": null,
            "display": null,
            "flex": null,
            "flex_flow": null,
            "grid_area": null,
            "grid_auto_columns": null,
            "grid_auto_flow": null,
            "grid_auto_rows": null,
            "grid_column": null,
            "grid_gap": null,
            "grid_row": null,
            "grid_template_areas": null,
            "grid_template_columns": null,
            "grid_template_rows": null,
            "height": null,
            "justify_content": null,
            "justify_items": null,
            "left": null,
            "margin": null,
            "max_height": null,
            "max_width": null,
            "min_height": null,
            "min_width": null,
            "object_fit": null,
            "object_position": null,
            "order": null,
            "overflow": null,
            "overflow_x": null,
            "overflow_y": null,
            "padding": null,
            "right": null,
            "top": null,
            "visibility": null,
            "width": null
          }
        },
        "6a0d9f60f204451ab5d87639664c5095": {
          "model_module": "@jupyter-widgets/controls",
          "model_module_version": "1.5.0",
          "model_name": "HTMLModel",
          "state": {
            "_dom_classes": [],
            "_model_module": "@jupyter-widgets/controls",
            "_model_module_version": "1.5.0",
            "_model_name": "HTMLModel",
            "_view_count": null,
            "_view_module": "@jupyter-widgets/controls",
            "_view_module_version": "1.5.0",
            "_view_name": "HTMLView",
            "description": "",
            "description_tooltip": null,
            "layout": "IPY_MODEL_2ba8f7ed04924bd0ac8acf70a171f8f6",
            "placeholder": "​",
            "style": "IPY_MODEL_f9af8dd81d814619ac2bef604c525b37",
            "value": "model.safetensors: 100%"
          }
        },
        "6c0b5b8340e54c72abbb096dfaebfed9": {
          "model_module": "@jupyter-widgets/controls",
          "model_module_version": "1.5.0",
          "model_name": "DescriptionStyleModel",
          "state": {
            "_model_module": "@jupyter-widgets/controls",
            "_model_module_version": "1.5.0",
            "_model_name": "DescriptionStyleModel",
            "_view_count": null,
            "_view_module": "@jupyter-widgets/base",
            "_view_module_version": "1.2.0",
            "_view_name": "StyleView",
            "description_width": ""
          }
        },
        "752b1f91e0b14c61b1beec841a9607af": {
          "model_module": "@jupyter-widgets/controls",
          "model_module_version": "1.5.0",
          "model_name": "FloatProgressModel",
          "state": {
            "_dom_classes": [],
            "_model_module": "@jupyter-widgets/controls",
            "_model_module_version": "1.5.0",
            "_model_name": "FloatProgressModel",
            "_view_count": null,
            "_view_module": "@jupyter-widgets/controls",
            "_view_module_version": "1.5.0",
            "_view_name": "ProgressView",
            "bar_style": "success",
            "description": "",
            "description_tooltip": null,
            "layout": "IPY_MODEL_1d54657cdcc740f2aca55d7065bde12c",
            "max": 48,
            "min": 0,
            "orientation": "horizontal",
            "style": "IPY_MODEL_ea092808b28349a6977d2008b28cb94a",
            "value": 48
          }
        },
        "79c3134c6ddb4f268f9a643002644874": {
          "model_module": "@jupyter-widgets/base",
          "model_module_version": "1.2.0",
          "model_name": "LayoutModel",
          "state": {
            "_model_module": "@jupyter-widgets/base",
            "_model_module_version": "1.2.0",
            "_model_name": "LayoutModel",
            "_view_count": null,
            "_view_module": "@jupyter-widgets/base",
            "_view_module_version": "1.2.0",
            "_view_name": "LayoutView",
            "align_content": null,
            "align_items": null,
            "align_self": null,
            "border": null,
            "bottom": null,
            "display": null,
            "flex": null,
            "flex_flow": null,
            "grid_area": null,
            "grid_auto_columns": null,
            "grid_auto_flow": null,
            "grid_auto_rows": null,
            "grid_column": null,
            "grid_gap": null,
            "grid_row": null,
            "grid_template_areas": null,
            "grid_template_columns": null,
            "grid_template_rows": null,
            "height": null,
            "justify_content": null,
            "justify_items": null,
            "left": null,
            "margin": null,
            "max_height": null,
            "max_width": null,
            "min_height": null,
            "min_width": null,
            "object_fit": null,
            "object_position": null,
            "order": null,
            "overflow": null,
            "overflow_x": null,
            "overflow_y": null,
            "padding": null,
            "right": null,
            "top": null,
            "visibility": null,
            "width": null
          }
        },
        "8e5222ba5d07484a9e70f780979c8e44": {
          "model_module": "@jupyter-widgets/controls",
          "model_module_version": "1.5.0",
          "model_name": "HBoxModel",
          "state": {
            "_dom_classes": [],
            "_model_module": "@jupyter-widgets/controls",
            "_model_module_version": "1.5.0",
            "_model_name": "HBoxModel",
            "_view_count": null,
            "_view_module": "@jupyter-widgets/controls",
            "_view_module_version": "1.5.0",
            "_view_name": "HBoxView",
            "box_style": "",
            "children": [
              "IPY_MODEL_a4aa5b1c9a3b46308e0734226b73683a",
              "IPY_MODEL_b6884982140a45e99b654c7f403332db",
              "IPY_MODEL_bed82f1b503b4eea8eba6d8c52cdad19"
            ],
            "layout": "IPY_MODEL_4d34b261450b4071837c8ad4b2186522"
          }
        },
        "91554d6f2b7a423a967f136390d1a3cf": {
          "model_module": "@jupyter-widgets/controls",
          "model_module_version": "1.5.0",
          "model_name": "DescriptionStyleModel",
          "state": {
            "_model_module": "@jupyter-widgets/controls",
            "_model_module_version": "1.5.0",
            "_model_name": "DescriptionStyleModel",
            "_view_count": null,
            "_view_module": "@jupyter-widgets/base",
            "_view_module_version": "1.2.0",
            "_view_name": "StyleView",
            "description_width": ""
          }
        },
        "9425356ae1574b87b35283c4233d8aaf": {
          "model_module": "@jupyter-widgets/base",
          "model_module_version": "1.2.0",
          "model_name": "LayoutModel",
          "state": {
            "_model_module": "@jupyter-widgets/base",
            "_model_module_version": "1.2.0",
            "_model_name": "LayoutModel",
            "_view_count": null,
            "_view_module": "@jupyter-widgets/base",
            "_view_module_version": "1.2.0",
            "_view_name": "LayoutView",
            "align_content": null,
            "align_items": null,
            "align_self": null,
            "border": null,
            "bottom": null,
            "display": null,
            "flex": null,
            "flex_flow": null,
            "grid_area": null,
            "grid_auto_columns": null,
            "grid_auto_flow": null,
            "grid_auto_rows": null,
            "grid_column": null,
            "grid_gap": null,
            "grid_row": null,
            "grid_template_areas": null,
            "grid_template_columns": null,
            "grid_template_rows": null,
            "height": null,
            "justify_content": null,
            "justify_items": null,
            "left": null,
            "margin": null,
            "max_height": null,
            "max_width": null,
            "min_height": null,
            "min_width": null,
            "object_fit": null,
            "object_position": null,
            "order": null,
            "overflow": null,
            "overflow_x": null,
            "overflow_y": null,
            "padding": null,
            "right": null,
            "top": null,
            "visibility": null,
            "width": null
          }
        },
        "9439d8e9313549c580d68ea0bd1dcc97": {
          "model_module": "@jupyter-widgets/base",
          "model_module_version": "1.2.0",
          "model_name": "LayoutModel",
          "state": {
            "_model_module": "@jupyter-widgets/base",
            "_model_module_version": "1.2.0",
            "_model_name": "LayoutModel",
            "_view_count": null,
            "_view_module": "@jupyter-widgets/base",
            "_view_module_version": "1.2.0",
            "_view_name": "LayoutView",
            "align_content": null,
            "align_items": null,
            "align_self": null,
            "border": null,
            "bottom": null,
            "display": null,
            "flex": null,
            "flex_flow": null,
            "grid_area": null,
            "grid_auto_columns": null,
            "grid_auto_flow": null,
            "grid_auto_rows": null,
            "grid_column": null,
            "grid_gap": null,
            "grid_row": null,
            "grid_template_areas": null,
            "grid_template_columns": null,
            "grid_template_rows": null,
            "height": null,
            "justify_content": null,
            "justify_items": null,
            "left": null,
            "margin": null,
            "max_height": null,
            "max_width": null,
            "min_height": null,
            "min_width": null,
            "object_fit": null,
            "object_position": null,
            "order": null,
            "overflow": null,
            "overflow_x": null,
            "overflow_y": null,
            "padding": null,
            "right": null,
            "top": null,
            "visibility": null,
            "width": null
          }
        },
        "a2360e8508f247b2a84acc25f0b3e373": {
          "model_module": "@jupyter-widgets/controls",
          "model_module_version": "1.5.0",
          "model_name": "HTMLModel",
          "state": {
            "_dom_classes": [],
            "_model_module": "@jupyter-widgets/controls",
            "_model_module_version": "1.5.0",
            "_model_name": "HTMLModel",
            "_view_count": null,
            "_view_module": "@jupyter-widgets/controls",
            "_view_module_version": "1.5.0",
            "_view_name": "HTMLView",
            "description": "",
            "description_tooltip": null,
            "layout": "IPY_MODEL_bc8f51497d044f6e9ca9542bbe2c4951",
            "placeholder": "​",
            "style": "IPY_MODEL_4a424b275bbb4a08be9ac97345c25ecc",
            "value": " 48.0/48.0 [00:00&lt;00:00, 4.73kB/s]"
          }
        },
        "a49722bd92764a61a367a49bc41ee889": {
          "model_module": "@jupyter-widgets/base",
          "model_module_version": "1.2.0",
          "model_name": "LayoutModel",
          "state": {
            "_model_module": "@jupyter-widgets/base",
            "_model_module_version": "1.2.0",
            "_model_name": "LayoutModel",
            "_view_count": null,
            "_view_module": "@jupyter-widgets/base",
            "_view_module_version": "1.2.0",
            "_view_name": "LayoutView",
            "align_content": null,
            "align_items": null,
            "align_self": null,
            "border": null,
            "bottom": null,
            "display": null,
            "flex": null,
            "flex_flow": null,
            "grid_area": null,
            "grid_auto_columns": null,
            "grid_auto_flow": null,
            "grid_auto_rows": null,
            "grid_column": null,
            "grid_gap": null,
            "grid_row": null,
            "grid_template_areas": null,
            "grid_template_columns": null,
            "grid_template_rows": null,
            "height": null,
            "justify_content": null,
            "justify_items": null,
            "left": null,
            "margin": null,
            "max_height": null,
            "max_width": null,
            "min_height": null,
            "min_width": null,
            "object_fit": null,
            "object_position": null,
            "order": null,
            "overflow": null,
            "overflow_x": null,
            "overflow_y": null,
            "padding": null,
            "right": null,
            "top": null,
            "visibility": null,
            "width": null
          }
        },
        "a4aa5b1c9a3b46308e0734226b73683a": {
          "model_module": "@jupyter-widgets/controls",
          "model_module_version": "1.5.0",
          "model_name": "HTMLModel",
          "state": {
            "_dom_classes": [],
            "_model_module": "@jupyter-widgets/controls",
            "_model_module_version": "1.5.0",
            "_model_name": "HTMLModel",
            "_view_count": null,
            "_view_module": "@jupyter-widgets/controls",
            "_view_module_version": "1.5.0",
            "_view_name": "HTMLView",
            "description": "",
            "description_tooltip": null,
            "layout": "IPY_MODEL_693e87a67f344289848ab91f6d1016da",
            "placeholder": "​",
            "style": "IPY_MODEL_1affd20790d54f7cbdc7f42487b222f3",
            "value": "config.json: 100%"
          }
        },
        "b276661282fe4e1996b37a3df6724c01": {
          "model_module": "@jupyter-widgets/base",
          "model_module_version": "1.2.0",
          "model_name": "LayoutModel",
          "state": {
            "_model_module": "@jupyter-widgets/base",
            "_model_module_version": "1.2.0",
            "_model_name": "LayoutModel",
            "_view_count": null,
            "_view_module": "@jupyter-widgets/base",
            "_view_module_version": "1.2.0",
            "_view_name": "LayoutView",
            "align_content": null,
            "align_items": null,
            "align_self": null,
            "border": null,
            "bottom": null,
            "display": null,
            "flex": null,
            "flex_flow": null,
            "grid_area": null,
            "grid_auto_columns": null,
            "grid_auto_flow": null,
            "grid_auto_rows": null,
            "grid_column": null,
            "grid_gap": null,
            "grid_row": null,
            "grid_template_areas": null,
            "grid_template_columns": null,
            "grid_template_rows": null,
            "height": null,
            "justify_content": null,
            "justify_items": null,
            "left": null,
            "margin": null,
            "max_height": null,
            "max_width": null,
            "min_height": null,
            "min_width": null,
            "object_fit": null,
            "object_position": null,
            "order": null,
            "overflow": null,
            "overflow_x": null,
            "overflow_y": null,
            "padding": null,
            "right": null,
            "top": null,
            "visibility": null,
            "width": null
          }
        },
        "b6884982140a45e99b654c7f403332db": {
          "model_module": "@jupyter-widgets/controls",
          "model_module_version": "1.5.0",
          "model_name": "FloatProgressModel",
          "state": {
            "_dom_classes": [],
            "_model_module": "@jupyter-widgets/controls",
            "_model_module_version": "1.5.0",
            "_model_name": "FloatProgressModel",
            "_view_count": null,
            "_view_module": "@jupyter-widgets/controls",
            "_view_module_version": "1.5.0",
            "_view_name": "ProgressView",
            "bar_style": "success",
            "description": "",
            "description_tooltip": null,
            "layout": "IPY_MODEL_f4d10c83b9e04f2d95f73b54cb44b2dd",
            "max": 570,
            "min": 0,
            "orientation": "horizontal",
            "style": "IPY_MODEL_f596f59ee4574e3e93a6a222f7c506ee",
            "value": 570
          }
        },
        "bc8f51497d044f6e9ca9542bbe2c4951": {
          "model_module": "@jupyter-widgets/base",
          "model_module_version": "1.2.0",
          "model_name": "LayoutModel",
          "state": {
            "_model_module": "@jupyter-widgets/base",
            "_model_module_version": "1.2.0",
            "_model_name": "LayoutModel",
            "_view_count": null,
            "_view_module": "@jupyter-widgets/base",
            "_view_module_version": "1.2.0",
            "_view_name": "LayoutView",
            "align_content": null,
            "align_items": null,
            "align_self": null,
            "border": null,
            "bottom": null,
            "display": null,
            "flex": null,
            "flex_flow": null,
            "grid_area": null,
            "grid_auto_columns": null,
            "grid_auto_flow": null,
            "grid_auto_rows": null,
            "grid_column": null,
            "grid_gap": null,
            "grid_row": null,
            "grid_template_areas": null,
            "grid_template_columns": null,
            "grid_template_rows": null,
            "height": null,
            "justify_content": null,
            "justify_items": null,
            "left": null,
            "margin": null,
            "max_height": null,
            "max_width": null,
            "min_height": null,
            "min_width": null,
            "object_fit": null,
            "object_position": null,
            "order": null,
            "overflow": null,
            "overflow_x": null,
            "overflow_y": null,
            "padding": null,
            "right": null,
            "top": null,
            "visibility": null,
            "width": null
          }
        },
        "be50e3d68ddb49ca8d040cc17bcc1cde": {
          "model_module": "@jupyter-widgets/base",
          "model_module_version": "1.2.0",
          "model_name": "LayoutModel",
          "state": {
            "_model_module": "@jupyter-widgets/base",
            "_model_module_version": "1.2.0",
            "_model_name": "LayoutModel",
            "_view_count": null,
            "_view_module": "@jupyter-widgets/base",
            "_view_module_version": "1.2.0",
            "_view_name": "LayoutView",
            "align_content": null,
            "align_items": null,
            "align_self": null,
            "border": null,
            "bottom": null,
            "display": null,
            "flex": null,
            "flex_flow": null,
            "grid_area": null,
            "grid_auto_columns": null,
            "grid_auto_flow": null,
            "grid_auto_rows": null,
            "grid_column": null,
            "grid_gap": null,
            "grid_row": null,
            "grid_template_areas": null,
            "grid_template_columns": null,
            "grid_template_rows": null,
            "height": null,
            "justify_content": null,
            "justify_items": null,
            "left": null,
            "margin": null,
            "max_height": null,
            "max_width": null,
            "min_height": null,
            "min_width": null,
            "object_fit": null,
            "object_position": null,
            "order": null,
            "overflow": null,
            "overflow_x": null,
            "overflow_y": null,
            "padding": null,
            "right": null,
            "top": null,
            "visibility": null,
            "width": null
          }
        },
        "bed82f1b503b4eea8eba6d8c52cdad19": {
          "model_module": "@jupyter-widgets/controls",
          "model_module_version": "1.5.0",
          "model_name": "HTMLModel",
          "state": {
            "_dom_classes": [],
            "_model_module": "@jupyter-widgets/controls",
            "_model_module_version": "1.5.0",
            "_model_name": "HTMLModel",
            "_view_count": null,
            "_view_module": "@jupyter-widgets/controls",
            "_view_module_version": "1.5.0",
            "_view_name": "HTMLView",
            "description": "",
            "description_tooltip": null,
            "layout": "IPY_MODEL_5a824b52e3934366b241f7b0ade6c1ec",
            "placeholder": "​",
            "style": "IPY_MODEL_662656de552c452f9d7c0cef3d57db1a",
            "value": " 570/570 [00:00&lt;00:00, 61.4kB/s]"
          }
        },
        "bef96cad2d0140da8e4f7396aa67354a": {
          "model_module": "@jupyter-widgets/controls",
          "model_module_version": "1.5.0",
          "model_name": "DescriptionStyleModel",
          "state": {
            "_model_module": "@jupyter-widgets/controls",
            "_model_module_version": "1.5.0",
            "_model_name": "DescriptionStyleModel",
            "_view_count": null,
            "_view_module": "@jupyter-widgets/base",
            "_view_module_version": "1.2.0",
            "_view_name": "StyleView",
            "description_width": ""
          }
        },
        "c293a6541871475c9df5079f3d4ff47c": {
          "model_module": "@jupyter-widgets/controls",
          "model_module_version": "1.5.0",
          "model_name": "HBoxModel",
          "state": {
            "_dom_classes": [],
            "_model_module": "@jupyter-widgets/controls",
            "_model_module_version": "1.5.0",
            "_model_name": "HBoxModel",
            "_view_count": null,
            "_view_module": "@jupyter-widgets/controls",
            "_view_module_version": "1.5.0",
            "_view_name": "HBoxView",
            "box_style": "",
            "children": [
              "IPY_MODEL_0d22dade8c854eeda59d556fb2ee525a",
              "IPY_MODEL_752b1f91e0b14c61b1beec841a9607af",
              "IPY_MODEL_a2360e8508f247b2a84acc25f0b3e373"
            ],
            "layout": "IPY_MODEL_0727f554ee1c4a0aa1bcc516bfde4162"
          }
        },
        "c5a012fca20f485e9e76777e0b8199c2": {
          "model_module": "@jupyter-widgets/controls",
          "model_module_version": "1.5.0",
          "model_name": "ProgressStyleModel",
          "state": {
            "_model_module": "@jupyter-widgets/controls",
            "_model_module_version": "1.5.0",
            "_model_name": "ProgressStyleModel",
            "_view_count": null,
            "_view_module": "@jupyter-widgets/base",
            "_view_module_version": "1.2.0",
            "_view_name": "StyleView",
            "bar_color": null,
            "description_width": ""
          }
        },
        "cc0ba8e404314539bf3550e2969c8262": {
          "model_module": "@jupyter-widgets/controls",
          "model_module_version": "1.5.0",
          "model_name": "HTMLModel",
          "state": {
            "_dom_classes": [],
            "_model_module": "@jupyter-widgets/controls",
            "_model_module_version": "1.5.0",
            "_model_name": "HTMLModel",
            "_view_count": null,
            "_view_module": "@jupyter-widgets/controls",
            "_view_module_version": "1.5.0",
            "_view_name": "HTMLView",
            "description": "",
            "description_tooltip": null,
            "layout": "IPY_MODEL_1dcaeb43762b44efa27ac2387a459b64",
            "placeholder": "​",
            "style": "IPY_MODEL_91554d6f2b7a423a967f136390d1a3cf",
            "value": " 466k/466k [00:00&lt;00:00, 1.01MB/s]"
          }
        },
        "d2fe0c143a244a8f8679409655f8b0ca": {
          "model_module": "@jupyter-widgets/base",
          "model_module_version": "1.2.0",
          "model_name": "LayoutModel",
          "state": {
            "_model_module": "@jupyter-widgets/base",
            "_model_module_version": "1.2.0",
            "_model_name": "LayoutModel",
            "_view_count": null,
            "_view_module": "@jupyter-widgets/base",
            "_view_module_version": "1.2.0",
            "_view_name": "LayoutView",
            "align_content": null,
            "align_items": null,
            "align_self": null,
            "border": null,
            "bottom": null,
            "display": null,
            "flex": null,
            "flex_flow": null,
            "grid_area": null,
            "grid_auto_columns": null,
            "grid_auto_flow": null,
            "grid_auto_rows": null,
            "grid_column": null,
            "grid_gap": null,
            "grid_row": null,
            "grid_template_areas": null,
            "grid_template_columns": null,
            "grid_template_rows": null,
            "height": null,
            "justify_content": null,
            "justify_items": null,
            "left": null,
            "margin": null,
            "max_height": null,
            "max_width": null,
            "min_height": null,
            "min_width": null,
            "object_fit": null,
            "object_position": null,
            "order": null,
            "overflow": null,
            "overflow_x": null,
            "overflow_y": null,
            "padding": null,
            "right": null,
            "top": null,
            "visibility": null,
            "width": null
          }
        },
        "d766ce965a9b43bb9fece3e0f696a51d": {
          "model_module": "@jupyter-widgets/controls",
          "model_module_version": "1.5.0",
          "model_name": "DescriptionStyleModel",
          "state": {
            "_model_module": "@jupyter-widgets/controls",
            "_model_module_version": "1.5.0",
            "_model_name": "DescriptionStyleModel",
            "_view_count": null,
            "_view_module": "@jupyter-widgets/base",
            "_view_module_version": "1.2.0",
            "_view_name": "StyleView",
            "description_width": ""
          }
        },
        "debf3f8a08d440738f5fc65ee407b697": {
          "model_module": "@jupyter-widgets/controls",
          "model_module_version": "1.5.0",
          "model_name": "FloatProgressModel",
          "state": {
            "_dom_classes": [],
            "_model_module": "@jupyter-widgets/controls",
            "_model_module_version": "1.5.0",
            "_model_name": "FloatProgressModel",
            "_view_count": null,
            "_view_module": "@jupyter-widgets/controls",
            "_view_module_version": "1.5.0",
            "_view_name": "ProgressView",
            "bar_style": "success",
            "description": "",
            "description_tooltip": null,
            "layout": "IPY_MODEL_0a0daf34e18945779a552428706f9de0",
            "max": 231508,
            "min": 0,
            "orientation": "horizontal",
            "style": "IPY_MODEL_28e0a29a22a14a4c80c116e69a3c488a",
            "value": 231508
          }
        },
        "ea092808b28349a6977d2008b28cb94a": {
          "model_module": "@jupyter-widgets/controls",
          "model_module_version": "1.5.0",
          "model_name": "ProgressStyleModel",
          "state": {
            "_model_module": "@jupyter-widgets/controls",
            "_model_module_version": "1.5.0",
            "_model_name": "ProgressStyleModel",
            "_view_count": null,
            "_view_module": "@jupyter-widgets/base",
            "_view_module_version": "1.2.0",
            "_view_name": "StyleView",
            "bar_color": null,
            "description_width": ""
          }
        },
        "f4d10c83b9e04f2d95f73b54cb44b2dd": {
          "model_module": "@jupyter-widgets/base",
          "model_module_version": "1.2.0",
          "model_name": "LayoutModel",
          "state": {
            "_model_module": "@jupyter-widgets/base",
            "_model_module_version": "1.2.0",
            "_model_name": "LayoutModel",
            "_view_count": null,
            "_view_module": "@jupyter-widgets/base",
            "_view_module_version": "1.2.0",
            "_view_name": "LayoutView",
            "align_content": null,
            "align_items": null,
            "align_self": null,
            "border": null,
            "bottom": null,
            "display": null,
            "flex": null,
            "flex_flow": null,
            "grid_area": null,
            "grid_auto_columns": null,
            "grid_auto_flow": null,
            "grid_auto_rows": null,
            "grid_column": null,
            "grid_gap": null,
            "grid_row": null,
            "grid_template_areas": null,
            "grid_template_columns": null,
            "grid_template_rows": null,
            "height": null,
            "justify_content": null,
            "justify_items": null,
            "left": null,
            "margin": null,
            "max_height": null,
            "max_width": null,
            "min_height": null,
            "min_width": null,
            "object_fit": null,
            "object_position": null,
            "order": null,
            "overflow": null,
            "overflow_x": null,
            "overflow_y": null,
            "padding": null,
            "right": null,
            "top": null,
            "visibility": null,
            "width": null
          }
        },
        "f596f59ee4574e3e93a6a222f7c506ee": {
          "model_module": "@jupyter-widgets/controls",
          "model_module_version": "1.5.0",
          "model_name": "ProgressStyleModel",
          "state": {
            "_model_module": "@jupyter-widgets/controls",
            "_model_module_version": "1.5.0",
            "_model_name": "ProgressStyleModel",
            "_view_count": null,
            "_view_module": "@jupyter-widgets/base",
            "_view_module_version": "1.2.0",
            "_view_name": "StyleView",
            "bar_color": null,
            "description_width": ""
          }
        },
        "f9af8dd81d814619ac2bef604c525b37": {
          "model_module": "@jupyter-widgets/controls",
          "model_module_version": "1.5.0",
          "model_name": "DescriptionStyleModel",
          "state": {
            "_model_module": "@jupyter-widgets/controls",
            "_model_module_version": "1.5.0",
            "_model_name": "DescriptionStyleModel",
            "_view_count": null,
            "_view_module": "@jupyter-widgets/base",
            "_view_module_version": "1.2.0",
            "_view_name": "StyleView",
            "description_width": ""
          }
        },
        "ff680cff7e56481ab5c58abe4022c3e8": {
          "model_module": "@jupyter-widgets/base",
          "model_module_version": "1.2.0",
          "model_name": "LayoutModel",
          "state": {
            "_model_module": "@jupyter-widgets/base",
            "_model_module_version": "1.2.0",
            "_model_name": "LayoutModel",
            "_view_count": null,
            "_view_module": "@jupyter-widgets/base",
            "_view_module_version": "1.2.0",
            "_view_name": "LayoutView",
            "align_content": null,
            "align_items": null,
            "align_self": null,
            "border": null,
            "bottom": null,
            "display": null,
            "flex": null,
            "flex_flow": null,
            "grid_area": null,
            "grid_auto_columns": null,
            "grid_auto_flow": null,
            "grid_auto_rows": null,
            "grid_column": null,
            "grid_gap": null,
            "grid_row": null,
            "grid_template_areas": null,
            "grid_template_columns": null,
            "grid_template_rows": null,
            "height": null,
            "justify_content": null,
            "justify_items": null,
            "left": null,
            "margin": null,
            "max_height": null,
            "max_width": null,
            "min_height": null,
            "min_width": null,
            "object_fit": null,
            "object_position": null,
            "order": null,
            "overflow": null,
            "overflow_x": null,
            "overflow_y": null,
            "padding": null,
            "right": null,
            "top": null,
            "visibility": null,
            "width": null
          }
        }
      }
    }
  },
  "nbformat": 4,
  "nbformat_minor": 0
}
